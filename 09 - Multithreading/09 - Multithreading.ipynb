{
 "cells": [
  {
   "cell_type": "markdown",
   "metadata": {
    "collapsed": false
   },
   "source": [
    "# Многонишково програмиране с Python"
   ]
  },
  {
   "cell_type": "markdown",
   "metadata": {
    "collapsed": false
   },
   "source": [
    "План на лекцията:\n",
    "- Скалиране от 1 към много\n",
    "- Какво е нишка ?\n",
    "- Работа с нишки (Threads)\n",
    "- Python GIL\n",
    "- Threads, round 2\n",
    "- \"Многопроцесност\"\n",
    "- asyncio\n",
    "- [ ] Примери"
   ]
  },
  {
   "cell_type": "markdown",
   "metadata": {},
   "source": [
    "## Скалиране от 1 към много"
   ]
  },
  {
   "cell_type": "markdown",
   "metadata": {},
   "source": [
    "Нека се върнем към едни по-прости времена - когато процесорът (да го наречем \"v1\") може да изпълнява една-единствена задача. Нека освен този прост процесор, да имаме и набор от задачи - `[t1, t2, t3]`.\n",
    "Процесорът взима първата задача, изпълнява я, взема втората задача, изпълнява нея, и така докато не мине през всички задачи.\n",
    "\n",
    "![Single core](https://raw.githubusercontent.com/fmipython/PythonCourse2023/master/09%20-%20Multithreading/assets/t1.jpg)"
   ]
  },
  {
   "cell_type": "markdown",
   "metadata": {},
   "source": [
    "Нека си представим, че задачата `t2` отнема повече време, защото трябва да изчака за някакъв ресурс (например файлова операция). В това време, нашия процесор v1 чака, и не прави никакви изчисления. Това със сигурност не е оптимално."
   ]
  },
  {
   "cell_type": "markdown",
   "metadata": {},
   "source": [
    "### Какво е конкурентност ?"
   ]
  },
  {
   "cell_type": "markdown",
   "metadata": {},
   "source": [
    "Нека да вземем един нов, по-добър процесор (\"v2\"), който може да разпознае кога даден процес чака за ресурс, и в такава ситуация да даде приоритет на друг процес. \n",
    "В тази ситуация, когато `t2` чака за ресурс, процесорът може да пусне `t3` по-рано. Когато ресурсът на `t2` стане наличен, процесорът ще спре `t3`, и ще даде време обратно на `t2`.   "
   ]
  },
  {
   "cell_type": "markdown",
   "metadata": {},
   "source": [
    "![](https://raw.githubusercontent.com/fmipython/PythonCourse2023/master/09%20-%20Multithreading/assets/t2.jpg)"
   ]
  },
  {
   "cell_type": "markdown",
   "metadata": {},
   "source": [
    "Това изпълнение, ни позволява да изпълним задачите си по-бързо - вместо да чакаме `t2` да приключи, това време в чакане може да се използва за изпълнението на `t3`. \n",
    "\n",
    "Този модел на изпълнение, в който изпълнението на следващата задача не е нужно да изчаква приключването на текущата, се нарича \"конкурентно изпълнение\".\n",
    "Важно е да се отбележи, че конкурентното изпълнение не е едновременно (паралелно) изпълнение на задачи - продължаваме да изпълняваме по една задача в даден момент, просто редът им не е детерминиран. Ние не знаем в какъв ред ще се изпълнят задачите и коя от тях ще бъде изпълнена първа."
   ]
  },
  {
   "cell_type": "markdown",
   "metadata": {},
   "source": [
    "### Какво е паралелизъм ?"
   ]
  },
  {
   "cell_type": "markdown",
   "metadata": {},
   "source": [
    "Колкото и оптимално да е раздаването на процесорно време от нашия v2 процесор, той все още не може да прави паралелни изчисления. Затова нека въведем нашия \"v3\" процесор - той ще е два v2 процесора \"залепени\" един за друг. Това би означавало, че нашия v3 процесор може да изпълнява две задачи едновременно (паралелно).  "
   ]
  },
  {
   "cell_type": "markdown",
   "metadata": {},
   "source": [
    "### Модерните процесори"
   ]
  },
  {
   "cell_type": "markdown",
   "metadata": {},
   "source": [
    "Модерните процесори са изградени от няколко ядра (8, 10, 16), които могат да изпълняват различни задачи паралелно. В идеалния свят, ако нашата задача отнема `t` време на 1 ядро, то на `n` ядра, би трябвало да отнеме `t/n` време."
   ]
  },
  {
   "cell_type": "markdown",
   "metadata": {},
   "source": [
    "## Какво е нишка ?\n"
   ]
  },
  {
   "cell_type": "markdown",
   "metadata": {},
   "source": [
    "Нишката може да бъде разглеждана като най-малката смислена поредица от инструкции, които да бъдат изпълнени. Един процес съдържа една или повече нишки. \n",
    "Нишките могат да комуникират една с друга, с помощта на споделена памет или с т.нар. канали. \n",
    "\n",
    "Съществуват два вида нишки - нишки на ядрото (kernel threads) и потребителски нишки (user threads). Нишките на ядрото са менажирани от kernel-а - той се грижи за предаването на изпълнението от една нишка на друга. Kernel нишките споделят една и съща памет и файлови ресурси. Всяка нишка обаче има собствен стек, копие на регистрите и специална памет за конкретната нишка.\n",
    "\n",
    "User нишките (наричани още \"зелени\" нишки, green threads) се управляват на ниво потребителски процес. Ядрото на ОС не знае за тяхното съществуване. Факта, че те се оправляват от потребителски процеси, прави предаването на контрола между всяка от тях евтина операция (от гледна точка на kernel-а, няма смяна на изпълняващата се нишка, съответно няма context switch). Главния недостатък на user нишките е при изпълнението на блокиращи операции (най-често свързани с IO операции) - при такава операция, вместо да се блокира само една нишка, се блокира целия процес. "
   ]
  },
  {
   "cell_type": "markdown",
   "metadata": {},
   "source": [
    "Съществуват три модела за работа с нишки, определяни от съотношението на брой kernel threads към user threads\n",
    "\n",
    "- 1:1 - в този модел, на всяка нишка създадена от потребителя съотвества на kernel нишка\n",
    "- N:1 - в този модел, всяка нишка създадена от потребителя се съпоставя към една kernel нишка\n",
    "- M:N - в този модел, M на брой потребителски нишки се съпоставят към N на брой kernel нишки"
   ]
  },
  {
   "cell_type": "markdown",
   "metadata": {},
   "source": [
    "## Работа с нишки (Threads)"
   ]
  },
  {
   "cell_type": "markdown",
   "metadata": {},
   "source": [
    "За работа с нишки в Python използваме библиотеката `threading`. Тя ни предоставя различни инструменти за стартиране, синхронизиране и обща работа с нишки."
   ]
  },
  {
   "cell_type": "markdown",
   "metadata": {},
   "source": [
    "Основният клас с който ще работим, е класът `Thread`. Той има за цел да се погрижи за изпълнението на дадено парче питонски код, в отделна нишка. Можем да зададем кода, който искаме да изпълним по два начин - като `Callable` обект, подаден на конструктора на `Thread`, или като създадем собствен клас, който да наследи `Thread` и да презапишем `run` метода. "
   ]
  },
  {
   "cell_type": "markdown",
   "metadata": {},
   "source": [
    "За да стартираме нишка, трябва да извикаме `start` метода - той има за цел да подготви нова нишка, в която да бъде изпълнено съдържанието на `run` метода."
   ]
  },
  {
   "cell_type": "code",
   "execution_count": 10,
   "metadata": {},
   "outputs": [
    {
     "name": "stdout",
     "output_type": "stream",
     "text": [
      "Thread with a Callable in the init\n",
      "Custom Thread class\n"
     ]
    }
   ],
   "source": [
    "from threading import Thread\n",
    "\n",
    "def hi():\n",
    "    print(\"Thread with a Callable in the init\")\n",
    "\n",
    "t1 = Thread(target=hi)\n",
    "t1.start()\n",
    "\n",
    "class MyThread(Thread):\n",
    "    def run(self):\n",
    "        print(\"Custom Thread class\")\n",
    "\n",
    "t2 = MyThread()\n",
    "t2.start()"
   ]
  },
  {
   "cell_type": "markdown",
   "metadata": {},
   "source": [
    "Тук е важно да се отбележи, че когато наследяваме от `Thread`, не трябва да предефинираме никакви други методи, освен `__init__` и `run`. Можем да добавяме нови методи, но не трябва да променяме поведението на останалите методи в `Thread`. "
   ]
  },
  {
   "cell_type": "code",
   "execution_count": 12,
   "metadata": {},
   "outputs": [
    {
     "name": "stdout",
     "output_type": "stream",
     "text": [
      "The early bird gets the worm\n"
     ]
    },
    {
     "name": "stdout",
     "output_type": "stream",
     "text": [
      "Overslept a bit... hi\n"
     ]
    }
   ],
   "source": [
    "from threading import Thread\n",
    "from time import sleep\n",
    "\n",
    "def delayed_hi():\n",
    "    sleep(2)\n",
    "    print(\"Overslept a bit... hi\")\n",
    "\n",
    "t1 = Thread(target=delayed_hi)\n",
    "t1.start()\n",
    "print(\"The early bird gets the worm\")"
   ]
  },
  {
   "cell_type": "markdown",
   "metadata": {},
   "source": [
    "В горния пример, изпълнението на програмата продължава напред със следващите редове код. Програмата ни приключва тогава, когато всички нишки за приключили работа.\n",
    "\n",
    "Ако искаме да изчакаме дадена нишка да приключи преди да продължим с изпълнението на кода, можем да използваме метода `join`."
   ]
  },
  {
   "cell_type": "code",
   "execution_count": 32,
   "metadata": {},
   "outputs": [
    {
     "name": "stdout",
     "output_type": "stream",
     "text": [
      "The thread has started\n",
      "I want to wait for it to end\n",
      "I'm a thread\n",
      "The thread has finished\n"
     ]
    }
   ],
   "source": [
    "from threading import Thread\n",
    "from time import sleep\n",
    "\n",
    "def delayed_hi():\n",
    "    sleep(1)\n",
    "    print(\"I'm a thread\")\n",
    "\n",
    "t1 = Thread(target=delayed_hi)\n",
    "t1.start()\n",
    "\n",
    "print(\"The thread has started\")\n",
    "print(\"I want to wait for it to end\")\n",
    "t1.join()  # Comment this, to see the change\n",
    "print(\"The thread has finished\")"
   ]
  },
  {
   "cell_type": "markdown",
   "metadata": {},
   "source": [
    "Методът `join` спира изпълненето на кода, докато нишката не приключи работата си или не срещне `Exception`. Възможно е да подадем `timeout` параметър на `join` - той индикира колко време да изчакаме нишката да приключи. Важно е да отбележим, че след изтичането на `timeout` параметъра, нишката може да продължи да работи. С методът `is_alive` можем да проверим дали дадена нишка все още работи."
   ]
  },
  {
   "cell_type": "code",
   "execution_count": 34,
   "metadata": {},
   "outputs": [
    {
     "name": "stdout",
     "output_type": "stream",
     "text": [
      ">Going to sleep\n",
      "Is the thread working ? True\n",
      "Let's give it some time\n",
      "Time to get up !\n",
      "Is the thread working ? True\n",
      ">Did a really good nap\n",
      "What about now ? False\n"
     ]
    }
   ],
   "source": [
    "from threading import Thread\n",
    "from time import sleep \n",
    "\n",
    "def sleepy_thread():\n",
    "    print(\">Going to sleep\")\n",
    "    sleep(20)\n",
    "    print(\">Did a really good nap\")\n",
    "\n",
    "t1 = Thread(target=sleepy_thread)\n",
    "t1.start()\n",
    "\n",
    "print(f\"Is the thread working ? {t1.is_alive()}\")\n",
    "\n",
    "print(\"Let's give it some time\")\n",
    "sleep(2)\n",
    "\n",
    "print(\"Time to get up !\")\n",
    "t1.join(timeout=3)\n",
    "\n",
    "print(f\"Is the thread working ? {t1.is_alive()}\")\n",
    "t1.join()\n",
    "\n",
    "print(f\"What about now ? {t1.is_alive()}\")"
   ]
  },
  {
   "cell_type": "markdown",
   "metadata": {},
   "source": [
    "Друга важна особеност на `Thread`, е че ако нашата функция връща някакъв резутлат, той няма да ни бъде върнат, ако функцията се изпълнява през thread."
   ]
  },
  {
   "cell_type": "code",
   "execution_count": 35,
   "metadata": {},
   "outputs": [
    {
     "name": "stdout",
     "output_type": "stream",
     "text": [
      "res=None, type(res)=<class 'NoneType'>\n",
      "res=None, type(res)=<class 'NoneType'>\n"
     ]
    }
   ],
   "source": [
    "from threading import Thread\n",
    "\n",
    "def return_a_value():\n",
    "    return 5\n",
    "\n",
    "t1 = Thread(target=return_a_value)\n",
    "\n",
    "res = t1.start()\n",
    "print(f\"{res=}, {type(res)=}\")\n",
    "\n",
    "res = t1.join()\n",
    "print(f\"{res=}, {type(res)=}\")"
   ]
  },
  {
   "cell_type": "markdown",
   "metadata": {},
   "source": [
    "Нека разгледаме следния практически пример - имаме следната функция, която изчислява (до някаква степен) безкрайна сума. Като пример, ще вземем следната сума  $$ \\sum_{k=0}^{\\infty} \\frac{99^k}{(99(k+1))^{97}}  $$\n",
    "\n",
    "Можем да напишеш функция, която изчислява част от реда - с начално $ k_{start} $ и крайно $ k_{end} $"
   ]
  },
  {
   "cell_type": "code",
   "execution_count": 34,
   "metadata": {},
   "outputs": [],
   "source": [
    "import math\n",
    "\n",
    "def calculate_partial_sum(start: int, end: int) -> int:\n",
    "    sum = 0\n",
    "    for k in range(start, end + 1):\n",
    "        numerator = (99 ** k)\n",
    "        denominator = (99 * (k+1)) ** 97\n",
    "        sum += numerator // denominator\n",
    "    \n",
    "    return sum"
   ]
  },
  {
   "cell_type": "markdown",
   "metadata": {},
   "source": [
    "Нека изчислим първите 24000 члена на този ред"
   ]
  },
  {
   "cell_type": "code",
   "execution_count": 50,
   "metadata": {},
   "outputs": [
    {
     "name": "stdout",
     "output_type": "stream",
     "text": [
      "The call took 13.06 seconds\n"
     ]
    }
   ],
   "source": [
    "import time\n",
    "\n",
    "start = time.time()\n",
    "calculate_partial_sum(0, 24000)\n",
    "end = time.time()\n",
    "\n",
    "print(f'The call took {(end-start):.2f} seconds')"
   ]
  },
  {
   "cell_type": "markdown",
   "metadata": {},
   "source": [
    "Забелязваме, че кода ни отнема ~13 секунди да пресметне първите 24000 члена да реда. В този си вариант, членове на реда не зависят един от друг - това ни позволява да ги пресмятаме на интервали, които можем да пуснем на няколко нишки.\n",
    "\n",
    "Нека като първи пример пуснем две нишки - едната да изчисли първите 12000 члена, а втората, останалите."
   ]
  },
  {
   "cell_type": "code",
   "execution_count": 51,
   "metadata": {},
   "outputs": [
    {
     "name": "stdout",
     "output_type": "stream",
     "text": [
      "The 2 threads took 14.82 seconds\n"
     ]
    }
   ],
   "source": [
    "import time\n",
    "from threading import Thread\n",
    "\n",
    "t1 = Thread(target=calculate_partial_sum, args=(0, 12000))\n",
    "t2 = Thread(target=calculate_partial_sum, args=(12001, 24000))\n",
    "\n",
    "start = time.time()\n",
    "t1.start()\n",
    "t2.start()\n",
    "\n",
    "while t1.is_alive() or t2.is_alive():\n",
    "    time.sleep(0.1)\n",
    "\n",
    "end = time.time()\n",
    "print(f'The 2 threads took {(end-start):.2f} seconds')"
   ]
  },
  {
   "cell_type": "markdown",
   "metadata": {},
   "source": [
    "Забелязваме, че на две нишки, кодът ни се изпълни за ~15 секунди - изненада. Нека пробваме на 4 нишки, каква е ситуацията."
   ]
  },
  {
   "cell_type": "code",
   "execution_count": 52,
   "metadata": {},
   "outputs": [
    {
     "name": "stdout",
     "output_type": "stream",
     "text": [
      "The 4 threads took 21.37 seconds\n"
     ]
    }
   ],
   "source": [
    "import time\n",
    "from threading import Thread\n",
    "\n",
    "t1 = Thread(target=calculate_partial_sum, args=(0, 6000))\n",
    "t2 = Thread(target=calculate_partial_sum, args=(6001, 12000))\n",
    "t3 = Thread(target=calculate_partial_sum, args=(12001, 18000))\n",
    "t4 = Thread(target=calculate_partial_sum, args=(18001, 24000))\n",
    "\n",
    "start = time.time()\n",
    "t1.start()\n",
    "t2.start()\n",
    "t3.start()\n",
    "t4.start()\n",
    "\n",
    "while t1.is_alive() or t2.is_alive() or t3.is_alive() or t4.is_alive():\n",
    "    time.sleep(0.1)\n",
    "\n",
    "end = time.time()\n",
    "print(f'The 4 threads took {(end-start):.2f} seconds')"
   ]
  },
  {
   "cell_type": "markdown",
   "metadata": {},
   "source": [
    "С 4 нишки, нещата стават още по-бавни... Какво се случва ?"
   ]
  },
  {
   "cell_type": "markdown",
   "metadata": {},
   "source": [
    "## Python GIL"
   ]
  },
  {
   "cell_type": "markdown",
   "metadata": {},
   "source": [
    "Една от особенностите на Python, е т.нар. global interpreter lock (GIL) - накратко, само една нишка може да работи с интерпретатора на Python в даден момент. \n",
    "Това е направено с цел, да се реши проблема с промяната на променлива от една нишка, докато друга я достъпва. (По-конкретно, проблемът може да се появи, когато дадена памет трябва да се освободи, след като в едната нишка се стига до порция от кода, в който променливата вече не се използва).\n",
    "\n",
    "Съществуването на GIL в Python улеснява писането на код - нашия код винаги е thread-safe (няма как две нишки да се борят за един и същ ресурс). Освен това, GIL позволява използването на C библиотеки, които не са предвидени за работа в многонишков режим."
   ]
  },
  {
   "cell_type": "markdown",
   "metadata": {},
   "source": [
    "Наличието на GIL в Python обаче означава, че нашия \"многонишков\" код всъщност не е многонишков - да, ние стартираме няколко нишки, но те се изпълняват конкурентно, а не паралелно. На практика това означава, че при задачи, в които разчитаме единствено на операциите на процесора, кодът ни ще се държи все едно се изпълнява на една нишка. \n",
    "\n",
    "Това обаче е вярно за задачи, които са изцяло зависими от процесора - както казахме по-горе, понякога нашите задачи трябва да \"чакат\" за някакъв ресурс (например файл) - тогава интерпретатора ще отнеме контрола на чакащата нишка, и ще го предаде на следвщата нишка чакаща време за изпълнение. На практика това означава, че използването на нишки в Python би донесло подобрение във времето за изпълнение, независимо от GIL. \n",
    "\n",
    "Ситуации в които това би било вярно, е когато работим с GUI - през повечето време нашата програма няма да прави CPU изчисления, и активната нишка ще е тази, върху която се изпълнява графичния интерфейс. Друг пример, е когато имаме задачи с много IO операции - писане или четене от файлове."
   ]
  },
  {
   "cell_type": "markdown",
   "metadata": {},
   "source": [
    "Ако искате да научите повече детайли за GIL, може да разгледате [тази](https://realpython.com/python-gil/) статия, или [този](https://www.youtube.com/watch?v=Obt-vMVdM8s) клип."
   ]
  },
  {
   "cell_type": "markdown",
   "metadata": {},
   "source": [
    "## Threads, round 2"
   ]
  },
  {
   "cell_type": "markdown",
   "metadata": {},
   "source": [
    "Освен начини за създаване на нишки, в `threading` библиотеката се намират и полезни инструменти за синхронизация между нишки. Синхронизацията между нишки представлява механизми, които осигуряват правилната работа със споделени ресурси между няколко нишки."
   ]
  },
  {
   "cell_type": "markdown",
   "metadata": {},
   "source": [
    "### Семафори"
   ]
  },
  {
   "cell_type": "markdown",
   "metadata": {},
   "source": [
    "Първият обект който ще разгледаме, е семафорът. Семафорът съдържа брояч, който ако е по-голям от 0, позволява на дадена нишка да влезе в т.нар. критична секция (да достъпи споделен ресурс между нишки). С влизането в тази критична секция на една нишка, брояча се намаля с 1. Когато една нишка излезе от критичната секция \"връща\" семафора (увеличава неговия брояч с 1). Ако друга нишка стигне до тази критична секция, и брояча на семафора е 0, нишката ще трябва да изчака докато брояча е отново по-голям от 0. \n",
    "\n",
    "В Python, семафора е реализиран в `Semaphore` класа. Той съдържа два основни метода - `acquire` и `release`. `acquire` метода проверява дали брояча е със стойност по-голяма от 0. Ако е така, намалява брояча с 1 и продължава напред. Ако брояча обаче е със стойност 0, изчаква докато брояча не стане > 1. `release` метода пък увеличава стойността на брояча с 1."
   ]
  },
  {
   "cell_type": "markdown",
   "metadata": {},
   "source": [
    "Ще разгледаме следния пример - имаме две нишки, всяка от която ще пише в общ списък. За да гарантираме, че във всеки даден момент само една нишка ще пише в списъка, ще използваме семафор. "
   ]
  },
  {
   "cell_type": "code",
   "execution_count": 8,
   "metadata": {},
   "outputs": [
    {
     "name": "stdout",
     "output_type": "stream",
     "text": [
      "Waiting to write in the list\n",
      "Wrote successfully in the list\n",
      "Waiting to write in the list\n",
      "Wrote successfully in the list\n",
      "[1, 2]\n"
     ]
    }
   ],
   "source": [
    "import threading\n",
    "\n",
    "def add_another_item_to_list(item: int, items: list[int], semaphore: threading.Semaphore):\n",
    "    print(\"Waiting to write in the list\")\n",
    "\n",
    "    semaphore.acquire()\n",
    "    items.append(item)\n",
    "    semaphore.release()\n",
    "\n",
    "    print(\"Wrote successfully in the list\")\n",
    "\n",
    "semaphore = threading.Semaphore(1)  # Стойността подадена в конструктора е началната стойност на брояча на семафора\n",
    "items = []\n",
    "t1 = threading.Thread(target=add_another_item_to_list, args=(1, items, semaphore))\n",
    "t2 = threading.Thread(target=add_another_item_to_list, args=(2, items, semaphore))\n",
    "\n",
    "t1.start()\n",
    "t2.start()\n",
    "\n",
    "print(items)\n"
   ]
  },
  {
   "cell_type": "markdown",
   "metadata": {},
   "source": [
    "Можем да използваме семафори и да подсигурим, че една нишка ще се изпълни преди която и да е друга. Нека този пъти имаме 3 нишки, и искаме да подсигурим, че нишка 1 ще се изпълни винаги преди 2 и 3."
   ]
  },
  {
   "cell_type": "code",
   "execution_count": 31,
   "metadata": {},
   "outputs": [
    {
     "name": "stdout",
     "output_type": "stream",
     "text": [
      "Waiting to write 3 in the list\n",
      "Waiting to write 2 in the list\n",
      "Waiting to write 1 in the list\n",
      "Successfully wrote 1 in the list\n",
      "Successfully wrote 3 in the list\n",
      "Successfully wrote 2 in the list\n",
      "[1, 3, 2]\n"
     ]
    }
   ],
   "source": [
    "import random\n",
    "import threading\n",
    "\n",
    "def add_another_item_to_list(item: int, items: list[int], semaphore: threading.Semaphore, is_first_thread: bool = False):\n",
    "    print(f\"Waiting to write {item} in the list\")\n",
    "\n",
    "    if not is_first_thread:\n",
    "        semaphore.acquire()\n",
    "\n",
    "    items.append(item)\n",
    "    semaphore.release()\n",
    "\n",
    "    print(f\"Successfully wrote {item} in the list\")\n",
    "\n",
    "semaphore = threading.Semaphore(0)  # Стойността подадена в конструктора е началната стойност на брояча на семафора\n",
    "items = []\n",
    "\n",
    "t1 = threading.Thread(target=add_another_item_to_list, args=(1, items, semaphore, True))\n",
    "t2 = threading.Thread(target=add_another_item_to_list, args=(2, items, semaphore))\n",
    "t3 = threading.Thread(target=add_another_item_to_list, args=(3, items, semaphore))\n",
    "\n",
    "threads = [t1, t2, t3]\n",
    "random.shuffle(threads)\n",
    "\n",
    "for thread in threads:\n",
    "    thread.start()\n",
    "\n",
    "for thread in threads:\n",
    "    thread.join()\n",
    "    \n",
    "print(items)"
   ]
  },
  {
   "cell_type": "markdown",
   "metadata": {},
   "source": [
    "### Event"
   ]
  },
  {
   "cell_type": "markdown",
   "metadata": {},
   "source": [
    "Нека разгледаме следната ситуация - имаме N на брой нишки, като първата от тях трябва да изпълни някакъв код, преди да могат да продължат другите. За цел синхронизация, трябва да имаме механизъм, чрез който всичко освен първата нишка да изчакат, докато първата нишка не каже че е приключила. \n",
    "\n",
    "Един начин по който можем да имплементираме това е със специален флаг - докато флага има стойност `False`, нашите нишки няма да се изпълняват. Когато флага стане `True`, имаме зелена светлина за изпълнението на останалите нишки.\n",
    "\n",
    "Python ни предлага удобен механизъм за решаването на този проблем - `Event` класа. Той разполага със следните методи:\n",
    "\n",
    "- `is_set()` - проверява дали флага е със стойност `True`\n",
    "- `set()` - задава стойност на флага `True`\n",
    "- `clear()` - изчиства стойноста на флага (задава се стойност `False`)\n",
    "- `wait()` - блокира текущата нишка, докато флага не стане `True`"
   ]
  },
  {
   "cell_type": "markdown",
   "metadata": {},
   "source": [
    "Нека разгледаме примера, в който една нишка ще направи някакви изчисления, ще ги запази в променлива, а друга нишка ще използват тази стойност."
   ]
  },
  {
   "cell_type": "code",
   "execution_count": 6,
   "metadata": {},
   "outputs": [
    {
     "name": "stdout",
     "output_type": "stream",
     "text": [
      "Calculating the variable...\n",
      "Starting other calculations...\n",
      "Done !\n",
      "The result is 1764\n"
     ]
    }
   ],
   "source": [
    "import threading\n",
    "import time\n",
    "\n",
    "constant = 0\n",
    "\n",
    "def calculate_variable(event_signalizer: threading.Event):\n",
    "    print(\"Calculating the variable...\")\n",
    "    time.sleep(1)\n",
    "\n",
    "    global constant\n",
    "    constant = 42\n",
    "    print(\"Done !\")\n",
    "    event_signalizer.set()\n",
    "\n",
    "def other_calculations(event_signalizer: threading.Event):\n",
    "    print(\"Starting other calculations...\")\n",
    "    event_signalizer.wait()\n",
    "    result = constant ** 2\n",
    "    print(f\"The result is {result}\")\n",
    "\n",
    "event = threading.Event()\n",
    "t1 = threading.Thread(target=calculate_variable, args=(event,))\n",
    "t2 = threading.Thread(target=other_calculations, args=(event, ))\n",
    "\n",
    "t1.start()\n",
    "t2.start()\n",
    "\n",
    "t1.join()\n",
    "t2.join()"
   ]
  },
  {
   "cell_type": "markdown",
   "metadata": {},
   "source": [
    "## \"Многопроцесност\"\n",
    "https://docs.python.org/3.10/library/multiprocessing.html#module-multiprocessing"
   ]
  },
  {
   "cell_type": "markdown",
   "metadata": {},
   "source": [
    "Един начин да заобиколим GIL-а, е да използваме множество процеси - така всяка задача има собствен Python интерпретатор (съответно и собствен GIL). `multiprocessing` библиотеката предоставя подобни на `threading` функции, чрез които можем да реализираме истинска паралелност. "
   ]
  },
  {
   "cell_type": "markdown",
   "metadata": {},
   "source": [
    "### Process"
   ]
  },
  {
   "cell_type": "markdown",
   "metadata": {},
   "source": [
    "Можем да стартираме нов процес, като инстанцираме обект от тип `Process` - той работи по същия начин както `Thread` класа."
   ]
  },
  {
   "cell_type": "code",
   "execution_count": 8,
   "metadata": {},
   "outputs": [
    {
     "name": "stdout",
     "output_type": "stream",
     "text": [
      "Hello, Lyubo\n"
     ]
    }
   ],
   "source": [
    "from multiprocessing import Process\n",
    "\n",
    "def hello_from_the_other_side(name: str):\n",
    "    print(f\"Hello, {name}\")\n",
    "\n",
    "p1 = Process(target=hello_from_the_other_side, args=(\"Lyubo\", ))\n",
    "p1.start()\n",
    "p1.join()"
   ]
  },
  {
   "cell_type": "markdown",
   "metadata": {},
   "source": [
    "Нека повторим примера с пресмятането на реда от по-горе, но този път ще използваме `Process` обекти, вместо `Thread` такива."
   ]
  },
  {
   "cell_type": "code",
   "execution_count": 9,
   "metadata": {},
   "outputs": [],
   "source": [
    "import math\n",
    "\n",
    "def calculate_partial_sum(start: int, end: int) -> int:\n",
    "    sum = 0\n",
    "    for k in range(start, end + 1):\n",
    "        numerator = (99 ** k)\n",
    "        denominator = (99 * (k+1)) ** 97\n",
    "        sum += numerator // denominator\n",
    "    \n",
    "    return sum"
   ]
  },
  {
   "cell_type": "code",
   "execution_count": 13,
   "metadata": {},
   "outputs": [
    {
     "name": "stdout",
     "output_type": "stream",
     "text": [
      "The call took 12.72 seconds\n"
     ]
    }
   ],
   "source": [
    "import time\n",
    "\n",
    "start = time.time()\n",
    "calculate_partial_sum(0, 24000)\n",
    "end = time.time()\n",
    "\n",
    "print(f'The call took {(end-start):.2f} seconds')"
   ]
  },
  {
   "cell_type": "code",
   "execution_count": 11,
   "metadata": {},
   "outputs": [
    {
     "name": "stdout",
     "output_type": "stream",
     "text": [
      "The 2 processes took 10.52 seconds\n"
     ]
    }
   ],
   "source": [
    "import time\n",
    "from multiprocessing import Process\n",
    "\n",
    "t1 = Process(target=calculate_partial_sum, args=(0, 12000))\n",
    "t2 = Process(target=calculate_partial_sum, args=(12001, 24000))\n",
    "\n",
    "start = time.time()\n",
    "t1.start()\n",
    "t2.start()\n",
    "\n",
    "while t1.is_alive() or t2.is_alive():\n",
    "    time.sleep(0.1)\n",
    "\n",
    "end = time.time()\n",
    "print(f'The 2 processes took {(end-start):.2f} seconds')"
   ]
  },
  {
   "cell_type": "code",
   "execution_count": 12,
   "metadata": {},
   "outputs": [
    {
     "name": "stdout",
     "output_type": "stream",
     "text": [
      "The 4 processes took 6.62 seconds\n"
     ]
    }
   ],
   "source": [
    "import time\n",
    "from multiprocessing import Process\n",
    "\n",
    "t1 = Process(target=calculate_partial_sum, args=(0, 6000))\n",
    "t2 = Process(target=calculate_partial_sum, args=(6001, 12000))\n",
    "t3 = Process(target=calculate_partial_sum, args=(12001, 18000))\n",
    "t4 = Process(target=calculate_partial_sum, args=(18001, 24000))\n",
    "\n",
    "start = time.time()\n",
    "t1.start()\n",
    "t2.start()\n",
    "t3.start()\n",
    "t4.start()\n",
    "\n",
    "while t1.is_alive() or t2.is_alive() or t3.is_alive() or t4.is_alive():\n",
    "    time.sleep(0.1)\n",
    "\n",
    "end = time.time()\n",
    "print(f'The 4 processes took {(end-start):.2f} seconds')"
   ]
  },
  {
   "cell_type": "markdown",
   "metadata": {},
   "source": [
    "Макар и не с много, виждаме подобрение във времето при скалирането от 1 процес на 2 процеса, и от 2 на 4 - това забавяне идва от предимно от баланса на задачите - втория процес има по-сложна задача, затова му отнема повече време."
   ]
  },
  {
   "cell_type": "markdown",
   "metadata": {},
   "source": [
    "### Комуникация между процеси"
   ]
  },
  {
   "cell_type": "markdown",
   "metadata": {},
   "source": [
    "Имаме няколко варианта за комуникация между процесите - Queue, pipe, споделена памет и т.нар. \"сървърен процес\""
   ]
  },
  {
   "cell_type": "markdown",
   "metadata": {},
   "source": [
    "#### Queue"
   ]
  },
  {
   "cell_type": "markdown",
   "metadata": {},
   "source": [
    "Можем да създадем опашка, която да бъде споделена между процеси - тя е синхронизирана, т.е. няма риск от race conditions."
   ]
  },
  {
   "cell_type": "code",
   "execution_count": 2,
   "metadata": {},
   "outputs": [
    {
     "name": "stdout",
     "output_type": "stream",
     "text": [
      "Amount of items in the Queue: 2\n",
      "Item in the Queue: 10\n",
      "Item in the Queue: 4\n"
     ]
    }
   ],
   "source": [
    "import random\n",
    "from multiprocessing import Process, Queue\n",
    "\n",
    "def put_in_the_queue(q):\n",
    "    q.put(random.randint(0, 10))\n",
    "\n",
    "q = Queue()\n",
    "p1 = Process(target=put_in_the_queue, args=(q, ))\n",
    "p2 = Process(target=put_in_the_queue, args=(q, ))\n",
    "\n",
    "p1.start()\n",
    "p2.start()\n",
    "\n",
    "p1.join()\n",
    "p2.join()\n",
    "\n",
    "print(f'Amount of items in the Queue: {q.qsize()}')\n",
    "\n",
    "while q.qsize() > 0:\n",
    "    print(f'Item in the Queue: {q.get()}')"
   ]
  },
  {
   "cell_type": "markdown",
   "metadata": {},
   "source": [
    "#### Pipe"
   ]
  },
  {
   "cell_type": "markdown",
   "metadata": {},
   "source": [
    "Вместо опашка, която е обща за всички процеси/нишки, можем да използваме \"тръба\" (пайп), свързана към два процеса/нишки. Тя позволява двупосочна комуникация между процеси. Извикването на `Pipe` ни връща два обекта - пайп през който можем да изпращаме данни, и пайп през който можем да получаваме данни. С подаване на `duplex` аргумента със стойност `True`, двата пайпа получават възможността за четене и писане.  Чрез методите `send` и `recv` може да изпращаме и получаваме съобщения по Pipe-а. `recv` блокира процеса/нишката, докато не се получи съобщение, което да се обработи."
   ]
  },
  {
   "cell_type": "code",
   "execution_count": 3,
   "metadata": {},
   "outputs": [
    {
     "name": "stdout",
     "output_type": "stream",
     "text": [
      "Sending a message\n",
      "Received a message: 42\n"
     ]
    }
   ],
   "source": [
    "import time\n",
    "from multiprocessing import Process, Pipe, connection\n",
    "\n",
    "def wait_and_send(pipe: connection.Connection):\n",
    "    print(\"Sending a message\")\n",
    "    time.sleep(1)\n",
    "    pipe.send(42)\n",
    "\n",
    "def receive_and_print(pipe: connection.Connection):\n",
    "    msg = pipe.recv()\n",
    "    print(f\"Received a message: {msg}\")\n",
    "\n",
    "send_pipe, receive_pipe = Pipe()\n",
    "p1 = Process(target=wait_and_send, args=(send_pipe, ))\n",
    "p2 = Process(target=receive_and_print, args=(receive_pipe, ))\n",
    "\n",
    "p1.start()\n",
    "p2.start()\n",
    "\n",
    "p1.join()\n",
    "p2.join()"
   ]
  },
  {
   "cell_type": "markdown",
   "metadata": {},
   "source": [
    "#### Shared memory"
   ]
  },
  {
   "cell_type": "markdown",
   "metadata": {},
   "source": [
    "Ако пък искаме да използваме директно споделена памет под някакъв вид (променлива или масив), можем да заделим така с помощта на класовете `Value` и `Array`."
   ]
  },
  {
   "cell_type": "code",
   "execution_count": 11,
   "metadata": {},
   "outputs": [
    {
     "name": "stdout",
     "output_type": "stream",
     "text": [
      "The result is 28.260000228881836\n"
     ]
    }
   ],
   "source": [
    "from multiprocessing import Process, Value\n",
    "\n",
    "def calculate_area(radius: float, pi: Value, result: Value):\n",
    "    result.value = pi.value * (radius ** 2)\n",
    "\n",
    "pi = Value('f', 3.14)\n",
    "result = Value('f')\n",
    "\n",
    "p1 = Process(target=calculate_area, args=(3, pi, result))\n",
    "p1.start()\n",
    "p1.join()\n",
    "\n",
    "print(f'The result is {result.value}')\n"
   ]
  },
  {
   "cell_type": "code",
   "execution_count": 21,
   "metadata": {},
   "outputs": [
    {
     "name": "stdout",
     "output_type": "stream",
     "text": [
      "The array contains 5 items\n",
      "3\n",
      "25\n",
      "82\n",
      "51\n",
      "96\n"
     ]
    }
   ],
   "source": [
    "import random\n",
    "from multiprocessing import Process, Array, Value\n",
    "\n",
    "def add_to_array(arr: Array, free_index: Value):\n",
    "    arr[free_index.value] = random.randint(0, 100)\n",
    "    free_index.value = free_index.value + 1\n",
    "\n",
    "free_index = Value('i', 0)\n",
    "arr = Array('i', 5)\n",
    "\n",
    "p1 = Process(target=add_to_array, args=(arr, free_index))\n",
    "p2 = Process(target=add_to_array, args=(arr, free_index))\n",
    "p3 = Process(target=add_to_array, args=(arr, free_index))\n",
    "p4 = Process(target=add_to_array, args=(arr, free_index))\n",
    "p5 = Process(target=add_to_array, args=(arr, free_index))\n",
    "\n",
    "procs = [p1, p2, p3, p4, p5]\n",
    "\n",
    "for proc in procs:\n",
    "    proc.start()\n",
    "\n",
    "for proc in procs:\n",
    "    proc.join()\n",
    "\n",
    "print(f'The array contains {len(arr)} items')\n",
    "\n",
    "for i in arr:\n",
    "    print(i)"
   ]
  },
  {
   "cell_type": "markdown",
   "metadata": {},
   "source": [
    "\n",
    "# Асинхронно програмиране с `asyncio`"
   ]
  },
  {
   "cell_type": "markdown",
   "metadata": {},
   "source": [
    "## Какво е \"асинхронно програмиране\"?\n",
    "\n",
    "Асинхронното програмиране е парадигма, която има имплементация във все повече и повече езици за програмиране (напр. C#, Swift, Javascript, ...).\n",
    "\n",
    "Идеята е проста: докато чакаме приключването на някаква [I/O операция (т.е. такава, която не е CPU-bound)](https://stackoverflow.com/a/868577) да дадем възможност на други задачи да се изпълняват. Това може да се управлява от т.нар. \"run loop\", който да върви на **една единствена нишка**.\n",
    "\n",
    "Аналогия за асинхронност от реалния свят може да бъде например една дюнерджийница. В този пример IO-bound операцията е стоплянето на храната на скарата - докато това се случва, дюнерджията (нишката) може да се заеме с други задачи - да приеме поръчки, плащания, да приготвя други поръчки и т.н. Без тази асинхронност 5 поръчки щяха да отнемат 5 пъти повече време (като игнорираме добавения overhead от плащане, слагане на салати и т.н.)."
   ]
  },
  {
   "cell_type": "markdown",
   "metadata": {},
   "source": [
    "## Какво са примери за IO операции и за CPU-bound операции?\n",
    "\n",
    "* IO операции:\n",
    "    * Четене и писане на файлове (в т.ч. бази данни)\n",
    "    * Мрежови заявки\n",
    "    * Изпълнение на команди към операционната система\n",
    "    * всичко друго, което не ангажира процесора през цялото време\n",
    "* CPU-bound операции:\n",
    "    * Математически изчисления\n",
    "    * Сортиране на списъци\n",
    "    * Джуркане на матрици\n",
    "    * всичко друго, което ангажира процесора през цялото време\n",
    "\n",
    "Асинхронното програмиране **няма как да забърза CPU-bound операциите**. За тях са необходими многонишкови решения, или конкретно в Python заради GIL - единственото решение е използването на много паралелни процеси (multiprocessing).\n"
   ]
  },
  {
   "cell_type": "markdown",
   "metadata": {},
   "source": [
    "## Какви са съставните части на асинхронното програмиране?\n",
    "\n",
    "* run loop: това е \"двигателят\" на асинхронното програмиране. Той следи за събития (напр. приключване на IO операция) и изпълнява кода, който е свързан с тях.\n",
    "* корутини (coroutines), `Task`-ове и `Future`-и: с тях дефинираме \"задачите\", които се изпълняват асинхронно:\n",
    "    * корутините са функции, които могат да бъдат спрени и продължени по време на изпълнение (подобно на генераторите в Python, но с известна разлика)\n",
    "    * `Task`-овете са обектите, които съдържат корутините и се изпълняват от run loop-а\n",
    "    * `Future`-ите е общият интерфейс за асинхронните операции\n",
    "* ключовите думи `async` и `await`:\n",
    "    * с `async` декларираме, че дадена функция е корутина (в Python също служи и за деклариране на асинхронни цикли и контекстни мениджъри)\n",
    "    * с `await` предаваме контрола на run loop-а, когато стигнем до IO операция. Изполва се само в `async` среда.\n"
   ]
  },
  {
   "cell_type": "markdown",
   "metadata": {},
   "source": [
    "## `asyncio`"
   ]
  },
  {
   "cell_type": "markdown",
   "metadata": {},
   "source": [
    "https://docs.python.org/3.10/library/asyncio.html#module-asyncio"
   ]
  },
  {
   "cell_type": "markdown",
   "metadata": {},
   "source": [
    "Асинхронното програмиране в Python е възможно във **версии >= 3.4** посредством вградения модул `asyncio` и ключовите думи `async` и `await`."
   ]
  },
  {
   "cell_type": "markdown",
   "metadata": {},
   "source": [
    "⚠️ Имайте предвид, че (особено между версии 3.4 и 3.7) има много промени в синтаксиса и функционалностите на `asyncio`, така че не вярвайте сляпо на ChatGPT или StackOverflow. Ако пише нещо от рода на `@asyncio.couroutine` или `yield from ...` - това не важи вече. Също има и промени в имената на функции и т.н. Винаги double-check-вайте в официалната документация, ако не сте сигурни за нещо."
   ]
  },
  {
   "cell_type": "markdown",
   "metadata": {},
   "source": [
    "### Корутини"
   ]
  },
  {
   "cell_type": "markdown",
   "metadata": {},
   "source": [
    "Теоретически най-коректната дефиниця на корутина е, че тя е генератор, който освен да генерира стойности, може и да получава стойности. \n",
    "\n",
    "Няма да навливаме в повече детайли от по-ниско ниво. За целите на asyncio и асинхронното програмиране можем да разглеждаме в Python корутините като функции или генератори (понеже е възможно да има и `yield` в тялото им), декларирани с `async def`, които могат да предават контрола на run loop-a (за изпълнение на други future-и докато се чака) чрез `await`."
   ]
  },
  {
   "cell_type": "markdown",
   "metadata": {},
   "source": [
    "Нека си направим един прост coroutine, който просто да чака изпълнението на някаква IO операция между два `print`-а. \n",
    "\n",
    "За простота ще използваме `asyncio.sleep`, но можете да лесно да си представете, че на негово място примерно чете огромен файл или чака отговор от сървър например."
   ]
  },
  {
   "cell_type": "code",
   "execution_count": 5,
   "metadata": {},
   "outputs": [],
   "source": [
    "import asyncio  # нужно ни е за фунциите вътре, иначе ако само пишем async и await ключови думи няма нужда от импорт"
   ]
  },
  {
   "cell_type": "code",
   "execution_count": 6,
   "metadata": {},
   "outputs": [],
   "source": [
    "async def some_coroutine():\n",
    "    print(\"Starting the operation\")\n",
    "    await asyncio.sleep(5)\n",
    "    print(\"Operation finished\")"
   ]
  },
  {
   "cell_type": "markdown",
   "metadata": {},
   "source": [
    "⚠️ Не използвайте `time.sleep` в корутини! Това ще блокира целия run loop и ще забави изпълнението на всички останали корутина. Винаги използвайте `asyncio.sleep` за асинхронно чакане."
   ]
  },
  {
   "cell_type": "markdown",
   "metadata": {},
   "source": [
    "Хубаво, пише `async` и `await`, но каква е разликата с това да ги няма?"
   ]
  },
  {
   "cell_type": "code",
   "execution_count": 7,
   "metadata": {},
   "outputs": [],
   "source": [
    "import time\n",
    "\n",
    "def some_function():\n",
    "    print(\"Starting the operation\")\n",
    "    time.sleep(5)\n",
    "    print(\"Operation finished\")"
   ]
  },
  {
   "cell_type": "markdown",
   "metadata": {},
   "source": [
    "Ако просто изчакваме корутините подред, няма да има разлика във времето за изпълнение:"
   ]
  },
  {
   "cell_type": "code",
   "execution_count": null,
   "metadata": {},
   "outputs": [
    {
     "name": "stdout",
     "output_type": "stream",
     "text": [
      "Starting the operation\n",
      "Operation finished\n",
      "Starting the operation\n",
      "Operation finished\n"
     ]
    }
   ],
   "source": [
    "await some_coroutine()\n",
    "await some_coroutine()\n",
    "\n",
    "# Забележка: ако това го напишем като top-level code във файл, няма да можем да го изпълним просто така.\n",
    "# Тогава ще трябва да го сложим в друг coroutine (async def) и да го извикаме с `asyncio.run(името_на_новия_coroutine())`\n",
    "\n",
    "# Jupyter notebooks обаче ни позволяваt имплицитна top-level async среда."
   ]
  },
  {
   "cell_type": "code",
   "execution_count": 10,
   "metadata": {},
   "outputs": [
    {
     "name": "stdout",
     "output_type": "stream",
     "text": [
      "Starting the operation\n",
      "Operation finished\n",
      "Starting the operation\n",
      "Operation finished\n"
     ]
    }
   ],
   "source": [
    "some_function()\n",
    "some_function()"
   ]
  },
  {
   "cell_type": "markdown",
   "metadata": {},
   "source": [
    "И в двата случая отнема 10 секунди, защото всеки coroutine чака 5 секунди, и ги извикваме **един след друг**."
   ]
  },
  {
   "cell_type": "markdown",
   "metadata": {},
   "source": [
    "### `asyncio.gather`"
   ]
  },
  {
   "cell_type": "markdown",
   "metadata": {},
   "source": [
    "Ако искаме да ги пуснем едновременно, един начин е чрез `asyncio.gather`:"
   ]
  },
  {
   "cell_type": "code",
   "execution_count": 12,
   "metadata": {},
   "outputs": [
    {
     "name": "stdout",
     "output_type": "stream",
     "text": [
      "Starting the operation\n",
      "Starting the operation\n",
      "Operation finished\n",
      "Operation finished\n"
     ]
    },
    {
     "data": {
      "text/plain": [
       "[None, None]"
      ]
     },
     "execution_count": 12,
     "metadata": {},
     "output_type": "execute_result"
    }
   ],
   "source": [
    "await asyncio.gather(some_coroutine(), some_coroutine())"
   ]
  },
  {
   "cell_type": "markdown",
   "metadata": {},
   "source": [
    "`asyncio.gather` обединява множество future-и в един и накрая връща списък с резултатите им (**в реда, в който са подадени**)."
   ]
  },
  {
   "cell_type": "markdown",
   "metadata": {},
   "source": [
    "⚠️ Обърнете внимание, че подаваме не просто имената на корутините, а ги извикваме с `()`. Това е защото един `async def` на практика е **coroutine function**, и чак като бъде извикан, тогава връща самия **coroutine object**. Терминологията обаче обикновено се смесва и двете понятия се наричат \"coroutine\".\n",
    "\n",
    "Чак след указване на `await` върху coroutine object-a започва изпълнението му (правете аналогия с генераторите и `next`)."
   ]
  },
  {
   "cell_type": "code",
   "execution_count": 13,
   "metadata": {},
   "outputs": [
    {
     "data": {
      "text/plain": [
       "<coroutine object some_coroutine at 0x000001CC2C09A680>"
      ]
     },
     "execution_count": 13,
     "metadata": {},
     "output_type": "execute_result"
    }
   ],
   "source": [
    "some_coroutine()"
   ]
  },
  {
   "cell_type": "markdown",
   "metadata": {},
   "source": [
    "Полезна илюстрация за това е coroutine, който приема аргументи:"
   ]
  },
  {
   "cell_type": "code",
   "execution_count": 27,
   "metadata": {},
   "outputs": [],
   "source": [
    "async def tagged_coroutine(tag: str | int, sleep_secs: int):\n",
    "    print(f\"Starting the operation with tag {tag}, sleeping for {sleep_secs} seconds\")\n",
    "    await asyncio.sleep(sleep_secs)\n",
    "    print(f\"Operation with tag {tag} finished\")\n",
    "    return f\"dummy_result_of_tag_{tag}\"\n"
   ]
  },
  {
   "cell_type": "code",
   "execution_count": 31,
   "metadata": {},
   "outputs": [
    {
     "name": "stdout",
     "output_type": "stream",
     "text": [
      "Starting the operation with tag 0, sleeping for 5 seconds\n",
      "Starting the operation with tag 1, sleeping for 4 seconds\n",
      "Starting the operation with tag 2, sleeping for 3 seconds\n",
      "Starting the operation with tag 3, sleeping for 2 seconds\n",
      "Starting the operation with tag 4, sleeping for 1 seconds\n",
      "Operation with tag 4 finished\n",
      "Operation with tag 3 finished\n",
      "Operation with tag 2 finished\n",
      "Operation with tag 1 finished\n",
      "Operation with tag 0 finished\n"
     ]
    },
    {
     "data": {
      "text/plain": [
       "['dummy_result_of_tag_0',\n",
       " 'dummy_result_of_tag_1',\n",
       " 'dummy_result_of_tag_2',\n",
       " 'dummy_result_of_tag_3',\n",
       " 'dummy_result_of_tag_4']"
      ]
     },
     "execution_count": 31,
     "metadata": {},
     "output_type": "execute_result"
    }
   ],
   "source": [
    "coroutines = (tagged_coroutine(tag=i, sleep_secs=5-i) for i in range(5))\n",
    "await asyncio.gather(*coroutines)"
   ]
  },
  {
   "cell_type": "markdown",
   "metadata": {},
   "source": [
    "Обърнете внимание, че ако сложим `await` в comprehension, няма да има concurrency:"
   ]
  },
  {
   "cell_type": "code",
   "execution_count": 45,
   "metadata": {},
   "outputs": [
    {
     "name": "stdout",
     "output_type": "stream",
     "text": [
      "Starting the operation with tag 0, sleeping for 3 seconds\n",
      "Operation with tag 0 finished\n",
      "Starting the operation with tag 1, sleeping for 2 seconds\n",
      "Operation with tag 1 finished\n",
      "Starting the operation with tag 2, sleeping for 1 seconds\n",
      "Operation with tag 2 finished\n"
     ]
    },
    {
     "data": {
      "text/plain": [
       "['dummy_result_of_tag_0', 'dummy_result_of_tag_1', 'dummy_result_of_tag_2']"
      ]
     },
     "execution_count": 45,
     "metadata": {},
     "output_type": "execute_result"
    }
   ],
   "source": [
    "coroutines = [tagged_coroutine(tag=i, sleep_secs=3-i) for i in range(3)]\n",
    "results = [await result for result in coroutines]\n",
    "results"
   ]
  },
  {
   "cell_type": "markdown",
   "metadata": {},
   "source": [
    "### `async for` и асинхронни генератори"
   ]
  },
  {
   "cell_type": "markdown",
   "metadata": {},
   "source": [
    "Concurrency няма да има и с итериране на асинхронни генератори. Тях итерираме с `async for`. Можем да ги създаваме по тва начина:\n",
    "* функционален: с `async def`, в койto има `yield`\n",
    "* ООП: с дефиниране на `__aiter__` и `__anext__` дъндърите"
   ]
  },
  {
   "cell_type": "code",
   "execution_count": 46,
   "metadata": {},
   "outputs": [
    {
     "name": "stdout",
     "output_type": "stream",
     "text": [
      "Starting the operation with tag 0, sleeping for 3 seconds\n",
      "Operation with tag 0 finished\n",
      "Starting the operation with tag 1, sleeping for 2 seconds\n",
      "Operation with tag 1 finished\n",
      "Starting the operation with tag 2, sleeping for 1 seconds\n",
      "Operation with tag 2 finished\n",
      "['dummy_result_of_tag_0', 'dummy_result_of_tag_1', 'dummy_result_of_tag_2']\n"
     ]
    }
   ],
   "source": [
    "async def async_generator(n: int):\n",
    "    for i in range(n):\n",
    "        result = await tagged_coroutine(tag=i, sleep_secs=n-i)\n",
    "        yield result\n",
    "\n",
    "resluts = [result async for result in async_generator(3)]\n",
    "print(resluts)"
   ]
  },
  {
   "cell_type": "markdown",
   "metadata": {},
   "source": [
    "### `asyncio.as_completed`\n",
    "\n",
    "Ако искаме да обработваме резултатите от future-и **в реда на приключването им**, можем да използваме `asyncio.as_completed`. Връща ни Future, който можем да `await`-нем на всяка итерация:"
   ]
  },
  {
   "cell_type": "code",
   "execution_count": 49,
   "metadata": {},
   "outputs": [
    {
     "name": "stdout",
     "output_type": "stream",
     "text": [
      "Starting the operation with tag 1, sleeping for 4 seconds\n",
      "Starting the operation with tag 0, sleeping for 5 seconds\n",
      "Starting the operation with tag 2, sleeping for 3 seconds\n",
      "Starting the operation with tag 3, sleeping for 2 seconds\n",
      "Starting the operation with tag 4, sleeping for 1 seconds\n",
      "Operation with tag 4 finished\n",
      "Operation with tag 3 finished\n",
      "Operation with tag 2 finished\n",
      "Operation with tag 1 finished\n",
      "Operation with tag 0 finished\n"
     ]
    },
    {
     "data": {
      "text/plain": [
       "['dummy_result_of_tag_4',\n",
       " 'dummy_result_of_tag_3',\n",
       " 'dummy_result_of_tag_2',\n",
       " 'dummy_result_of_tag_1',\n",
       " 'dummy_result_of_tag_0']"
      ]
     },
     "execution_count": 49,
     "metadata": {},
     "output_type": "execute_result"
    }
   ],
   "source": [
    "from asyncio import as_completed\n",
    "\n",
    "coroutines = [tagged_coroutine(tag=i, sleep_secs=5-i) for i in range(5)]\n",
    "results = [await result for result in as_completed(coroutines)]\n",
    "\n",
    "results"
   ]
  },
  {
   "cell_type": "markdown",
   "metadata": {},
   "source": [
    "### `asyncio.create_task`\n",
    "\n",
    "Ако не ни трябва да ги изчакваме в текущия coroutine, можем да ги schedule-нем с `create_task`.\n",
    "\n",
    "⚠️ При този начин е важно полученият `Task` обект да му запазим референция някъде извън текущия scope (например в атрибут на клас или като глобална променлива), защото иначе ще бъде зачистен от garbage collector-a и прекратен."
   ]
  },
  {
   "cell_type": "code",
   "execution_count": 59,
   "metadata": {},
   "outputs": [
    {
     "name": "stdout",
     "output_type": "stream",
     "text": [
      "I'm a sync function.\n",
      "I shall not wait for the tasks to finish. Or to even start.\n",
      "Starting the operation with tag 0, sleeping for 5 seconds\n",
      "Starting the operation with tag 1, sleeping for 4 seconds\n",
      "Starting the operation with tag 2, sleeping for 3 seconds\n",
      "Starting the operation with tag 3, sleeping for 2 seconds\n",
      "Starting the operation with tag 4, sleeping for 1 seconds\n",
      "Operation with tag 4 finished\n",
      "Operation with tag 3 finished\n",
      "Operation with tag 2 finished\n",
      "Operation with tag 1 finished\n",
      "Operation with tag 0 finished\n",
      "If you don't await the tasks, at least clean them afterwards, jeez!\n"
     ]
    }
   ],
   "source": [
    "from asyncio import create_task\n",
    "\n",
    "tasks = set()\n",
    "\n",
    "def sync_function():\n",
    "    print(\"I'm a sync function.\")\n",
    "    for i in range(5):\n",
    "        task = create_task(tagged_coroutine(tag=i, sleep_secs=5-i))\n",
    "        tasks.add(task)\n",
    "    print(\"I shall not wait for the tasks to finish. Or to even start.\")\n",
    "\n",
    "sync_function()\n",
    "\n",
    "# ...\n",
    "\n",
    "await asyncio.sleep(8)\n",
    "\n",
    "if len(tasks) > 0:\n",
    "    print(\"If you don't await the tasks, at least clean them afterwards, jeez!\")\n",
    "    for task in tasks:\n",
    "        if not task.done():\n",
    "            task.cancel()\n",
    "    tasks = set()"
   ]
  },
  {
   "cell_type": "code",
   "execution_count": 64,
   "metadata": {},
   "outputs": [
    {
     "name": "stdout",
     "output_type": "stream",
     "text": [
      "Starting the operation with tag 0, sleeping for 5 seconds\n",
      "Starting the operation with tag 1, sleeping for 4 seconds\n",
      "Starting the operation with tag 2, sleeping for 3 seconds\n",
      "Starting the operation with tag 3, sleeping for 2 seconds\n",
      "Starting the operation with tag 4, sleeping for 1 seconds\n",
      "Operation with tag 4 finished\n",
      "Operation with tag 3 finished\n",
      "Operation with tag 2 finished\n",
      "Operation with tag 1 finished\n",
      "Operation with tag 0 finished\n"
     ]
    },
    {
     "data": {
      "text/plain": [
       "['dummy_result_of_tag_2',\n",
       " 'dummy_result_of_tag_4',\n",
       " 'dummy_result_of_tag_3',\n",
       " 'dummy_result_of_tag_1',\n",
       " 'dummy_result_of_tag_0']"
      ]
     },
     "execution_count": 64,
     "metadata": {},
     "output_type": "execute_result"
    }
   ],
   "source": [
    "tasks = set()\n",
    "\n",
    "for i in range(5):\n",
    "    task = create_task(tagged_coroutine(tag=i, sleep_secs=5-i))\n",
    "    tasks.add(task)\n",
    "\n",
    "[await task for task in tasks]  # tasks can be awaited too"
   ]
  },
  {
   "cell_type": "markdown",
   "metadata": {},
   "source": [
    "`Task`-овете могат да бъдат спирани с `.cancel()`. Един `task` има метод `.done()`, който връща `True`, ако задачата е приключила.\n",
    "\n",
    "Приключването на `Task` Може да стане по три начина:\n",
    "1. Успешно изпълнение\n",
    "2. Грешка\n",
    "3. Отменяне (чрез `cancel` отвън или вдигане на `CancellationError` отвътре)\n",
    "\n",
    "С `.result()`, `.exception()` и `.cancelled()` можем да вземем резултата, грешката или да проверим дали е била отменена задачата, като ако състоянието е различно от очакваното се вдига подходяща грешка. Повече инфо [тук](https://docs.python.org/3/library/asyncio-task.html#task-status)."
   ]
  },
  {
   "cell_type": "code",
   "execution_count": null,
   "metadata": {},
   "outputs": [
    {
     "name": "stdout",
     "output_type": "stream",
     "text": [
      "0 seconds: task.done() = False\n",
      "0 seconds: task.result() raised asyncio.InvalidStateError\n",
      "Starting the operation with tag long coro, sleeping for 69420 seconds\n",
      "1 seconds: task.done() = False\n",
      "1 seconds: task.result() raised asyncio.InvalidStateError\n",
      "2 seconds: task.done() = False\n",
      "2 seconds: task.result() raised asyncio.InvalidStateError\n",
      "3 seconds: task.done() = False\n",
      "3 seconds: task.result() raised asyncio.InvalidStateError\n",
      "4 seconds: task.done() = False\n",
      "4 seconds: task.result() raised asyncio.InvalidStateError\n",
      "5 seconds: task.done() = False\n",
      "5 seconds: task.result() raised asyncio.InvalidStateError\n",
      "6 seconds: task.done() = True\n",
      "6 seconds: task.result() raised asyncio.CancelledError\n"
     ]
    }
   ],
   "source": [
    "def debug_task(task: Task, seconds: int):\n",
    "    header = f\"{seconds} seconds: \"\n",
    "\n",
    "    print(f\"{header}{task.done() = }\")\n",
    "    try:\n",
    "        print(f\"{header}{task.result() = }\")\n",
    "    except asyncio.InvalidStateError:\n",
    "        print(f\"{header}task.result() raised asyncio.InvalidStateError\")\n",
    "    except asyncio.CancelledError:\n",
    "        print(f\"{header}task.result() raised asyncio.CancelledError\")\n",
    "    except Exception as e:  \n",
    "        print(f\"{header}task.result() raised {e}\")\n",
    "\n",
    "\n",
    "task = create_task(tagged_coroutine(tag=\"long coro\", sleep_secs=69420))\n",
    "\n",
    "for second in range(5):\n",
    "    debug_task(task, second)\n",
    "    await asyncio.sleep(1)\n",
    "\n",
    "task.cancel()\n",
    "debug_task(task, 5)\n",
    "\n",
    "await asyncio.sleep(1)  # it takes some time to cancel the task!\n",
    "debug_task(task, 6)\n"
   ]
  },
  {
   "cell_type": "markdown",
   "metadata": {},
   "source": [
    "### Асинхронни контекст мениджъри (`async with`)"
   ]
  },
  {
   "cell_type": "markdown",
   "metadata": {},
   "source": [
    "В много библиотеки, които използват asyncio, се изисква да се използва `async with` за да се гарантира правилното отваряне и затваряне на ресурси (файлове, сокети, т.н.).\n",
    "\n",
    "Както с `with` използваме context manager, така и с `async with` използваме асинхронен контекстен мениджър, без друга разлика в синтаксиса."
   ]
  },
  {
   "cell_type": "markdown",
   "metadata": {},
   "source": [
    "Единият (ООП) начин да си направим наш си асинхронен контекстен мениджър, като дефинираме `__aenter__` и `__aexit__` методите:"
   ]
  },
  {
   "cell_type": "code",
   "execution_count": 38,
   "metadata": {},
   "outputs": [],
   "source": [
    "from asyncio import sleep\n",
    "\n",
    "\n",
    "class SomeResource:\n",
    "    @classmethod\n",
    "    async def acquire(cls) -> 'SomeResource':\n",
    "        print(\"Acquiring the resource...\", end=\" \")\n",
    "        await sleep(1)\n",
    "        print(\"OK.\")\n",
    "        return cls()\n",
    "\n",
    "    async def some_method(self):\n",
    "        print(\"Doing something with the resource...\", end=\" \")\n",
    "        await sleep(1)\n",
    "        print(\"OK.\")\n",
    "\n",
    "    async def release(self):\n",
    "        print(\"Releasing the resource...\", end=\" \")\n",
    "        await sleep(1)\n",
    "        print(\"OK.\")"
   ]
  },
  {
   "cell_type": "code",
   "execution_count": 39,
   "metadata": {},
   "outputs": [
    {
     "name": "stdout",
     "output_type": "stream",
     "text": [
      "Acquiring the resource... OK.\n",
      "Doing something with the resource... OK.\n",
      "Releasing the resource... OK.\n"
     ]
    }
   ],
   "source": [
    "\n",
    "class AsyncContextManager:\n",
    "    def __init__(self):\n",
    "        self._resource: SomeResource | None = None\n",
    "    \n",
    "    async def __aenter__(self) -> SomeResource:\n",
    "        if self._resource is not None:\n",
    "            raise IOError(\"Resource already acquired.\")\n",
    "    \n",
    "        res = await SomeResource.acquire()\n",
    "        self._resource = res\n",
    "        return res\n",
    "\n",
    "    async def __aexit__(self, exc_type, exc, tb):  # just like __exit__ it accepts the exception type, exception and traceback, if any.\n",
    "        if self._resource is not None:\n",
    "            await self._resource.release()\n",
    "            self._resource = None\n",
    "\n",
    "\n",
    "# Usage example:\n",
    "\n",
    "async with AsyncContextManager() as res:\n",
    "    await res.some_method()"
   ]
  },
  {
   "cell_type": "markdown",
   "metadata": {},
   "source": [
    "Другият (функционален) начин е чрез `contextlib.asynccontextmanager` декоратора. С него трябва да декорираме асинхронен генератор, който yield-ва един единствен път. Кодът преди yield-а се изпълнява като `__aenter__`, а след yield-а - като `__aexit__`."
   ]
  },
  {
   "cell_type": "code",
   "execution_count": 41,
   "metadata": {},
   "outputs": [
    {
     "name": "stdout",
     "output_type": "stream",
     "text": [
      "Acquiring the resource... OK.\n",
      "Doing something with the resource... OK.\n",
      "Releasing the resource... OK.\n"
     ]
    }
   ],
   "source": [
    "from contextlib import asynccontextmanager\n",
    "\n",
    "\n",
    "@asynccontextmanager\n",
    "async def async_context_manager():\n",
    "    res = await SomeResource.acquire()\n",
    "    try:\n",
    "        yield res\n",
    "    finally:\n",
    "        await res.release()\n",
    "\n",
    "\n",
    "\n",
    "# Usage example:\n",
    "\n",
    "async with async_context_manager() as res:\n",
    "    await res.some_method()"
   ]
  },
  {
   "cell_type": "markdown",
   "metadata": {},
   "source": [
    "## Литература за asyncio"
   ]
  },
  {
   "cell_type": "markdown",
   "metadata": {},
   "source": [
    "`asyncio` е обширна тема, която няма да покрием изцяло в курса. Оставяме няколко полезни линка, за тези които искат да навлязат по-надълбоко с `asyncio`.\n",
    "\n",
    "- https://docs.python.org/3.13/library/asyncio.html#module-asyncio\n",
    "- https://realpython.com/async-io-python/#the-asyncio-package-and-asyncawait\n",
    "- https://realpython.com/async-io-python/#async-io-in-context\n",
    "- https://www.goodreads.com/book/show/50083143-using-asyncio-in-python"
   ]
  },
  {
   "cell_type": "markdown",
   "metadata": {},
   "source": [
    "## Популярни библиотеки, използващи asyncio"
   ]
  },
  {
   "cell_type": "markdown",
   "metadata": {},
   "source": [
    "* [aiofiles](https://github.com/Tinche/aiofiles): за работа с файлове (локални)\n",
    "* [aiohttp](https://github.com/aio-libs/aiohttp): за мрежови заявки (с интерфейс, подобен на [`requests`](../10%20-%20requests/10%20-%20requests.ipynb))\n",
    "* доста Python SDKs (за Azure например) или Python имплементации на API-та ([`discord.py`](https://github.com/Rapptz/discord.py) например)\n",
    "* много съществуващи библиотеки за работа с определени бази данни или сървъри (като psycopg, boto3, т.н.) имат асинхронни версии (съотв. aiopg, aioboto3, т.н.). Някои от тях са по-поддържани, други - не толкова, трети - въобще не."
   ]
  },
  {
   "cell_type": "markdown",
   "metadata": {},
   "source": [
    "# Примери след лекцията"
   ]
  },
  {
   "cell_type": "markdown",
   "metadata": {},
   "source": [
    "### Пример 1"
   ]
  },
  {
   "cell_type": "markdown",
   "metadata": {},
   "source": [
    "Нека имаме функция, която умножава две матрици. \n",
    "\n",
    "Нека напишем функция, която умножава две матрици паралелно. Нека използваме `multiprocessing` библиотеката за целта."
   ]
  },
  {
   "cell_type": "code",
   "execution_count": 4,
   "metadata": {},
   "outputs": [],
   "source": [
    "import time\n",
    "def timeit():\n",
    "    def wrapper(func):\n",
    "        def inner(*args, **kwargs):\n",
    "            start = time.time()\n",
    "            result = func(*args, **kwargs)\n",
    "            end = time.time()\n",
    "            print(f'The function took {(end-start):.2f} seconds')\n",
    "            return result\n",
    "        return inner\n",
    "    return wrapper\n",
    "\n",
    "\n",
    "@timeit()\n",
    "def multiply_matrix(a: list[list[int]], b: list[list[int]]) -> list[list[int]]:\n",
    "    size_of_a = (len(a), len(a[0]))\n",
    "    size_of_b = (len(b), len(b[0]))\n",
    "\n",
    "    if size_of_a[1] != size_of_b[0]:\n",
    "        raise ValueError(\"The matrixes cannot be multiplied\")\n",
    "    \n",
    "    m, n, p = size_of_a[0], size_of_a[1], size_of_b[1]\n",
    "\n",
    "    result = [[0 for _ in range(p)] for _ in range(m)]\n",
    "\n",
    "    for i in range(m):\n",
    "        for j in range(p):\n",
    "            result[i][j] = sum(a[i][k] * b[k][j] for k in range(n))\n",
    "\n",
    "    return result"
   ]
  },
  {
   "cell_type": "markdown",
   "metadata": {},
   "source": [
    "### Решение на пример 1"
   ]
  },
  {
   "cell_type": "code",
   "execution_count": 17,
   "metadata": {},
   "outputs": [],
   "source": [
    "from multiprocessing import Array, Process\n",
    "\n",
    "@timeit()\n",
    "def multithreaded_multiply_matrix(a: list[list[int]], b: list[list[int]]) -> list[list[int]]:\n",
    "    size_of_a = (len(a), len(a[0]))\n",
    "    size_of_b = (len(b), len(b[0]))\n",
    "\n",
    "    if size_of_a[1] != size_of_b[0]:\n",
    "        raise ValueError(\"The matrixes cannot be multiplied\")\n",
    "    \n",
    "    m, n, p = size_of_a[0], size_of_a[1], size_of_b[1]\n",
    "    \n",
    "\n",
    "    result = Array('i', m * p)\n",
    "\n",
    "    threads = [Process(target=multiply_row, args=(result, n, p, i, a, b)) for i in range(m)]\n",
    "\n",
    "    for thread in threads:\n",
    "        thread.start()\n",
    "\n",
    "    for thread in threads:\n",
    "        thread.join()\n",
    "\n",
    "    return [result[i*p:(i+1)*p] for i in range(m)]\n",
    "\n",
    "def multiply_row(shared_memory: Array, n: int, p: int, i: int, a: list[list[int]], b: list[list[int]]):\n",
    "    for j in range(p):\n",
    "        target_index = i * p + j\n",
    "        shared_memory[target_index] = sum(a[i][k] * b[k][j] for k in range(n))"
   ]
  },
  {
   "cell_type": "code",
   "execution_count": 18,
   "metadata": {},
   "outputs": [
    {
     "name": "stdout",
     "output_type": "stream",
     "text": [
      "The function took 3.87 seconds\n",
      "The function took 0.99 seconds\n"
     ]
    }
   ],
   "source": [
    "from random import randint\n",
    "\n",
    "m, n, p = 400, 400, 400\n",
    "value_range = (0, 10)\n",
    "\n",
    "a = [[randint(*value_range) for _ in range(n)] for _ in range(m)]\n",
    "b = [[randint(*value_range) for _ in range(p)] for _ in range(n)]\n",
    "\n",
    "res_1 = multiply_matrix(a, b)\n",
    "res_2 = multithreaded_multiply_matrix(a, b)\n"
   ]
  },
  {
   "cell_type": "markdown",
   "metadata": {},
   "source": [
    "### Пример 2"
   ]
  },
  {
   "cell_type": "markdown",
   "metadata": {},
   "source": [
    "Нека напишем функция `parallel_file_search`, която приема път до файл, низ по който търсим и брой на нишките, които ще използваме за търсенето. Функцията трябва да запише редовете, които съдържат низа в нов файл.\n",
    "\n",
    "Файла трябва да се раздели на `N` части, в които да се търси паралелно.\n",
    "\n",
    "Казваме, че един ред съдържа търсения низ, ако той се среща в него."
   ]
  },
  {
   "cell_type": "markdown",
   "metadata": {},
   "source": [
    "### Решение на пример 2"
   ]
  },
  {
   "cell_type": "code",
   "execution_count": 38,
   "metadata": {},
   "outputs": [],
   "source": [
    "from multiprocessing import Process, Semaphore\n",
    "\n",
    "def search_in_lines(lines: list[str], to_search: str,  output_path: str, semaphore: Semaphore):\n",
    "    for line in lines:\n",
    "        if to_search in line:\n",
    "            results.append(line)\n",
    "\n",
    "@timeit()\n",
    "def parallel_file_search(input_path: str, to_search: str, n: int, output_path: str) -> list[str]:\n",
    "    with open(input_path, encoding='utf-8') as input_file_descriptor:\n",
    "            amount_of_lines = len(input_file_descriptor.readlines())\n",
    "            \n",
    "    chunk_size = amount_of_lines // n\n",
    "    regions = [(i * chunk_size, (i+1) * chunk_size) for i in range(n - 1)] + [((n - 1) * chunk_size, amount_of_lines + 1)]\n",
    "\n",
    "    procs = [Process(target=search_string_in_file, args=(to_search, input_path, region, output_path)) for region in regions]\n",
    "\n",
    "    for proc in procs:\n",
    "        proc.start()\n",
    "\n",
    "    for proc in procs:\n",
    "        proc.join()\n",
    "\n",
    "def search_string_in_file(string: str, file_path: str, region: tuple[int, int], output_file_path: str, semaphore: Semaphore):\n",
    "        results = []\n",
    "        start, end = region\n",
    "        with open(file_path, encoding='utf-8') as input_file_descriptor:\n",
    "            for line_number, line in enumerate(input_file_descriptor):\n",
    "                if start <= line_number < end:\n",
    "                    column = line.find(string)\n",
    "                    \n",
    "                    while column != -1:\n",
    "                        results.append(line.strip())\n",
    "                        column = line.find(string, column+1)\n",
    "\n",
    "        semaphore.acquire()\n",
    "\n",
    "        with open(output_file_path, encoding='utf-8', mode='w+') as output_file_descriptor:\n",
    "            for result in results:\n",
    "                output_file_descriptor.write(result + '\\n')\n",
    "\n",
    "        semaphore.release()"
   ]
  },
  {
   "cell_type": "markdown",
   "metadata": {},
   "source": [
    "## Пример 3"
   ]
  },
  {
   "cell_type": "markdown",
   "metadata": {},
   "source": [
    "Напишете клас `Scheduler`, който да приема coroutine function (за улеснение приемете, че тя не приема аргументи), и да започне да го изпълнява на всеки `interval` секунди, след като бъде извикан метода `start`. Scheduler-ът да може да бъде спиран от метод `stop`.\n",
    "\n",
    "Интерфейс:\n",
    "```python\n",
    "from typing import Callable, Coroutine\n",
    "\n",
    "\n",
    "class Scheduler:\n",
    "    \"\"\"Schedule a coroutine to start running periodically with a fixed time interval.\"\"\"\n",
    "\n",
    "    def __init__(self, coroutine_func: Callable[[], Coroutine], interval: int):\n",
    "        ...\n",
    "\n",
    "    def start(self):\n",
    "        ...\n",
    "\n",
    "    def stop(self):\n",
    "        ...\n",
    "\n",
    "```\n",
    "\n",
    "Примерна употреба:\n",
    "\n",
    "```python\n",
    "scheduler = Scheduler(some_coroutine, 10)\n",
    "\n",
    "scheduler.start()\n",
    "await asyncio.sleep(30)\n",
    "scheduler.stop()\n",
    "```"
   ]
  },
  {
   "cell_type": "markdown",
   "metadata": {},
   "source": [
    "### Решение на пример 3"
   ]
  },
  {
   "cell_type": "code",
   "execution_count": 68,
   "metadata": {},
   "outputs": [
    {
     "name": "stdout",
     "output_type": "stream",
     "text": [
      "Starting the operation\n",
      "Operation finished\n",
      "Starting the operation\n",
      "Operation finished\n",
      "Starting the operation\n",
      "Operation finished\n"
     ]
    }
   ],
   "source": [
    "from asyncio import Task, create_task, sleep\n",
    "from typing import Callable, Coroutine\n",
    "\n",
    "\n",
    "class Scheduler:\n",
    "    \"\"\"Schedule a coroutine to start running periodically with a fixed time interval.\"\"\"\n",
    "\n",
    "    def __init__(self, coroutine_func: Callable[[], Coroutine], interval: int):\n",
    "        self.interval = interval\n",
    "        self._coroutine_func = coroutine_func\n",
    "        self._scheduler_task: Task | None = None\n",
    "        self._coroutine_task: Task | None = None\n",
    "\n",
    "    def start(self):\n",
    "        self._scheduler_task = create_task(self._run())\n",
    "\n",
    "    async def _run(self):\n",
    "        while True:\n",
    "            self._running_task = create_task(self._coroutine_func())\n",
    "            # primitive and error-prone but just for illustration purposes\n",
    "            await sleep(self.interval)\n",
    "\n",
    "    def stop(self):\n",
    "        if self._scheduler_task is not None:\n",
    "            self._scheduler_task.cancel()\n",
    "        if self._coroutine_task is not None:\n",
    "            self._coroutine_task.cancel()\n",
    "\n",
    "\n",
    "# Usage example:\n",
    "\n",
    "async def some_coroutine():\n",
    "    print(\"Starting the operation\")\n",
    "    await sleep(5)\n",
    "    print(\"Operation finished\")\n",
    "\n",
    "scheduler = Scheduler(some_coroutine, 10)\n",
    "\n",
    "scheduler.start()\n",
    "await asyncio.sleep(30)\n",
    "scheduler.stop()"
   ]
  }
 ],
 "metadata": {
  "kernelspec": {
   "display_name": "Python 3",
   "language": "python",
   "name": "python3"
  },
  "language_info": {
   "codemirror_mode": {
    "name": "ipython",
    "version": 3
   },
   "file_extension": ".py",
   "mimetype": "text/x-python",
   "name": "python",
   "nbconvert_exporter": "python",
   "pygments_lexer": "ipython3",
   "version": "3.11.9"
  }
 },
 "nbformat": 4,
 "nbformat_minor": 0
}
