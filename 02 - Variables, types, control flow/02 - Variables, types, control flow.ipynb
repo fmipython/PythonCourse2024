{
  "cells": [
    {
      "cell_type": "markdown",
      "metadata": {
        "colab_type": "text",
        "id": "view-in-github"
      },
      "source": [
        "<a href=\"https://colab.research.google.com/github/fmipython/PythonCourse2022/blob/main/02%20-%20Variables%2C%20types%2C%20control%20flow/02%20-%20Variables%2C%20types%2C%20control%20flow.ipynb\" target=\"_parent\"><img src=\"https://colab.research.google.com/assets/colab-badge.svg\" alt=\"Open In Colab\"/></a>"
      ]
    },
    {
      "attachments": {},
      "cell_type": "markdown",
      "metadata": {
        "id": "aAjgUr6IMJ0a"
      },
      "source": [
        "# Променливи, разклонения, цикли, типове, функции"
      ]
    },
    {
      "cell_type": "markdown",
      "metadata": {
        "id": "UDgxgnPbMJ0c"
      },
      "source": [
        "## Динамично vs. статично типизиране. Round 1\n",
        "\n",
        "Python е **динамично-типизиран** език. \n",
        "\n",
        "Това означава, че за разлика от статично-типизираните езици (като например C++, Java или C#), променливите (които биват наричани ***имена***/***names***/ в Python) биват проверявани за коректността на типа им при изпълнението на програмата, а не при компилацията (каквато и няма в Python, понеже кодът се интерпретира вместо да се компилира). \n",
        "\n",
        "Друга особеност е, че типът на променливата **може да се промени** по време на изпълнението на програмата и също така **не се декларира** предварително."
      ]
    },
    {
      "cell_type": "code",
      "execution_count": 1,
      "metadata": {},
      "outputs": [
        {
          "data": {
            "text/plain": [
              "42"
            ]
          },
          "execution_count": 1,
          "metadata": {},
          "output_type": "execute_result"
        }
      ],
      "source": [
        "# I want it to be a number\n",
        "a = 42\n",
        "\n",
        "a"
      ]
    },
    {
      "cell_type": "code",
      "execution_count": 2,
      "metadata": {},
      "outputs": [
        {
          "data": {
            "text/plain": [
              "'a string'"
            ]
          },
          "execution_count": 2,
          "metadata": {},
          "output_type": "execute_result"
        }
      ],
      "source": [
        "# No, sorry, changed my mind, let it be a string\n",
        "a = \"a string\"\n",
        "\n",
        "a"
      ]
    },
    {
      "cell_type": "code",
      "execution_count": 3,
      "metadata": {},
      "outputs": [
        {
          "ename": "NameError",
          "evalue": "name 'a' is not defined",
          "output_type": "error",
          "traceback": [
            "\u001b[1;31m---------------------------------------------------------------------------\u001b[0m",
            "\u001b[1;31mNameError\u001b[0m                                 Traceback (most recent call last)",
            "Cell \u001b[1;32mIn[3], line 4\u001b[0m\n\u001b[0;32m      1\u001b[0m \u001b[38;5;66;03m# Actually l... You know what? Screw it. I don't need it.\u001b[39;00m\n\u001b[0;32m      2\u001b[0m \u001b[38;5;28;01mdel\u001b[39;00m a\n\u001b[1;32m----> 4\u001b[0m \u001b[43ma\u001b[49m   \u001b[38;5;66;03m# 💥\u001b[39;00m\n",
            "\u001b[1;31mNameError\u001b[0m: name 'a' is not defined"
          ]
        }
      ],
      "source": [
        "# Actually l... You know what? Screw it. I don't need it.\n",
        "del a\n",
        "\n",
        "a   # 💥"
      ]
    },
    {
      "cell_type": "markdown",
      "metadata": {},
      "source": [
        "*Note*: Относно Jupyter notebooks (тетрадки):\n",
        "1. Всичко, което се изпълнява в една клетка, се запазва в паметта на ядрото (kernel) и може да бъде използвано в следващите клетки.\n",
        "2. Ако последният ред от клетка връща стойност (различна от `None`), тя се показва като резултат от изпълнението на клетката.\n",
        "\n",
        "Т.е. горните три клетки, изпълнени една след друга, са еквивалентни на следния Python скрипт:"
      ]
    },
    {
      "cell_type": "code",
      "execution_count": 4,
      "metadata": {
        "id": "MP57tzGYMJ0d",
        "outputId": "a9819069-ea93-4432-a85b-c814a57a5486"
      },
      "outputs": [
        {
          "name": "stdout",
          "output_type": "stream",
          "text": [
            "42\n",
            "a string\n"
          ]
        },
        {
          "ename": "NameError",
          "evalue": "name 'a' is not defined",
          "output_type": "error",
          "traceback": [
            "\u001b[1;31m---------------------------------------------------------------------------\u001b[0m",
            "\u001b[1;31mNameError\u001b[0m                                 Traceback (most recent call last)",
            "Cell \u001b[1;32mIn[4], line 11\u001b[0m\n\u001b[0;32m      9\u001b[0m \u001b[38;5;66;03m# Actually l... You know what? Screw it. I don't need it.\u001b[39;00m\n\u001b[0;32m     10\u001b[0m \u001b[38;5;28;01mdel\u001b[39;00m a\n\u001b[1;32m---> 11\u001b[0m \u001b[38;5;28mprint\u001b[39m(\u001b[43ma\u001b[49m)  \u001b[38;5;66;03m# 💥\u001b[39;00m\n",
            "\u001b[1;31mNameError\u001b[0m: name 'a' is not defined"
          ]
        }
      ],
      "source": [
        "# I want it to be a number\n",
        "a = 42\n",
        "print(a)\n",
        "\n",
        "# No, sorry, changed my mind, let it be a string\n",
        "a = \"a string\"\n",
        "print(a)\n",
        "\n",
        "# Actually l... You know what? Screw it. I don't need it.\n",
        "del a\n",
        "print(a)  # 💥\n"
      ]
    },
    {
      "cell_type": "markdown",
      "metadata": {},
      "source": [
        "*Note 2*: с `print(...)` се пише на изхода на програмата (STDOUT), а с `input(...)` се чете от входа (STDIN)."
      ]
    },
    {
      "cell_type": "markdown",
      "metadata": {
        "id": "40-_rRZcMJ0e"
      },
      "source": [
        "## Какви типове има?"
      ]
    },
    {
      "cell_type": "markdown",
      "metadata": {
        "id": "BXWDCLstMJ0e"
      },
      "source": [
        "### Числа\n",
        "\n",
        "Съществуват три основни вградени типа, които описват числови стойности: **int**, **float** и **complex**.\n",
        "\n",
        "* `int` - цели числа\n",
        "* `float` - реални числа (с плаваща запетая)\n",
        "* `complex` - комплексни числа\n",
        "\n",
        "И за трите типа са дефинирани аритметичните оператори `+`, `-`, `*`, `/`, както и `**` (степенуване)."
      ]
    },
    {
      "cell_type": "code",
      "execution_count": 5,
      "metadata": {
        "id": "nZt5V35yMJ0e",
        "outputId": "9d89ea4a-b19e-415a-ed94-abde2171fe15"
      },
      "outputs": [
        {
          "data": {
            "text/plain": [
              "(-1+0j)"
            ]
          },
          "execution_count": 5,
          "metadata": {},
          "output_type": "execute_result"
        }
      ],
      "source": [
        "whole = -42\n",
        "fraction = 0.999\n",
        "imag = 3 + 2j  # this is the complex number (3 + 2i)\n",
        "\n",
        "1j ** 2"
      ]
    },
    {
      "cell_type": "markdown",
      "metadata": {
        "id": "kuQgSIIbMJ0e"
      },
      "source": [
        "⚠️ Резултатът на `/`, приложен между два `int`-а е `float`. Всички от останалите оператори запазват резултата в `int`."
      ]
    },
    {
      "cell_type": "code",
      "execution_count": 6,
      "metadata": {
        "id": "dj0y4z6IMJ0f",
        "outputId": "d6760581-1b13-4bc9-9fa2-f151d45e3030"
      },
      "outputs": [
        {
          "data": {
            "text/plain": [
              "2.0"
            ]
          },
          "execution_count": 6,
          "metadata": {},
          "output_type": "execute_result"
        }
      ],
      "source": [
        "4 / 2"
      ]
    },
    {
      "cell_type": "code",
      "execution_count": 7,
      "metadata": {},
      "outputs": [
        {
          "data": {
            "text/plain": [
              "0.3333333333333333"
            ]
          },
          "execution_count": 7,
          "metadata": {},
          "output_type": "execute_result"
        }
      ],
      "source": [
        "1 / 3"
      ]
    },
    {
      "cell_type": "markdown",
      "metadata": {
        "id": "QC0t523BMJ0f"
      },
      "source": [
        "За целочислени сметки имаме и операторите `//` и `%` (целочислено деление и остатък от деление).\n",
        "\n",
        "`//` е и операторът, който трябва да ползваме, ако искаме при делението на два `int`-а да получим отново `int`."
      ]
    },
    {
      "cell_type": "code",
      "execution_count": 8,
      "metadata": {},
      "outputs": [
        {
          "data": {
            "text/plain": [
              "3.5"
            ]
          },
          "execution_count": 8,
          "metadata": {},
          "output_type": "execute_result"
        }
      ],
      "source": [
        "7 / 2"
      ]
    },
    {
      "cell_type": "code",
      "execution_count": 9,
      "metadata": {},
      "outputs": [
        {
          "data": {
            "text/plain": [
              "3"
            ]
          },
          "execution_count": 9,
          "metadata": {},
          "output_type": "execute_result"
        }
      ],
      "source": [
        "7 // 2"
      ]
    },
    {
      "cell_type": "code",
      "execution_count": 10,
      "metadata": {},
      "outputs": [
        {
          "data": {
            "text/plain": [
              "1"
            ]
          },
          "execution_count": 10,
          "metadata": {},
          "output_type": "execute_result"
        }
      ],
      "source": [
        "7 % 2"
      ]
    },
    {
      "cell_type": "markdown",
      "metadata": {
        "id": "EVEeYs04MJ0g"
      },
      "source": [
        "Hey Siri, how much is 0 divided by 0?"
      ]
    },
    {
      "cell_type": "code",
      "execution_count": 11,
      "metadata": {
        "id": "AwyS4kzkMJ0g",
        "outputId": "d1a004b8-764f-4b1f-eae2-bec45cdc0936"
      },
      "outputs": [
        {
          "ename": "ZeroDivisionError",
          "evalue": "division by zero",
          "output_type": "error",
          "traceback": [
            "\u001b[1;31m---------------------------------------------------------------------------\u001b[0m",
            "\u001b[1;31mZeroDivisionError\u001b[0m                         Traceback (most recent call last)",
            "Cell \u001b[1;32mIn[11], line 1\u001b[0m\n\u001b[1;32m----> 1\u001b[0m \u001b[38;5;241;43m0\u001b[39;49m\u001b[43m \u001b[49m\u001b[38;5;241;43m/\u001b[39;49m\u001b[43m \u001b[49m\u001b[38;5;241;43m0\u001b[39;49m\n",
            "\u001b[1;31mZeroDivisionError\u001b[0m: division by zero"
          ]
        }
      ],
      "source": [
        "0 / 0"
      ]
    },
    {
      "cell_type": "markdown",
      "metadata": {
        "id": "QumCmC_JMJ0g"
      },
      "source": [
        "С безкрайността обаче нямаме такъв проблем (`math.inf` е специален `float`, който има за цел да бъде еквивалентен на $\\infty$ откъм аритметични операции):"
      ]
    },
    {
      "cell_type": "code",
      "execution_count": 12,
      "metadata": {
        "id": "WZfUyL-CMJ0g",
        "outputId": "6fec96f5-2f2a-4bcc-920c-7662c9af4a46"
      },
      "outputs": [
        {
          "data": {
            "text/plain": [
              "0.0"
            ]
          },
          "execution_count": 12,
          "metadata": {},
          "output_type": "execute_result"
        }
      ],
      "source": [
        "from math import inf\n",
        "\n",
        "1 / inf"
      ]
    },
    {
      "cell_type": "markdown",
      "metadata": {
        "id": "kYdsdGLyMJ0g"
      },
      "source": [
        "Размерът на `int` не е фиксиран както в повечето статично-типизирани езици, при които програмистът избира дали да използва 32-битов, 64-битов или някаква друга размерност за целочислена променлива. Тук integer overflow се избягва като динамично се изчислява размерът на паметта, нужен за съхранението на число с произволна големина."
      ]
    },
    {
      "cell_type": "code",
      "execution_count": 13,
      "metadata": {
        "id": "8qGr2pLyMJ0h",
        "outputId": "f3f765e6-da4c-40ac-8271-32ba6dd32093"
      },
      "outputs": [
        {
          "name": "stdout",
          "output_type": "stream",
          "text": [
            "size of 1 is 28 bytes\n",
            "size of 2 ** 16 is 28 bytes\n",
            "size of 2 ** 30 is 32 bytes\n",
            "size of 2 ** 30 ** 5 is 3240028 bytes\n"
          ]
        }
      ],
      "source": [
        "from sys import getsizeof\n",
        "\n",
        "print(\"size of 1 is\",            getsizeof(1),            \"bytes\")\n",
        "print(\"size of 2 ** 16 is\",      getsizeof(2 ** 16),      \"bytes\")\n",
        "print(\"size of 2 ** 30 is\",      getsizeof(2 ** 30),      \"bytes\")\n",
        "print(\"size of 2 ** 30 ** 5 is\", getsizeof(2 ** 30 ** 5), \"bytes\")"
      ]
    },
    {
      "cell_type": "markdown",
      "metadata": {
        "id": "AHxVT-MBMJ0h"
      },
      "source": [
        "Обърнете внимание, че изписаните резултати са в байтове, а не битове. Причината числото $ 1 $ да заема цели 28 байта например е понеже в python всичко е обект и си има своите член-данни и методи, дори и типове като `int`.\n",
        "\n",
        "От друга страна, `float` винаги заема фиксиран брой байтове. Причината за това е, че прецизността е константна - до 18 знака след десетичната запетая. В случай, че не ни е достатъчна такава прецизност, могат да се използват типове от някои вградени и не-вградени библиотеки, като например `decimal.Decimal`, с който можем да боравим с до 28 знака след десетичната запетая."
      ]
    },
    {
      "cell_type": "markdown",
      "metadata": {
        "id": "yDRiJwlxMJ0h"
      },
      "source": [
        "Целочислени литерали могат да се задават и в двоична, осмична и 16-ична бройни системи, използвайки като префикс съответно `0b`, `0o` и `0x`:"
      ]
    },
    {
      "cell_type": "code",
      "execution_count": 14,
      "metadata": {
        "id": "KN3G9A1hMJ0h",
        "outputId": "5874a89f-e902-4f52-e268-1851e425677f"
      },
      "outputs": [
        {
          "name": "stdout",
          "output_type": "stream",
          "text": [
            "a = 10\n",
            "b = 10\n",
            "c = 10\n"
          ]
        }
      ],
      "source": [
        "a = 0b1010\n",
        "b = 0o12\n",
        "c = 0xA\n",
        "\n",
        "print(\"a =\", a)\n",
        "print(\"b =\", b)\n",
        "print(\"c =\", c)"
      ]
    },
    {
      "cell_type": "markdown",
      "metadata": {
        "id": "Wpq0YqyfMJ0h"
      },
      "source": [
        "### Низове\n",
        "\n",
        "Текстовите низове в Python имат тип `str`. Те могат да бъдат с произволна дължина, като в литерал се обграждат или с `\"`, или с `'` (без значение)."
      ]
    },
    {
      "cell_type": "code",
      "execution_count": 15,
      "metadata": {
        "id": "BWXrSjB4MJ0h",
        "outputId": "92a00596-c13a-46ab-8124-9896b435bfec"
      },
      "outputs": [
        {
          "data": {
            "text/plain": [
              "'abracadabra!'"
            ]
          },
          "execution_count": 15,
          "metadata": {},
          "output_type": "execute_result"
        }
      ],
      "source": [
        "s1 = \"abra\"\n",
        "s2 = 'cad'\n",
        "\n",
        "s1 + s2 + s1 + '!'"
      ]
    },
    {
      "cell_type": "markdown",
      "metadata": {
        "id": "buktv-2TMJ0i"
      },
      "source": [
        "Многоредови низови литерали биват задавани с тройни кавички, също както специалните многоредови коментари, наричани `docstring`-ове (повече за тях в следваща лекция):"
      ]
    },
    {
      "cell_type": "code",
      "execution_count": 16,
      "metadata": {
        "id": "H64LRz5VMJ0i",
        "outputId": "bc335d1b-ce64-41bb-ed19-d69722e223c3"
      },
      "outputs": [
        {
          "data": {
            "text/plain": [
              "'This text contains multiple rows.\\nThis is the second one.\\nHere comes the third one.\\nBack and fourth.'"
            ]
          },
          "execution_count": 16,
          "metadata": {},
          "output_type": "execute_result"
        }
      ],
      "source": [
        "multiple_rows_text = \"\"\"This text contains multiple rows.\n",
        "This is the second one.\n",
        "Here comes the third one.\n",
        "Back and fourth.\"\"\"\n",
        "\n",
        "multiple_rows_text"
      ]
    },
    {
      "cell_type": "markdown",
      "metadata": {},
      "source": [
        "При едноредови низове, ако редът става прекалено дълъг можем и да разделим низа на части така:"
      ]
    },
    {
      "cell_type": "code",
      "execution_count": 17,
      "metadata": {},
      "outputs": [
        {
          "data": {
            "text/plain": [
              "'This is a very very very very very very very very very very very very very very very very long snake 🐍.'"
            ]
          },
          "execution_count": 17,
          "metadata": {},
          "output_type": "execute_result"
        }
      ],
      "source": [
        "too_long = \"This is a very very very very very very very \" \\\n",
        "           \"very very very very very very very very very \" \\\n",
        "           \"long snake 🐍.\"\n",
        "\n",
        "too_long"
      ]
    },
    {
      "cell_type": "markdown",
      "metadata": {},
      "source": [
        "Друг вариант, ако не ви харесват обратните наклонени черти (line-continuation characters) и нагласената индентация, е да се ползват скоби.\n",
        "\n",
        "*Note*: тези два начина са приложими не само за дълги низове, а и за дълги редове като цяло, например аритметични/булеви изрази, comprehension-и и т.н."
      ]
    },
    {
      "cell_type": "code",
      "execution_count": 18,
      "metadata": {},
      "outputs": [
        {
          "data": {
            "text/plain": [
              "'This is a very very very very very very very very very very very very very very very very long snake 🐍.'"
            ]
          },
          "execution_count": 18,
          "metadata": {},
          "output_type": "execute_result"
        }
      ],
      "source": [
        "also_too_long = (\n",
        "    \"This is a very very very very very very very \"\n",
        "    \"very very very very very very very very very \"\n",
        "    \"long snake 🐍.\"\n",
        ")\n",
        "\n",
        "also_too_long"
      ]
    },
    {
      "cell_type": "markdown",
      "metadata": {
        "id": "fpJ_tfBqMJ0i"
      },
      "source": [
        "Подържат се Unicode символи, но трябва да се внимава при взимането на дължината им (например емоджитата с флагове кодират двоен брой байтове, което доведе до [това](https://www.theverge.com/2018/10/11/17963230/twitter-emoji-character-limit-bug-fixed-diversity)):"
      ]
    },
    {
      "cell_type": "code",
      "execution_count": 19,
      "metadata": {
        "id": "bD5RvD9FMJ0i",
        "outputId": "356f71f3-95eb-4180-d34b-b5c462b70579"
      },
      "outputs": [
        {
          "name": "stdout",
          "output_type": "stream",
          "text": [
            "the length of it = 3\n"
          ]
        }
      ],
      "source": [
        "moyai_and_china = \"🗿🇨🇳\"\n",
        "\n",
        "print(\"the length of it =\", len(moyai_and_china))\n",
        "# never ignore the red flags..."
      ]
    },
    {
      "cell_type": "markdown",
      "metadata": {
        "id": "hu7xwzDEMJ0i"
      },
      "source": [
        "Escape символът както обикновено е `\\`. Някои специални символи по този начин написани са:\n",
        "* `\\n` - нов ред (Line Feed, ASCII стойност 13 (0x0D))\n",
        "* `\\t` - хоризонтална табулация (ASCII стойност 9)\n",
        "* `\\r` - Carriage Return, ASCII стойност 10 (0x0A)\n",
        "\n",
        "С `\\'` или  `\\\"` се запазват и кавичките в случай, че видът кавичка съвпада с тази, ограждаща низа. \n",
        "\n",
        "Самата обратно-наклонена черта се въвежда с `\\\\`.\n"
      ]
    },
    {
      "cell_type": "code",
      "execution_count": 20,
      "metadata": {
        "id": "Gjrvd6bLMJ0i",
        "outputId": "8f3dc5bb-51b3-45fd-93e3-d922c81724b9"
      },
      "outputs": [
        {
          "data": {
            "text/plain": [
              "\"Is it readable?\\nYesn't\\n\""
            ]
          },
          "execution_count": 20,
          "metadata": {},
          "output_type": "execute_result"
        }
      ],
      "source": [
        "s = 'Is it readable?\\nYesn\\'t\\n'\n",
        "\n",
        "s"
      ]
    },
    {
      "cell_type": "markdown",
      "metadata": {
        "id": "l73QlxcVMJ0i"
      },
      "source": [
        "Ако знаем 16-ичния код на конкретен Unicode символ, можем да го запишем след `\\u`:"
      ]
    },
    {
      "cell_type": "code",
      "execution_count": 21,
      "metadata": {
        "id": "3fpodvk6MJ0i",
        "outputId": "c1ac0502-06c3-4b7e-df8f-7799bb011510"
      },
      "outputs": [
        {
          "data": {
            "text/plain": [
              "'A♠'"
            ]
          },
          "execution_count": 21,
          "metadata": {},
          "output_type": "execute_result"
        }
      ],
      "source": [
        "rip_lemmy = \"A\\u2660\"\n",
        "\n",
        "rip_lemmy"
      ]
    },
    {
      "cell_type": "markdown",
      "metadata": {
        "id": "6lvYmckOMJ0i"
      },
      "source": [
        "В случай пък че ни трябва конкретен байт в низа, чийто 16-ичен код знаем, може да се използва `\\x`. Например `\\x00` е null-byte, a `\\x1B` - `ESC`."
      ]
    },
    {
      "cell_type": "code",
      "execution_count": 22,
      "metadata": {
        "id": "ND3FES-BMJ0i",
        "outputId": "71ef82aa-d18b-4726-8359-868af7ade30d"
      },
      "outputs": [
        {
          "name": "stdout",
          "output_type": "stream",
          "text": [
            "You can safely have \u0000 in the middle of a string\n"
          ]
        }
      ],
      "source": [
        "not_your_c_string = \"You can safely have \\x00 in the middle of a string\"\n",
        "\n",
        "print(not_your_c_string)"
      ]
    },
    {
      "cell_type": "markdown",
      "metadata": {
        "id": "FhuS-1pvMJ0i"
      },
      "source": [
        "Относно ASCII кодове, съществуват две функции за преобразуване *от* и *във* кода на символа: `chr` и `ord` съответно."
      ]
    },
    {
      "cell_type": "code",
      "execution_count": 23,
      "metadata": {
        "id": "tjnytwhgMJ0j",
        "outputId": "0b22edbf-fd84-46da-e811-1ec7ffc330fa"
      },
      "outputs": [
        {
          "name": "stdout",
          "output_type": "stream",
          "text": [
            "ord('A') = 65\n",
            "chr(65) = A\n",
            "A-B-C-D-E-F-G-H-I-J-K-L-M-N-O-P-Q-R-S-T-U-V-W-X-Y-Z\n"
          ]
        }
      ],
      "source": [
        "print(\"ord('A') =\", ord(\"A\"))\n",
        "print(\"chr(65) =\", chr(65))\n",
        "\n",
        "# don't worry about not understanding the following line,\n",
        "# it's just to catch a glimpse of the mighty Python's power\n",
        "alphabet_kebab = \"-\".join(chr(c) for c in range(ord(\"A\"), ord(\"Z\")+1))\n",
        "\n",
        "print(alphabet_kebab)\n"
      ]
    },
    {
      "cell_type": "markdown",
      "metadata": {
        "id": "E8dJyPu9MJ0j"
      },
      "source": [
        "Съществува и тип за низ от *байтове* - `bytes`. Има си и литерал, който е като този на `str`, но просто с едно `b` преди отварящите кавички.\n",
        "\n",
        "Конвертирането му от и до `str` става единственo чрез подбиране на правилен енкодинг (UTF-8 или друг) и може да хвърли грешка."
      ]
    },
    {
      "cell_type": "code",
      "execution_count": 24,
      "metadata": {},
      "outputs": [
        {
          "data": {
            "text/plain": [
              "b'You can use ASCII characters as well as \\\\x syntax, e.g. \\x00\\x01, etc.'"
            ]
          },
          "execution_count": 24,
          "metadata": {},
          "output_type": "execute_result"
        }
      ],
      "source": [
        "bytes_literal = b\"You can use ASCII characters as well as \\x5C\\x78 syntax, e.g. \\x00\\x01, etc.\"\n",
        "bytes_literal"
      ]
    },
    {
      "cell_type": "code",
      "execution_count": 25,
      "metadata": {},
      "outputs": [
        {
          "data": {
            "text/plain": [
              "bytes"
            ]
          },
          "execution_count": 25,
          "metadata": {},
          "output_type": "execute_result"
        }
      ],
      "source": [
        "type(bytes_literal)"
      ]
    },
    {
      "cell_type": "code",
      "execution_count": 26,
      "metadata": {},
      "outputs": [
        {
          "data": {
            "text/plain": [
              "'You can use ASCII characters as well as \\\\x syntax, e.g. \\x00\\x01, etc.'"
            ]
          },
          "execution_count": 26,
          "metadata": {},
          "output_type": "execute_result"
        }
      ],
      "source": [
        "str_from_bytes = bytes_literal.decode(\"utf-8\")\n",
        "str_from_bytes"
      ]
    },
    {
      "cell_type": "code",
      "execution_count": 27,
      "metadata": {},
      "outputs": [
        {
          "data": {
            "text/plain": [
              "str"
            ]
          },
          "execution_count": 27,
          "metadata": {},
          "output_type": "execute_result"
        }
      ],
      "source": [
        "type(str_from_bytes)"
      ]
    },
    {
      "cell_type": "code",
      "execution_count": 28,
      "metadata": {},
      "outputs": [
        {
          "data": {
            "text/plain": [
              "b'You can use ASCII characters as well as \\\\x syntax, e.g. \\x00\\x01, etc.'"
            ]
          },
          "execution_count": 28,
          "metadata": {},
          "output_type": "execute_result"
        }
      ],
      "source": [
        "bytes_from_str = str_from_bytes.encode(\"utf-8\")\n",
        "bytes_from_str"
      ]
    },
    {
      "cell_type": "code",
      "execution_count": 29,
      "metadata": {},
      "outputs": [
        {
          "ename": "UnicodeDecodeError",
          "evalue": "'utf-8' codec can't decode byte 0xbe in position 2: invalid start byte",
          "output_type": "error",
          "traceback": [
            "\u001b[1;31m---------------------------------------------------------------------------\u001b[0m",
            "\u001b[1;31mUnicodeDecodeError\u001b[0m                        Traceback (most recent call last)",
            "Cell \u001b[1;32mIn[29], line 2\u001b[0m\n\u001b[0;32m      1\u001b[0m deadbeef \u001b[38;5;241m=\u001b[39m \u001b[38;5;124mb\u001b[39m\u001b[38;5;124m\"\u001b[39m\u001b[38;5;130;01m\\xDE\u001b[39;00m\u001b[38;5;130;01m\\xAD\u001b[39;00m\u001b[38;5;130;01m\\xBE\u001b[39;00m\u001b[38;5;130;01m\\xEF\u001b[39;00m\u001b[38;5;124m\"\u001b[39m\n\u001b[1;32m----> 2\u001b[0m \u001b[43mdeadbeef\u001b[49m\u001b[38;5;241;43m.\u001b[39;49m\u001b[43mdecode\u001b[49m\u001b[43m(\u001b[49m\u001b[38;5;124;43m\"\u001b[39;49m\u001b[38;5;124;43mutf-8\u001b[39;49m\u001b[38;5;124;43m\"\u001b[39;49m\u001b[43m)\u001b[49m\n",
            "\u001b[1;31mUnicodeDecodeError\u001b[0m: 'utf-8' codec can't decode byte 0xbe in position 2: invalid start byte"
          ]
        }
      ],
      "source": [
        "deadbeef = b\"\\xDE\\xAD\\xBE\\xEF\"\n",
        "deadbeef.decode(\"utf-8\")"
      ]
    },
    {
      "cell_type": "markdown",
      "metadata": {
        "id": "biqpSMrLMJ0j"
      },
      "source": [
        "Интерполацията на низове е възможна по три основни начина:\n",
        "* Форматиране с `%` (old-school)\n",
        "* `str.format` (от Python 3 насам, back-port-нат към Python 2.7)\n",
        "* f-strings (от Python 3.6 насам)"
      ]
    },
    {
      "cell_type": "markdown",
      "metadata": {},
      "source": [
        "%-formatting:"
      ]
    },
    {
      "cell_type": "code",
      "execution_count": 30,
      "metadata": {},
      "outputs": [
        {
          "data": {
            "text/plain": [
              "'The C programming language was created in 1972 by Dennis Ritchie.'"
            ]
          },
          "execution_count": 30,
          "metadata": {},
          "output_type": "execute_result"
        }
      ],
      "source": [
        "\"The %s programming language was created in %d by %s.\" % (\"C\", 1972, \"Dennis Ritchie\")"
      ]
    },
    {
      "cell_type": "markdown",
      "metadata": {},
      "source": [
        "str.format:"
      ]
    },
    {
      "cell_type": "code",
      "execution_count": 31,
      "metadata": {},
      "outputs": [
        {
          "data": {
            "text/plain": [
              "'MC Ton4ou only knows the first 5 decimal places of π: 3.14159.'"
            ]
          },
          "execution_count": 31,
          "metadata": {},
          "output_type": "execute_result"
        }
      ],
      "source": [
        "from math import pi\n",
        "\n",
        "\"{} only knows the first 5 decimal places of π: {:.5f}.\".format(\"MC Ton4ou\", pi)"
      ]
    },
    {
      "cell_type": "code",
      "execution_count": 32,
      "metadata": {},
      "outputs": [
        {
          "name": "stdout",
          "output_type": "stream",
          "text": [
            "由于spam，@gosho_the_dove被屏蔽\n",
            "@gosho_the_dove is blocked due to spam\n"
          ]
        }
      ],
      "source": [
        "chinese_template = \"由于{reason}，{subject}被屏蔽\"\n",
        "english_template = \"{subject} is blocked due to {reason}\"\n",
        "\n",
        "subject = \"@gosho_the_dove\"\n",
        "reason = \"spam\"\n",
        "\n",
        "print(chinese_template.format(subject=subject, reason=reason))\n",
        "print(english_template.format(subject=subject, reason=reason))"
      ]
    },
    {
      "cell_type": "markdown",
      "metadata": {},
      "source": [
        "f-strings:"
      ]
    },
    {
      "cell_type": "code",
      "execution_count": 33,
      "metadata": {},
      "outputs": [
        {
          "data": {
            "text/plain": [
              "'Program bot.py finished execution at 1726320488.99 unix time.'"
            ]
          },
          "execution_count": 33,
          "metadata": {},
          "output_type": "execute_result"
        }
      ],
      "source": [
        "from time import time\n",
        "\n",
        "name = \"bot.py\"\n",
        "\n",
        "f\"Program {name} finished execution at {time():.2f} unix time.\""
      ]
    },
    {
      "cell_type": "code",
      "execution_count": 34,
      "metadata": {},
      "outputs": [
        {
          "data": {
            "text/plain": [
              "'Debug info: some_variable=3735928559'"
            ]
          },
          "execution_count": 34,
          "metadata": {},
          "output_type": "execute_result"
        }
      ],
      "source": [
        "some_variable = 0xdeadbeef\n",
        "\n",
        "f\"Debug info: {some_variable=}\"  # the '=' here puts the name as well as the value"
      ]
    },
    {
      "cell_type": "markdown",
      "metadata": {
        "id": "FVqn9GNBMJ0j"
      },
      "source": [
        "Низовете са колекции и могат да бъдат използвани като такива. Повече за тях в следваща лекция, засега може да ги мислим като масиви от символи."
      ]
    },
    {
      "cell_type": "code",
      "execution_count": 35,
      "metadata": {
        "id": "DhnlxDynMJ0j",
        "outputId": "4576dfd9-bed0-48b9-d8f9-76b9a08bc6d3"
      },
      "outputs": [
        {
          "name": "stdout",
          "output_type": "stream",
          "text": [
            "length=5, first_char='H'\n",
            "===H===\n",
            "===e===\n",
            "===l===\n",
            "===l===\n",
            "===o===\n"
          ]
        }
      ],
      "source": [
        "s = \"Hello\"\n",
        "\n",
        "length = len(s)     # the length\n",
        "first_char = s[0]  # the first character (element @ index 0)\n",
        "\n",
        "print(f\"{length=}, {first_char=}\")\n",
        "\n",
        "for char in s:\n",
        "    print(\"===\" + char + \"===\")\n"
      ]
    },
    {
      "cell_type": "markdown",
      "metadata": {
        "id": "8aYistS7MJ0j"
      },
      "source": [
        "Обработката на низове става сравнително лесно чрез предоставените ни вградени функции и методи:"
      ]
    },
    {
      "cell_type": "markdown",
      "metadata": {},
      "source": [
        "`replace`:"
      ]
    },
    {
      "cell_type": "code",
      "execution_count": 36,
      "metadata": {},
      "outputs": [
        {
          "data": {
            "text/plain": [
              "'Deutschland ueber alles!'"
            ]
          },
          "execution_count": 36,
          "metadata": {},
          "output_type": "execute_result"
        }
      ],
      "source": [
        "\"Deutschland über alles!\".replace(\"ü\", \"ue\")"
      ]
    },
    {
      "cell_type": "markdown",
      "metadata": {},
      "source": [
        "`split`:"
      ]
    },
    {
      "cell_type": "code",
      "execution_count": 37,
      "metadata": {},
      "outputs": [
        {
          "data": {
            "text/plain": [
              "['nofilter', 'nomakeup', 'feltcutemightdeletelater', 'f4f', 'follow4follow']"
            ]
          },
          "execution_count": 37,
          "metadata": {},
          "output_type": "execute_result"
        }
      ],
      "source": [
        "post_hastags = \"#nofilter #nomakeup #feltcutemightdeletelater #f4f #follow4follow\"\n",
        "\n",
        "# first remove all '#', then split using a space as a delimiter into a list of strings\n",
        "# (those operators can be chained)\n",
        "tags_list = post_hastags.replace(\"#\", \"\").split(\" \")\n",
        "\n",
        "# `tags_list` is of type `list` - more on this type later\n",
        "tags_list"
      ]
    },
    {
      "cell_type": "markdown",
      "metadata": {},
      "source": [
        "`join`:"
      ]
    },
    {
      "cell_type": "code",
      "execution_count": 38,
      "metadata": {},
      "outputs": [
        {
          "data": {
            "text/plain": [
              "'nofilter; nomakeup; feltcutemightdeletelater; f4f; follow4follow'"
            ]
          },
          "execution_count": 38,
          "metadata": {},
          "output_type": "execute_result"
        }
      ],
      "source": [
        "# `join` accepts an iterable (like a `list`) as an argument\n",
        "# and glues all the elements together using the string it's called on\n",
        "\"; \".join(tags_list)"
      ]
    },
    {
      "cell_type": "markdown",
      "metadata": {},
      "source": [
        "`lower`, `upper`, `capitalize`:"
      ]
    },
    {
      "cell_type": "code",
      "execution_count": 39,
      "metadata": {
        "id": "DX1yrrCSMJ0j",
        "outputId": "7c5cf647-a6b9-4fa8-be0e-7afe5e1b4814"
      },
      "outputs": [
        {
          "data": {
            "text/plain": [
              "'spongebob squarepants'"
            ]
          },
          "execution_count": 39,
          "metadata": {},
          "output_type": "execute_result"
        }
      ],
      "source": [
        "\"SpOnGeBoB squarepants\".lower()"
      ]
    },
    {
      "cell_type": "code",
      "execution_count": 40,
      "metadata": {},
      "outputs": [
        {
          "data": {
            "text/plain": [
              "'SPONGEBOB SQUAREPANTS'"
            ]
          },
          "execution_count": 40,
          "metadata": {},
          "output_type": "execute_result"
        }
      ],
      "source": [
        "\"SpOnGeBoB squarepants\".upper()"
      ]
    },
    {
      "cell_type": "code",
      "execution_count": 41,
      "metadata": {},
      "outputs": [
        {
          "data": {
            "text/plain": [
              "'Spongebob squarepants'"
            ]
          },
          "execution_count": 41,
          "metadata": {},
          "output_type": "execute_result"
        }
      ],
      "source": [
        "\"SpOnGeBoB squarepants\".capitalize()"
      ]
    },
    {
      "cell_type": "markdown",
      "metadata": {
        "id": "srFSwtzhMJ0j"
      },
      "source": [
        "### Булеви\n",
        "\n",
        "Тип `bool` има две възможни стойности: `True` и `False`.\n",
        "\n",
        "За разлика от повечето други езици, вместо `!`, `||` и `&&` използваме `not`, `or` и `and`. Както си и трябва."
      ]
    },
    {
      "cell_type": "code",
      "execution_count": 42,
      "metadata": {},
      "outputs": [
        {
          "data": {
            "text/plain": [
              "False"
            ]
          },
          "execution_count": 42,
          "metadata": {},
          "output_type": "execute_result"
        }
      ],
      "source": [
        "t = True\n",
        "f = not t\n",
        "\n",
        "f"
      ]
    },
    {
      "cell_type": "code",
      "execution_count": 43,
      "metadata": {},
      "outputs": [
        {
          "data": {
            "text/plain": [
              "True"
            ]
          },
          "execution_count": 43,
          "metadata": {},
          "output_type": "execute_result"
        }
      ],
      "source": [
        "not f"
      ]
    },
    {
      "cell_type": "code",
      "execution_count": 44,
      "metadata": {},
      "outputs": [
        {
          "data": {
            "text/plain": [
              "True"
            ]
          },
          "execution_count": 44,
          "metadata": {},
          "output_type": "execute_result"
        }
      ],
      "source": [
        "t or f"
      ]
    },
    {
      "cell_type": "code",
      "execution_count": 45,
      "metadata": {},
      "outputs": [
        {
          "data": {
            "text/plain": [
              "False"
            ]
          },
          "execution_count": 45,
          "metadata": {},
          "output_type": "execute_result"
        }
      ],
      "source": [
        "t and f"
      ]
    },
    {
      "cell_type": "code",
      "execution_count": 46,
      "metadata": {},
      "outputs": [
        {
          "data": {
            "text/plain": [
              "True"
            ]
          },
          "execution_count": 46,
          "metadata": {},
          "output_type": "execute_result"
        }
      ],
      "source": [
        "t and not f"
      ]
    },
    {
      "cell_type": "markdown",
      "metadata": {
        "id": "paKzj8jGMJ0j"
      },
      "source": [
        "⚠️ `or` и `and` всъщност не връщат винаги `bool`, а стойността на първия операнд отляво надясно, след който каквито и да са стойностите на другите резултатът остава същия:"
      ]
    },
    {
      "cell_type": "code",
      "execution_count": 47,
      "metadata": {},
      "outputs": [
        {
          "data": {
            "text/plain": [
              "1"
            ]
          },
          "execution_count": 47,
          "metadata": {},
          "output_type": "execute_result"
        }
      ],
      "source": [
        "1 or 2 or 3"
      ]
    },
    {
      "cell_type": "code",
      "execution_count": 48,
      "metadata": {},
      "outputs": [
        {
          "data": {
            "text/plain": [
              "3"
            ]
          },
          "execution_count": 48,
          "metadata": {},
          "output_type": "execute_result"
        }
      ],
      "source": [
        "1 and 2 and 3"
      ]
    },
    {
      "cell_type": "code",
      "execution_count": 49,
      "metadata": {},
      "outputs": [
        {
          "data": {
            "text/plain": [
              "1"
            ]
          },
          "execution_count": 49,
          "metadata": {},
          "output_type": "execute_result"
        }
      ],
      "source": [
        "1 or 0 or 3"
      ]
    },
    {
      "cell_type": "code",
      "execution_count": 50,
      "metadata": {},
      "outputs": [
        {
          "data": {
            "text/plain": [
              "0"
            ]
          },
          "execution_count": 50,
          "metadata": {},
          "output_type": "execute_result"
        }
      ],
      "source": [
        "1 and 0 and 3"
      ]
    },
    {
      "cell_type": "markdown",
      "metadata": {
        "id": "S_N1NNoaMJ0k"
      },
      "source": [
        "Можем да се възползваме от това в кода ни с изрази и функции, чието изпълнение зависи от предходния резултат:"
      ]
    },
    {
      "cell_type": "code",
      "execution_count": 51,
      "metadata": {
        "id": "2PhpGlNCMJ0k",
        "outputId": "f405b5fa-07e8-452f-b323-0047ff59b818"
      },
      "outputs": [
        {
          "name": "stdout",
          "output_type": "stream",
          "text": [
            "Function 1 is being executed.\n",
            "OK\n"
          ]
        }
      ],
      "source": [
        "def func1():\n",
        "    print(\"Function 1 is being executed.\")\n",
        "    return True\n",
        "\n",
        "def func2():\n",
        "    print(\"Function 2 is being executed.\")\n",
        "    return True\n",
        "\n",
        "if func1() or func2():\n",
        "    print(\"OK\")"
      ]
    },
    {
      "cell_type": "markdown",
      "metadata": {
        "id": "gW1Dc2TDMJ0k"
      },
      "source": [
        "### `None`\n",
        "\n",
        "`None` е стойност (и тип), обозначаваща липса на стойност (🤔).\n",
        "\n",
        "*Note*: Когато една функция **не** преминава през `return` израз, тя всъщност връща `None` като резултат."
      ]
    },
    {
      "cell_type": "code",
      "execution_count": 52,
      "metadata": {
        "id": "F4XJXsuTMJ0k",
        "outputId": "453bace0-f77d-413d-ed06-159c58a04ac4"
      },
      "outputs": [
        {
          "name": "stdout",
          "output_type": "stream",
          "text": [
            "The print function isn't intended to return a specific value.\n",
            "None\n"
          ]
        }
      ],
      "source": [
        "result_of_print = print(\"The print function isn't intended to return a specific value.\")\n",
        "print(result_of_print)"
      ]
    },
    {
      "cell_type": "markdown",
      "metadata": {
        "id": "vcSE0kJ2MJ0k"
      },
      "source": [
        "### `type`\n",
        "`type` е функция, която ни връща типа на дадена стойност:"
      ]
    },
    {
      "cell_type": "code",
      "execution_count": 53,
      "metadata": {
        "id": "ayQ2B_ljMJ0k",
        "outputId": "de9ec149-e7d9-4847-c0ba-a1fc16ef7d05"
      },
      "outputs": [
        {
          "data": {
            "text/plain": [
              "int"
            ]
          },
          "execution_count": 53,
          "metadata": {},
          "output_type": "execute_result"
        }
      ],
      "source": [
        "type(42)"
      ]
    },
    {
      "cell_type": "markdown",
      "metadata": {
        "id": "5hG0Km3CMJ0k"
      },
      "source": [
        "Но всичко в Python е обект, включително и функциите:"
      ]
    },
    {
      "cell_type": "code",
      "execution_count": 54,
      "metadata": {
        "id": "v_qRvwXbMJ0k",
        "outputId": "6ab8e98e-0025-46d1-9bf8-655db0e549e9"
      },
      "outputs": [
        {
          "data": {
            "text/plain": [
              "builtin_function_or_method"
            ]
          },
          "execution_count": 54,
          "metadata": {},
          "output_type": "execute_result"
        }
      ],
      "source": [
        "type(print)"
      ]
    },
    {
      "cell_type": "markdown",
      "metadata": {
        "id": "Tw1VHrBQMJ0k"
      },
      "source": [
        "Следователно, `type` също си има тип:"
      ]
    },
    {
      "cell_type": "code",
      "execution_count": 55,
      "metadata": {
        "id": "aBPnLWx5MJ0k",
        "outputId": "fecbc3a0-baa0-4920-b52f-dc010be38dc5"
      },
      "outputs": [
        {
          "data": {
            "text/plain": [
              "type"
            ]
          },
          "execution_count": 55,
          "metadata": {},
          "output_type": "execute_result"
        }
      ],
      "source": [
        "type(type)"
      ]
    },
    {
      "cell_type": "markdown",
      "metadata": {
        "id": "c8bK6mOkMJ0k"
      },
      "source": [
        "😵‍💫"
      ]
    },
    {
      "cell_type": "code",
      "execution_count": 56,
      "metadata": {
        "id": "59jLHBV5MJ0k",
        "outputId": "675653f6-6348-453b-e256-36138ea78742"
      },
      "outputs": [
        {
          "data": {
            "text/plain": [
              "type"
            ]
          },
          "execution_count": 56,
          "metadata": {},
          "output_type": "execute_result"
        }
      ],
      "source": [
        "type(type(type(type(type(type)))))"
      ]
    },
    {
      "cell_type": "markdown",
      "metadata": {
        "id": "Bf_JFQUTMJ0k"
      },
      "source": [
        "### `tuple`, `list`, `set`, `dict`: четирите вградени колекции\n",
        "\n",
        "* `tuple`: наредена $n$-торка (още **кортеж**), която **не може да се променя** (immutable) \n",
        "* `list`: **списък** от елементи, който **може да се променя** (mutable)\n",
        "* `set`: **множество** от елементи без наредба и повторения (HashSet) (mutable)\n",
        "* `dict`: **речник** от ключове и стойности (HashMap) (mutable)\n",
        "\n",
        "Елементите и на четирите колекции могат да бъдат от различни типове."
      ]
    },
    {
      "cell_type": "code",
      "execution_count": 57,
      "metadata": {},
      "outputs": [
        {
          "data": {
            "text/plain": [
              "(1, 'b', False)"
            ]
          },
          "execution_count": 57,
          "metadata": {},
          "output_type": "execute_result"
        }
      ],
      "source": [
        "t = (1, \"b\", False)  # tuples are with () or without any brackets\n",
        "t"
      ]
    },
    {
      "cell_type": "code",
      "execution_count": 58,
      "metadata": {},
      "outputs": [
        {
          "data": {
            "text/plain": [
              "(1, 'b', False)"
            ]
          },
          "execution_count": 58,
          "metadata": {},
          "output_type": "execute_result"
        }
      ],
      "source": [
        "t = 1, \"b\", False\n",
        "t"
      ]
    },
    {
      "cell_type": "code",
      "execution_count": 59,
      "metadata": {},
      "outputs": [
        {
          "data": {
            "text/plain": [
              "[1, 'b', False]"
            ]
          },
          "execution_count": 59,
          "metadata": {},
          "output_type": "execute_result"
        }
      ],
      "source": [
        "l = [1, \"b\", False]  # lists are with []\n",
        "l"
      ]
    },
    {
      "cell_type": "code",
      "execution_count": 60,
      "metadata": {},
      "outputs": [
        {
          "data": {
            "text/plain": [
              "{1, False, 'b'}"
            ]
          },
          "execution_count": 60,
          "metadata": {},
          "output_type": "execute_result"
        }
      ],
      "source": [
        "s = {1, \"b\", False}  # sets are with {}\n",
        "s"
      ]
    },
    {
      "cell_type": "code",
      "execution_count": 61,
      "metadata": {},
      "outputs": [
        {
          "data": {
            "text/plain": [
              "{'a': 1, 'b': 2, 'c': 3, '幸': None}"
            ]
          },
          "execution_count": 61,
          "metadata": {},
          "output_type": "execute_result"
        }
      ],
      "source": [
        "d = {\"a\": 1, \"b\": 2, \"c\": 3, \"幸\": None}  # dicts are also with {}\n",
        "d"
      ]
    },
    {
      "cell_type": "markdown",
      "metadata": {
        "id": "-ay9ihgaMJ0k"
      },
      "source": [
        "⚠️ `{}` е празен `dict`, а не празен `set`. За празен `set` се ползва конструктора `set()`."
      ]
    },
    {
      "cell_type": "code",
      "execution_count": 62,
      "metadata": {
        "id": "4BAWiHVXMJ0l",
        "outputId": "61500977-eb4e-42a6-8fa8-260610c91e77"
      },
      "outputs": [
        {
          "data": {
            "text/plain": [
              "dict"
            ]
          },
          "execution_count": 62,
          "metadata": {},
          "output_type": "execute_result"
        }
      ],
      "source": [
        "type({})"
      ]
    },
    {
      "cell_type": "markdown",
      "metadata": {
        "id": "RNQh-MeQMJ0l"
      },
      "source": [
        "⚠️ Понеже нормалните скоби са и... нормални скоби, които обособяват израз и връщат стойността му, `tuple` с един елемент се дефинира със запетайка след елемента. Освен това няма нужда от обграждащи скоби при задаване на `tuple` с повече от нула елементи."
      ]
    },
    {
      "cell_type": "code",
      "execution_count": 63,
      "metadata": {},
      "outputs": [
        {
          "data": {
            "text/plain": [
              "(42,)"
            ]
          },
          "execution_count": 63,
          "metadata": {},
          "output_type": "execute_result"
        }
      ],
      "source": [
        "one_element_tuple = (42,)\n",
        "one_element_tuple"
      ]
    },
    {
      "cell_type": "code",
      "execution_count": 64,
      "metadata": {},
      "outputs": [
        {
          "data": {
            "text/plain": [
              "(42,)"
            ]
          },
          "execution_count": 64,
          "metadata": {},
          "output_type": "execute_result"
        }
      ],
      "source": [
        "one_element_tuple_again = 42,\n",
        "one_element_tuple_again"
      ]
    },
    {
      "cell_type": "markdown",
      "metadata": {},
      "source": [
        "*Въпрос:* Как да създадем празен `tuple`? 🤔"
      ]
    },
    {
      "cell_type": "markdown",
      "metadata": {
        "id": "gYjHY7YYMJ0l"
      },
      "source": [
        "Кога кое да ползваме? Rule of thumb:\n",
        "* `tuple` - когато искаме функция да върне няколко наредени неща / списък, който не може да бъде променян и може да бъде хеширан /  анонимен `dataclass` (проста структурка с няколко елемента)\n",
        "* `list` - когато искаме нареден списък, който да може да бъде променян и може да има повторения\n",
        "* `set` - когато наредбата не ни трябва и нямаме повторения / когато искаме да проверим за принадлежност на елемент към множество ($ O(1) $ vs. $ O(n) $ за `list`)\n",
        "* `dict` - когато искаме да асоциираме дадени ключове с дадени стойности"
      ]
    },
    {
      "cell_type": "markdown",
      "metadata": {
        "id": "vFFPV3kyMJ0l"
      },
      "source": [
        "Ключовата дума `in` е полезна при работа с такива колекции. Тя връща `bool` който ни казва дали даден елемент се среща вътре:"
      ]
    },
    {
      "cell_type": "code",
      "execution_count": 65,
      "metadata": {},
      "outputs": [
        {
          "data": {
            "text/plain": [
              "True"
            ]
          },
          "execution_count": 65,
          "metadata": {},
          "output_type": "execute_result"
        }
      ],
      "source": [
        "impostor = 1j\n",
        "squad = [0, 1j, 2, 3, 4, 5]\n",
        "\n",
        "impostor in squad"
      ]
    },
    {
      "cell_type": "code",
      "execution_count": 66,
      "metadata": {},
      "outputs": [
        {
          "data": {
            "text/plain": [
              "False"
            ]
          },
          "execution_count": 66,
          "metadata": {},
          "output_type": "execute_result"
        }
      ],
      "source": [
        "members = {\"A\": 0, \"B\": 1j, \"C\": 2, \"D\": 3, \"E\": 4, \"F\": 5}\n",
        "\n",
        "# `in` searches in the dictionary's keys, not values\n",
        "impostor in members"
      ]
    },
    {
      "cell_type": "code",
      "execution_count": 67,
      "metadata": {},
      "outputs": [
        {
          "data": {
            "text/plain": [
              "True"
            ]
          },
          "execution_count": 67,
          "metadata": {},
          "output_type": "execute_result"
        }
      ],
      "source": [
        "impostor in members.values()"
      ]
    },
    {
      "cell_type": "code",
      "execution_count": 68,
      "metadata": {},
      "outputs": [
        {
          "data": {
            "text/plain": [
              "False"
            ]
          },
          "execution_count": 68,
          "metadata": {},
          "output_type": "execute_result"
        }
      ],
      "source": [
        "impostor in members.keys()"
      ]
    },
    {
      "cell_type": "markdown",
      "metadata": {
        "id": "O0H0DjueMJ0l"
      },
      "source": [
        "`in` може да се ползва и за `str`:"
      ]
    },
    {
      "cell_type": "code",
      "execution_count": 69,
      "metadata": {
        "id": "RUFpgOGyMJ0l",
        "outputId": "044dba65-4927-47e6-ea9c-882eca4ff1ff"
      },
      "outputs": [
        {
          "data": {
            "text/plain": [
              "True"
            ]
          },
          "execution_count": 69,
          "metadata": {},
          "output_type": "execute_result"
        }
      ],
      "source": [
        "\"mile\" in \"smiles\""
      ]
    },
    {
      "cell_type": "markdown",
      "metadata": {
        "id": "zApcMytEMJ0l"
      },
      "source": [
        "Дължината им се взима с `len`:"
      ]
    },
    {
      "cell_type": "code",
      "execution_count": 70,
      "metadata": {
        "id": "zqER1iKUMJ0l",
        "outputId": "6371999a-bf06-4a3c-937a-5cbd453bced2"
      },
      "outputs": [
        {
          "data": {
            "text/plain": [
              "3"
            ]
          },
          "execution_count": 70,
          "metadata": {},
          "output_type": "execute_result"
        }
      ],
      "source": [
        "len([0, 1, 2])"
      ]
    },
    {
      "cell_type": "code",
      "execution_count": 71,
      "metadata": {},
      "outputs": [
        {
          "data": {
            "text/plain": [
              "3"
            ]
          },
          "execution_count": 71,
          "metadata": {},
          "output_type": "execute_result"
        }
      ],
      "source": [
        "len((0, 1, 2))"
      ]
    },
    {
      "cell_type": "code",
      "execution_count": 72,
      "metadata": {},
      "outputs": [
        {
          "data": {
            "text/plain": [
              "3"
            ]
          },
          "execution_count": 72,
          "metadata": {},
          "output_type": "execute_result"
        }
      ],
      "source": [
        "len({1, 1, 1, 1, 1, 2, 3})"
      ]
    },
    {
      "cell_type": "code",
      "execution_count": 73,
      "metadata": {},
      "outputs": [
        {
          "data": {
            "text/plain": [
              "11"
            ]
          },
          "execution_count": 73,
          "metadata": {},
          "output_type": "execute_result"
        }
      ],
      "source": [
        "len(\"abracadabra\")"
      ]
    },
    {
      "cell_type": "markdown",
      "metadata": {
        "id": "wqBJyCr-MJ0l"
      },
      "source": [
        "`tuple` и `list` поддържат индексиране, като за `tuple` това е само read-only:"
      ]
    },
    {
      "cell_type": "code",
      "execution_count": 74,
      "metadata": {},
      "outputs": [
        {
          "data": {
            "text/plain": [
              "'a'"
            ]
          },
          "execution_count": 74,
          "metadata": {},
          "output_type": "execute_result"
        }
      ],
      "source": [
        "t = (\"a\", \"b\", \"c\")\n",
        "t[0]"
      ]
    },
    {
      "cell_type": "code",
      "execution_count": 75,
      "metadata": {},
      "outputs": [
        {
          "data": {
            "text/plain": [
              "'a'"
            ]
          },
          "execution_count": 75,
          "metadata": {},
          "output_type": "execute_result"
        }
      ],
      "source": [
        "l = [\"a\", \"b\", \"c\"]\n",
        "l[0]"
      ]
    },
    {
      "cell_type": "code",
      "execution_count": 76,
      "metadata": {},
      "outputs": [
        {
          "data": {
            "text/plain": [
              "['A', 'b', 'c']"
            ]
          },
          "execution_count": 76,
          "metadata": {},
          "output_type": "execute_result"
        }
      ],
      "source": [
        "l[0] = \"A\"\n",
        "l"
      ]
    },
    {
      "cell_type": "code",
      "execution_count": 77,
      "metadata": {},
      "outputs": [
        {
          "ename": "TypeError",
          "evalue": "'tuple' object does not support item assignment",
          "output_type": "error",
          "traceback": [
            "\u001b[1;31m---------------------------------------------------------------------------\u001b[0m",
            "\u001b[1;31mTypeError\u001b[0m                                 Traceback (most recent call last)",
            "Cell \u001b[1;32mIn[77], line 1\u001b[0m\n\u001b[1;32m----> 1\u001b[0m \u001b[43mt\u001b[49m\u001b[43m[\u001b[49m\u001b[38;5;241;43m0\u001b[39;49m\u001b[43m]\u001b[49m \u001b[38;5;241m=\u001b[39m \u001b[38;5;124m\"\u001b[39m\u001b[38;5;124mA\u001b[39m\u001b[38;5;124m\"\u001b[39m  \u001b[38;5;66;03m# 💥\u001b[39;00m\n",
            "\u001b[1;31mTypeError\u001b[0m: 'tuple' object does not support item assignment"
          ]
        }
      ],
      "source": [
        "t[0] = \"A\"  # 💥"
      ]
    },
    {
      "cell_type": "markdown",
      "metadata": {
        "id": "wx4Iue3iMJ0l"
      },
      "source": [
        "По същия начин става взимането/записването на стойност в `dict`. Съществува и метода `get` който ни предоставя по-безопасен начин при достъпването на несъществуващи ключове:"
      ]
    },
    {
      "cell_type": "code",
      "execution_count": 78,
      "metadata": {},
      "outputs": [
        {
          "data": {
            "text/plain": [
              "{}"
            ]
          },
          "execution_count": 78,
          "metadata": {},
          "output_type": "execute_result"
        }
      ],
      "source": [
        "d = {}  # an empty dictoinary\n",
        "d"
      ]
    },
    {
      "cell_type": "code",
      "execution_count": 79,
      "metadata": {},
      "outputs": [
        {
          "data": {
            "text/plain": [
              "{'a': 1}"
            ]
          },
          "execution_count": 79,
          "metadata": {},
          "output_type": "execute_result"
        }
      ],
      "source": [
        "d[\"a\"] = 1\n",
        "d"
      ]
    },
    {
      "cell_type": "code",
      "execution_count": 80,
      "metadata": {},
      "outputs": [
        {
          "data": {
            "text/plain": [
              "1"
            ]
          },
          "execution_count": 80,
          "metadata": {},
          "output_type": "execute_result"
        }
      ],
      "source": [
        "d[\"a\"]"
      ]
    },
    {
      "cell_type": "code",
      "execution_count": 81,
      "metadata": {},
      "outputs": [
        {
          "data": {
            "text/plain": [
              "1"
            ]
          },
          "execution_count": 81,
          "metadata": {},
          "output_type": "execute_result"
        }
      ],
      "source": [
        "d.get(\"a\")"
      ]
    },
    {
      "cell_type": "code",
      "execution_count": 82,
      "metadata": {},
      "outputs": [
        {
          "name": "stdout",
          "output_type": "stream",
          "text": [
            "None\n"
          ]
        }
      ],
      "source": [
        "print(d.get(\"b\"))  # using `print`` because Jupyter doesn't show `None` as output"
      ]
    },
    {
      "cell_type": "code",
      "execution_count": 83,
      "metadata": {},
      "outputs": [
        {
          "data": {
            "text/plain": [
              "'default value'"
            ]
          },
          "execution_count": 83,
          "metadata": {},
          "output_type": "execute_result"
        }
      ],
      "source": [
        "d.get(\"b\", \"default value\")"
      ]
    },
    {
      "cell_type": "code",
      "execution_count": 84,
      "metadata": {},
      "outputs": [
        {
          "ename": "KeyError",
          "evalue": "'b'",
          "output_type": "error",
          "traceback": [
            "\u001b[1;31m---------------------------------------------------------------------------\u001b[0m",
            "\u001b[1;31mKeyError\u001b[0m                                  Traceback (most recent call last)",
            "Cell \u001b[1;32mIn[84], line 1\u001b[0m\n\u001b[1;32m----> 1\u001b[0m \u001b[43md\u001b[49m\u001b[43m[\u001b[49m\u001b[38;5;124;43m\"\u001b[39;49m\u001b[38;5;124;43mb\u001b[39;49m\u001b[38;5;124;43m\"\u001b[39;49m\u001b[43m]\u001b[49m  \u001b[38;5;66;03m# 💥\u001b[39;00m\n",
            "\u001b[1;31mKeyError\u001b[0m: 'b'"
          ]
        }
      ],
      "source": [
        "d[\"b\"]  # 💥"
      ]
    },
    {
      "cell_type": "markdown",
      "metadata": {
        "id": "t4FbY8RrMJ0l"
      },
      "source": [
        "*Pro tip*: `collections.defalutdict` е `dict` със зададена стойност по подразбиране, която се връща при липсващ ключ."
      ]
    },
    {
      "cell_type": "markdown",
      "metadata": {
        "id": "h-aWoaw0MJ0l"
      },
      "source": [
        "## Mutable vs Immutable\n",
        "\n",
        "Имената в Python *сочат* към някаква стойност в паметта."
      ]
    },
    {
      "cell_type": "code",
      "execution_count": 85,
      "metadata": {
        "id": "NHuy2kODMJ0l",
        "outputId": "4f511741-97d9-4058-cf5e-789555909821"
      },
      "outputs": [
        {
          "data": {
            "text/plain": [
              "1001"
            ]
          },
          "execution_count": 85,
          "metadata": {},
          "output_type": "execute_result"
        }
      ],
      "source": [
        "name = 1\n",
        "name += 1000\n",
        "\n",
        "name"
      ]
    },
    {
      "cell_type": "markdown",
      "metadata": {
        "id": "9p9GIkVoMJ0l"
      },
      "source": [
        "Горното парче код не променя стойността на `1`, а кара `name` да сочи към нова стойност - `1001`.\n",
        "\n",
        "Това е така, понеже `int` е **immutable** тип (такъв който не може да си променя стойността). Immutable са още всички числа, низове, `tuple`, `True`, `False`, `None` и [т.н.](https://www.youtube.com/watch?v=pNc1kboPuDU&list=PLkROH3Eqs0T8cWGQnJ2ZfLE5y9yohLk3x)\n",
        "\n",
        "Mutable типовете пък са `list`, `set`, `dict` и почти всичко останало."
      ]
    },
    {
      "cell_type": "code",
      "execution_count": 86,
      "metadata": {},
      "outputs": [
        {
          "name": "stdout",
          "output_type": "stream",
          "text": [
            "a =  1\n",
            "b =  2\n"
          ]
        }
      ],
      "source": [
        "a = 1\n",
        "b = a\n",
        "b += 1\n",
        "\n",
        "print(\"a = \", a)\n",
        "print(\"b = \", b)"
      ]
    },
    {
      "cell_type": "code",
      "execution_count": 87,
      "metadata": {
        "id": "IkqMQST-MJ0l",
        "outputId": "a844bf13-720e-4f14-e23e-0f43caf9190c"
      },
      "outputs": [
        {
          "name": "stdout",
          "output_type": "stream",
          "text": [
            "l1 =  [1, 2, 3]\n",
            "l2 =  [1, 2, 3]\n"
          ]
        }
      ],
      "source": [
        "l1 = [1, 2]\n",
        "l2 = l1\n",
        "l2.append(3)\n",
        "\n",
        "print(\"l1 = \", l1)\n",
        "print(\"l2 = \", l2)"
      ]
    },
    {
      "cell_type": "markdown",
      "metadata": {
        "id": "V3i1mgrHMJ0m"
      },
      "source": [
        "Важно е да се отбележи също, че валидни **ключове** за `dict` и елементи за `set` са само **immutable** стойности. По-точно, тези, които имат имплементация на хеширане (методът `__hash__`)."
      ]
    },
    {
      "cell_type": "code",
      "execution_count": 88,
      "metadata": {
        "id": "bqcVVHzEMJ0m",
        "outputId": "b83f0c86-3dd9-4f54-84e3-a52e98f6756d"
      },
      "outputs": [
        {
          "ename": "TypeError",
          "evalue": "unhashable type: 'list'",
          "output_type": "error",
          "traceback": [
            "\u001b[1;31m---------------------------------------------------------------------------\u001b[0m",
            "\u001b[1;31mTypeError\u001b[0m                                 Traceback (most recent call last)",
            "Cell \u001b[1;32mIn[88], line 2\u001b[0m\n\u001b[0;32m      1\u001b[0m l \u001b[38;5;241m=\u001b[39m [\u001b[38;5;241m1\u001b[39m, \u001b[38;5;241m2\u001b[39m]\n\u001b[1;32m----> 2\u001b[0m d \u001b[38;5;241m=\u001b[39m {l: \u001b[38;5;241m1\u001b[39m}  \u001b[38;5;66;03m# 💥\u001b[39;00m\n",
            "\u001b[1;31mTypeError\u001b[0m: unhashable type: 'list'"
          ]
        }
      ],
      "source": [
        "l = [1, 2]\n",
        "d = {l: 1}  # 💥"
      ]
    },
    {
      "cell_type": "markdown",
      "metadata": {
        "id": "RdBykr8TMJ0m"
      },
      "source": [
        "### Unpacking\n",
        "\n",
        "Unpacking-ът ни позволява да извлечем всички елементи от колекции в няколко различни други имена."
      ]
    },
    {
      "cell_type": "code",
      "execution_count": 89,
      "metadata": {
        "id": "qSGzJU8_MJ0m",
        "outputId": "fb0a2369-ed1b-4161-8e63-749c2c0992e5"
      },
      "outputs": [
        {
          "name": "stdout",
          "output_type": "stream",
          "text": [
            "firstname='Вовеки', lastname='Веков'\n",
            "a=1, b=2, c=3\n"
          ]
        }
      ],
      "source": [
        "firstname, lastname = \"Вовеки\", \"Веков\"\n",
        "\n",
        "tup = 1, 2, 3\n",
        "a, b, c = tup\n",
        "\n",
        "print(f\"{firstname=}, {lastname=}\")\n",
        "print(f\"{a=}, {b=}, {c=}\")"
      ]
    },
    {
      "cell_type": "markdown",
      "metadata": {
        "id": "x83AgfGxMJ0m"
      },
      "source": [
        "Pro tip: размяната на стойностите на две променливи в Python не изисква да дефинираме трета:"
      ]
    },
    {
      "cell_type": "code",
      "execution_count": 90,
      "metadata": {
        "id": "BEvii8ppMJ0m",
        "outputId": "68169785-8ac6-48f3-8992-bcb04b2630bc"
      },
      "outputs": [
        {
          "name": "stdout",
          "output_type": "stream",
          "text": [
            "a=2, b=1\n"
          ]
        }
      ],
      "source": [
        "a, b = 1, 2\n",
        "a, b = b, a\n",
        "\n",
        "print(f\"{a=}, {b=}\")"
      ]
    },
    {
      "cell_type": "markdown",
      "metadata": {
        "id": "P3nvtU_IMJ0m"
      },
      "source": [
        "За да посочим име, в което да се присвоят всички останали неприсвоени елементи от колекцията, която unpack-ваме, използваме астериск `*` (няма нищо общо с pointer, спокойно). Типът на такава променлива винаги става `list`."
      ]
    },
    {
      "cell_type": "code",
      "execution_count": 91,
      "metadata": {
        "id": "48_XV1yLMJ0m",
        "outputId": "968226e2-88e7-49fe-e502-4387aa5827af"
      },
      "outputs": [
        {
          "name": "stdout",
          "output_type": "stream",
          "text": [
            "head=1, tail=[2, 3, 4, 5]\n",
            "first=1, inbetween=[2, 3, 4, 5, 6, 7, 8, 9], last=10\n"
          ]
        }
      ],
      "source": [
        "head, *tail = [1, 2, 3, 4, 5]\n",
        "first, *inbetween, last = 1, 2, 3, 4, 5, 6, 7, 8, 9, 10\n",
        "\n",
        "print(f\"{head=}, {tail=}\")\n",
        "print(f\"{first=}, {inbetween=}, {last=}\")\n"
      ]
    },
    {
      "cell_type": "markdown",
      "metadata": {
        "id": "DNmsF56QMJ0m"
      },
      "source": [
        "Това може да бъде приложимо при слепване на колекции, като за `dict` ползваме `**`:"
      ]
    },
    {
      "cell_type": "code",
      "execution_count": 92,
      "metadata": {},
      "outputs": [
        {
          "data": {
            "text/plain": [
              "['flour', 'eggs', 'butter', 'water', 'salt', 'sugar']"
            ]
          },
          "execution_count": 92,
          "metadata": {},
          "output_type": "execute_result"
        }
      ],
      "source": [
        "original_ingredients = [\"water\", \"salt\", \"sugar\"]\n",
        "new_ingredients = [\"flour\", \"eggs\", \"butter\", *original_ingredients]\n",
        "\n",
        "new_ingredients"
      ]
    },
    {
      "cell_type": "code",
      "execution_count": 93,
      "metadata": {},
      "outputs": [
        {
          "data": {
            "text/plain": [
              "{'BASS': 'Pesho', 'DRUMS': '亚历山大', 'GUITAR': 'Vasko', 'MICROPHONE': 'Ceca'}"
            ]
          },
          "execution_count": 93,
          "metadata": {},
          "output_type": "execute_result"
        }
      ],
      "source": [
        "studio_band = {\"GUITAR\": \"Vasko\", \"MICROPHONE\": \"Ceca\"}\n",
        "live_band = {\"BASS\": \"Pesho\", \"DRUMS\": \"亚历山大\", **studio_band}\n",
        "\n",
        "live_band"
      ]
    },
    {
      "cell_type": "markdown",
      "metadata": {},
      "source": [
        "## Конвертиране между типове"
      ]
    },
    {
      "cell_type": "markdown",
      "metadata": {},
      "source": [
        "В C/C++/Java трябва да ползваме `atoi`, `atof`, `strtol`, `strtof`, `Integer.parseInt`, `Float.parseFloat` и т.н. за конвертиране на числа от низове и обратно.\n",
        "\n",
        "В С/С++/С# имаме и синтаксис от рода на `(int)...`, `(float)...`, `(string)...` и т.н.\n",
        "\n",
        "Тук няма нужда от това.\n",
        "\n",
        "Просто използваме *конструкторите* на типовете (да припомним, че в Python всичко е обект, и си има конструктор):"
      ]
    },
    {
      "cell_type": "code",
      "execution_count": 94,
      "metadata": {},
      "outputs": [
        {
          "data": {
            "text/plain": [
              "'42'"
            ]
          },
          "execution_count": 94,
          "metadata": {},
          "output_type": "execute_result"
        }
      ],
      "source": [
        "str(42)"
      ]
    },
    {
      "cell_type": "code",
      "execution_count": 95,
      "metadata": {},
      "outputs": [
        {
          "data": {
            "text/plain": [
              "42"
            ]
          },
          "execution_count": 95,
          "metadata": {},
          "output_type": "execute_result"
        }
      ],
      "source": [
        "int(\"42\")"
      ]
    },
    {
      "cell_type": "code",
      "execution_count": 96,
      "metadata": {},
      "outputs": [
        {
          "data": {
            "text/plain": [
              "42"
            ]
          },
          "execution_count": 96,
          "metadata": {},
          "output_type": "execute_result"
        }
      ],
      "source": [
        "int(42.69)"
      ]
    },
    {
      "cell_type": "code",
      "execution_count": 97,
      "metadata": {},
      "outputs": [
        {
          "data": {
            "text/plain": [
              "42.0"
            ]
          },
          "execution_count": 97,
          "metadata": {},
          "output_type": "execute_result"
        }
      ],
      "source": [
        "float(42)"
      ]
    },
    {
      "cell_type": "code",
      "execution_count": 98,
      "metadata": {},
      "outputs": [
        {
          "data": {
            "text/plain": [
              "True"
            ]
          },
          "execution_count": 98,
          "metadata": {},
          "output_type": "execute_result"
        }
      ],
      "source": [
        "bool(42)"
      ]
    },
    {
      "cell_type": "code",
      "execution_count": 99,
      "metadata": {},
      "outputs": [
        {
          "data": {
            "text/plain": [
              "False"
            ]
          },
          "execution_count": 99,
          "metadata": {},
          "output_type": "execute_result"
        }
      ],
      "source": [
        "bool(0)"
      ]
    },
    {
      "cell_type": "code",
      "execution_count": 100,
      "metadata": {},
      "outputs": [
        {
          "data": {
            "text/plain": [
              "['а',\n",
              " 'б',\n",
              " 'в',\n",
              " 'г',\n",
              " 'д',\n",
              " 'е',\n",
              " 'ж',\n",
              " 'з',\n",
              " 'и',\n",
              " 'й',\n",
              " 'к',\n",
              " 'л',\n",
              " 'м',\n",
              " 'н',\n",
              " 'о',\n",
              " 'п',\n",
              " 'р',\n",
              " 'с',\n",
              " 'т',\n",
              " 'у',\n",
              " 'ф',\n",
              " 'х',\n",
              " 'ц',\n",
              " 'ч',\n",
              " 'ш',\n",
              " 'щ',\n",
              " 'ъ',\n",
              " 'ь',\n",
              " 'ю',\n",
              " 'я']"
            ]
          },
          "execution_count": 100,
          "metadata": {},
          "output_type": "execute_result"
        }
      ],
      "source": [
        "list(\"абвгдежзийклмнопрстуфхцчшщъьюя\")"
      ]
    },
    {
      "cell_type": "code",
      "execution_count": 101,
      "metadata": {},
      "outputs": [
        {
          "data": {
            "text/plain": [
              "(1, 2, 3)"
            ]
          },
          "execution_count": 101,
          "metadata": {},
          "output_type": "execute_result"
        }
      ],
      "source": [
        "tuple([1, 2, 3])"
      ]
    },
    {
      "cell_type": "code",
      "execution_count": 102,
      "metadata": {},
      "outputs": [
        {
          "data": {
            "text/plain": [
              "[1, 2, 3]"
            ]
          },
          "execution_count": 102,
          "metadata": {},
          "output_type": "execute_result"
        }
      ],
      "source": [
        "list((1, 2, 3))"
      ]
    },
    {
      "cell_type": "code",
      "execution_count": 103,
      "metadata": {},
      "outputs": [
        {
          "data": {
            "text/plain": [
              "{1, 2, 3}"
            ]
          },
          "execution_count": 103,
          "metadata": {},
          "output_type": "execute_result"
        }
      ],
      "source": [
        "set([1, 1, 1, 2, 3, 3, 3, 3, 3])"
      ]
    },
    {
      "cell_type": "code",
      "execution_count": 104,
      "metadata": {},
      "outputs": [
        {
          "data": {
            "text/plain": [
              "{'a': 1, 'b': 2, 'c': 3}"
            ]
          },
          "execution_count": 104,
          "metadata": {},
          "output_type": "execute_result"
        }
      ],
      "source": [
        "dict([(\"a\", 1), (\"b\", 2), (\"c\", 3)])"
      ]
    },
    {
      "cell_type": "markdown",
      "metadata": {
        "id": "mCIBa30qMJ0m"
      },
      "source": [
        "## Блокове"
      ]
    },
    {
      "cell_type": "markdown",
      "metadata": {
        "id": "LAHKT_IcMJ0m"
      },
      "source": [
        "В Python блоковете от код се отделят не чрез къдрави скоби, а с индентация.\n",
        "\n",
        "За съжаление на хората, предпочитащи скоби, това няма да се промени в бъдещи версии на езика:"
      ]
    },
    {
      "cell_type": "code",
      "execution_count": 105,
      "metadata": {
        "id": "rRi1d6-aMJ0m",
        "outputId": "2702f28b-5fec-4b16-cc63-eca64ed5fe6c"
      },
      "outputs": [
        {
          "ename": "SyntaxError",
          "evalue": "not a chance (3905450354.py, line 1)",
          "output_type": "error",
          "traceback": [
            "\u001b[1;36m  Cell \u001b[1;32mIn[105], line 1\u001b[1;36m\u001b[0m\n\u001b[1;33m    from __future__ import braces\u001b[0m\n\u001b[1;37m    ^\u001b[0m\n\u001b[1;31mSyntaxError\u001b[0m\u001b[1;31m:\u001b[0m not a chance\n"
          ]
        }
      ],
      "source": [
        "from __future__ import braces"
      ]
    },
    {
      "cell_type": "markdown",
      "metadata": {
        "id": "jW4wHu6MMJ0m"
      },
      "source": [
        "Важно е да се отбележи, че всеки блок започва след двуеточие и всеки негов ред започва с определен брой интервали (или една табулация) по-навътре от предходния блок. За да бъде валдна индентацията трябва да е консистентна в целия файл, в противен случай ще се хвърли `IndentationError`. Общоприето е в Python да си използват 4 интервала за тази цел."
      ]
    },
    {
      "cell_type": "code",
      "execution_count": 106,
      "metadata": {
        "id": "2CQdveM-MJ0m",
        "outputId": "1901885e-6944-465c-9f03-6726334ab475"
      },
      "outputs": [
        {
          "ename": "IndentationError",
          "evalue": "unexpected indent (1618609151.py, line 3)",
          "output_type": "error",
          "traceback": [
            "\u001b[1;36m  Cell \u001b[1;32mIn[106], line 3\u001b[1;36m\u001b[0m\n\u001b[1;33m    print(\"But this one is not\")\u001b[0m\n\u001b[1;37m    ^\u001b[0m\n\u001b[1;31mIndentationError\u001b[0m\u001b[1;31m:\u001b[0m unexpected indent\n"
          ]
        }
      ],
      "source": [
        "if True:\n",
        "    print(\"This line is ok\")\n",
        "        print(\"But this one is not\")"
      ]
    },
    {
      "cell_type": "markdown",
      "metadata": {
        "id": "amN623wxMJ0m"
      },
      "source": [
        "Side note: едноредови блокове могат да се запишат и на същия ред след двуеточието. Често срещана конвенция обаче е да не се пишат по този начин."
      ]
    },
    {
      "cell_type": "code",
      "execution_count": 107,
      "metadata": {
        "id": "wqZKsmepMJ0m",
        "outputId": "23c56315-984d-4cef-995e-a3ff2ea16d99"
      },
      "outputs": [
        {
          "name": "stdout",
          "output_type": "stream",
          "text": [
            "This will run\n"
          ]
        }
      ],
      "source": [
        "if True: print(\"This will run\")"
      ]
    },
    {
      "cell_type": "markdown",
      "metadata": {
        "id": "WiKFUt2XMJ0m"
      },
      "source": [
        "## Контролни структури"
      ]
    },
    {
      "cell_type": "markdown",
      "metadata": {
        "id": "YHdQl8UnMJ0n"
      },
      "source": [
        "### `if`"
      ]
    },
    {
      "cell_type": "code",
      "execution_count": 108,
      "metadata": {
        "id": "JPlsyGDAMJ0n",
        "outputId": "8f747ede-34b9-45ed-fef2-d5ad59d530d3"
      },
      "outputs": [
        {
          "name": "stdout",
          "output_type": "stream",
          "text": [
            "You good.\n"
          ]
        }
      ],
      "source": [
        "age = 21\n",
        "\n",
        "if age == 18:\n",
        "    print(\"Barely legal\")\n",
        "elif age < 18:\n",
        "    print(\"Sorry, you are not allowed.\")\n",
        "else:\n",
        "    print(\"You good.\")"
      ]
    },
    {
      "cell_type": "markdown",
      "metadata": {
        "id": "dM7zHzJ-MJ0n"
      },
      "source": [
        "Няма нужда от скоби около условията (и не пишете такива, за да не ви се караме за глупости). \n",
        "\n",
        "Едно условие се оценява на `False`, когато стойността му е `False`, `None`, `0`, `0.0`, `0j`, `''`, `b''`, `[]`, `{}` и всички празни контейнери. Всички други стойности се оценяват до `True`."
      ]
    },
    {
      "cell_type": "markdown",
      "metadata": {
        "id": "2am52UJ_MJ0n"
      },
      "source": [
        "Съществува и едноредова версия на `if` с `else`, която има за цел да служи като тернарния оператор в повечето езици:"
      ]
    },
    {
      "cell_type": "code",
      "execution_count": 109,
      "metadata": {
        "id": "O-J7-4xAMJ0n",
        "outputId": "5cf11094-99d6-41c7-e74a-ec12830621a9"
      },
      "outputs": [
        {
          "data": {
            "text/plain": [
              "'definitely not odd'"
            ]
          },
          "execution_count": 109,
          "metadata": {},
          "output_type": "execute_result"
        }
      ],
      "source": [
        "num = 420\n",
        "statement = \"odd\" if num % 2 == 1 else \"definitely not odd\"\n",
        "\n",
        "statement"
      ]
    },
    {
      "cell_type": "markdown",
      "metadata": {
        "id": "as4FxFPLMJ0n"
      },
      "source": [
        "Операторите за сравнение са `==`, `!=`, `<`, `>`, `<=`, `>=`. Съществува и `<>`, който е просто различен запис на `!=`.\n",
        "\n",
        "В Python е възможно комбинирането им. Например `1 < 2 and 2 < 3` може да бъде записано като `1 < 2 < 3`."
      ]
    },
    {
      "cell_type": "code",
      "execution_count": 110,
      "metadata": {
        "id": "hrPjlY2iMJ0n",
        "outputId": "2060a0ea-50a7-4db8-9697-c1b018c34449"
      },
      "outputs": [
        {
          "name": "stdout",
          "output_type": "stream",
          "text": [
            "Client error\n"
          ]
        }
      ],
      "source": [
        "code = 404\n",
        "\n",
        "if 100 <= code < 200:\n",
        "    print(\"Informational response\")\n",
        "elif 200 <= code < 300:\n",
        "    print(\"OK response\")\n",
        "elif 300 <= code < 400:\n",
        "    print(\"Redirection\")\n",
        "elif 400 <= code < 500:\n",
        "    print(\"Client error\")\n",
        "elif 500 <= code < 600:\n",
        "    print(\"Server error\")\n",
        "else:\n",
        "    print(\"Not a valid HTTP status code\")"
      ]
    },
    {
      "cell_type": "markdown",
      "metadata": {
        "id": "2uvns57nMJ0n"
      },
      "source": [
        "Ключовата дума `is` сравнява по референция, докато `==` сравнява по стойност:"
      ]
    },
    {
      "cell_type": "code",
      "execution_count": 111,
      "metadata": {
        "id": "s0BSnCcoMJ0n",
        "outputId": "98200ff0-5d5b-46ab-aec5-ff9ed5bcd3bd"
      },
      "outputs": [
        {
          "name": "stdout",
          "output_type": "stream",
          "text": [
            "a and b are equal\n",
            "a does not point to the same thing as b\n"
          ]
        }
      ],
      "source": [
        "a = [1, 2, 3]\n",
        "b = [1, 2, 3]\n",
        "\n",
        "if a == b:\n",
        "    print(\"a and b are equal\")\n",
        "else:\n",
        "    print(\"a and b are not equal\")\n",
        "\n",
        "if a is b:\n",
        "    print(\"a points to the same thing as b\")\n",
        "else:\n",
        "    print(\"a does not point to the same thing as b\")"
      ]
    },
    {
      "cell_type": "markdown",
      "metadata": {
        "id": "wkO1VNTIMJ0n"
      },
      "source": [
        "Side note: сравнение с `None` може да бъде направено и по двата начина, но за четимост се ползва по-често `is`."
      ]
    },
    {
      "cell_type": "code",
      "execution_count": 112,
      "metadata": {
        "id": "Xu_h6cJhMJ0n",
        "outputId": "87e33717-3db6-49d8-aadf-e2a0a7db17e0"
      },
      "outputs": [
        {
          "name": "stdout",
          "output_type": "stream",
          "text": [
            "No result.\n"
          ]
        }
      ],
      "source": [
        "result = None\n",
        "\n",
        "if result is not None:  # clear 'nuff, innit \n",
        "    print(f\"We got a result, it is {result}.\")\n",
        "else:\n",
        "    print(\"No result.\")"
      ]
    },
    {
      "cell_type": "markdown",
      "metadata": {
        "id": "TRDbTSSDMJ0n"
      },
      "source": [
        "⚠️ Трябва да се внимава винаги с очакваната прецизност на числата с плаваща запетая:"
      ]
    },
    {
      "cell_type": "code",
      "execution_count": 113,
      "metadata": {
        "id": "rzHjOHvJMJ0n",
        "outputId": "f601d547-9607-47aa-bd1a-5d507fffd0a2"
      },
      "outputs": [
        {
          "name": "stdout",
          "output_type": "stream",
          "text": [
            "Да, ама не: 0.1 + 0.2 == 0.30000000000000004\n"
          ]
        }
      ],
      "source": [
        "if 0.1 + 0.2 == 0.3:\n",
        "    print(\"Естествено, че ще влезе тука\")\n",
        "else:\n",
        "    print(f\"Да, ама не: 0.1 + 0.2 == {0.1 + 0.2}\")"
      ]
    },
    {
      "cell_type": "markdown",
      "metadata": {
        "id": "lFwioYSXMJ0n"
      },
      "source": [
        "### `while`"
      ]
    },
    {
      "cell_type": "code",
      "execution_count": 114,
      "metadata": {
        "id": "r6kNyCZpMJ0n",
        "outputId": "95b26fc1-77c6-4b68-8be5-91c7e2c255e4"
      },
      "outputs": [
        {
          "name": "stdout",
          "output_type": "stream",
          "text": [
            "1: \n",
            "2: \n",
            "3: Fizz\n",
            "4: \n",
            "5: Buzz\n",
            "6: Fizz\n",
            "7: \n",
            "8: \n",
            "9: Fizz\n",
            "10: Buzz\n",
            "11: \n",
            "12: Fizz\n",
            "13: \n",
            "14: \n",
            "15: FizzBuzz\n",
            "16: \n",
            "17: \n",
            "18: Fizz\n",
            "19: \n",
            "20: Buzz\n"
          ]
        }
      ],
      "source": [
        "num = 0\n",
        "while num < 20:\n",
        "    num += 1\n",
        "    current_output = f\"{num}: \"\n",
        "\n",
        "    if num % 3 == 0 and num % 5 == 0:\n",
        "        current_output += \"FizzBuzz\"\n",
        "    elif num % 3 == 0:\n",
        "        current_output += \"Fizz\"\n",
        "    elif num % 5 == 0:\n",
        "        current_output += \"Buzz\"\n",
        "\n",
        "    print(current_output)"
      ]
    },
    {
      "cell_type": "markdown",
      "metadata": {
        "id": "HtzAWG1KMJ0n"
      },
      "source": [
        "`continue` прекъсва изпълнението на текущaта итерация и продължава със следващата.\n",
        "\n",
        "`break` прекъсва изпълнението на цикъла."
      ]
    },
    {
      "cell_type": "code",
      "execution_count": 115,
      "metadata": {
        "id": "t1MHrmyVMJ0n",
        "outputId": "ff3e6312-d2c9-4cd6-cc58-310f25a0c2e6"
      },
      "outputs": [
        {
          "name": "stdout",
          "output_type": "stream",
          "text": [
            "15\n",
            "30\n",
            "45\n",
            "60\n",
            "75\n",
            "90\n"
          ]
        }
      ],
      "source": [
        "n = 0\n",
        "while True:\n",
        "    if n > 100:\n",
        "        break\n",
        "\n",
        "    n += 1\n",
        "\n",
        "    if n % 3 != 0 or n % 5 != 0:\n",
        "        continue\n",
        "    \n",
        "    print(n)"
      ]
    },
    {
      "cell_type": "markdown",
      "metadata": {
        "id": "17GvTQWcMJ0n"
      },
      "source": [
        "Възможно е да се напише и `else` блок след тялото на `while`-a. Тогава той ще се изпълни само ако условието в `while`-a стане `False` без да бъде прекъсвано изпълнението на цикъла чрез `break` или `return`:"
      ]
    },
    {
      "cell_type": "code",
      "execution_count": 116,
      "metadata": {
        "id": "sb1y1tCMMJ0o",
        "outputId": "32e942d5-bdc8-4e96-a04d-6c4b081ad0de"
      },
      "outputs": [
        {
          "name": "stdout",
          "output_type": "stream",
          "text": [
            "There is a khan.\n",
            "There is a pharaoh.\n",
            "There is a sultan.\n",
            "There is a kaiser.\n",
            "I want to break free!\n"
          ]
        }
      ],
      "source": [
        "# try re-running the cell with and without \"queen\" in the list\n",
        "stekchi = [\"king\", \"emperor\", \"tsar\", \"queen\", \"kaiser\", \"sultan\", \"pharaoh\", \"khan\"]\n",
        "\n",
        "while stekchi:  # while the list is not empty\n",
        "    last_element = stekchi.pop()  # pop() both removes and returns an element, by default the last one\n",
        "\n",
        "    if last_element == \"queen\":\n",
        "        print(\"I want to break free!\")\n",
        "        break\n",
        "\n",
        "    print(f\"There is a {last_element}.\")\n",
        "else:\n",
        "    print(\"No queen found.\")\n"
      ]
    },
    {
      "cell_type": "markdown",
      "metadata": {
        "id": "m0LgH_AGMJ0o"
      },
      "source": [
        "### `for`\n",
        "\n",
        "`for`-циклите в Python итерират върху дадена колекция:"
      ]
    },
    {
      "cell_type": "code",
      "execution_count": 117,
      "metadata": {},
      "outputs": [
        {
          "name": "stdout",
          "output_type": "stream",
          "text": [
            "I will need eggs\n",
            "I will need milk\n",
            "I will need flour\n",
            "I will need sugar\n"
          ]
        }
      ],
      "source": [
        "ingredients = [\"eggs\", \"milk\", \"flour\", \"sugar\"]\n",
        "\n",
        "for i in ingredients:\n",
        "    print(f\"I will need {i}\")"
      ]
    },
    {
      "cell_type": "code",
      "execution_count": 118,
      "metadata": {
        "id": "lEDSA4RBMJ0o",
        "outputId": "69f3ce23-67a5-4394-91df-7651b50faa08"
      },
      "outputs": [
        {
          "name": "stdout",
          "output_type": "stream",
          "text": [
            "We got eggs for $0.98\n",
            "We got milk for $1.23\n",
            "We got flour for $1.59\n",
            "We got sugar for $0.88\n"
          ]
        }
      ],
      "source": [
        "ingredients_price = {\"eggs\": 0.98, \"milk\": 1.23, \"flour\": 1.59, \"sugar\": 0.88}\n",
        "\n",
        "for ingr, price in ingredients_price.items():  # IMPORTANT: .items() returns a tuple of (key, value)\n",
        "    print(f\"We got {ingr} for ${price}\")"
      ]
    },
    {
      "cell_type": "markdown",
      "metadata": {},
      "source": [
        "*Tip*: Питонският начин при обхождане да боравим и с индекса, и със самата стойност на колекцията, е чрез `enumerate`:"
      ]
    },
    {
      "cell_type": "code",
      "execution_count": 119,
      "metadata": {},
      "outputs": [
        {
          "name": "stdout",
          "output_type": "stream",
          "text": [
            "Ingredient 1: eggs\n",
            "Ingredient 2: milk\n",
            "Ingredient 3: flour\n",
            "Ingredient 4: sugar\n"
          ]
        }
      ],
      "source": [
        "for i, ingr in enumerate(ingredients):  # enumerate() returns a tuple of (index, element)\n",
        "    print(f\"Ingredient {i+1}: {ingr}\")"
      ]
    },
    {
      "cell_type": "markdown",
      "metadata": {
        "id": "lr21Tzi1MJ0o"
      },
      "source": [
        "`range` ни позволява да създадем колекция от числа от началото до края на даден интервал през определена стъпка:"
      ]
    },
    {
      "cell_type": "code",
      "execution_count": 120,
      "metadata": {},
      "outputs": [
        {
          "name": "stdout",
          "output_type": "stream",
          "text": [
            "0 1 2 3 4 5 6 7 8 9 10 11 12 13 14 15 16 17 18 19 "
          ]
        }
      ],
      "source": [
        "for i in range(20):\n",
        "    print(i, end=\" \")"
      ]
    },
    {
      "cell_type": "code",
      "execution_count": 121,
      "metadata": {},
      "outputs": [
        {
          "name": "stdout",
          "output_type": "stream",
          "text": [
            "10 11 12 13 14 15 16 17 18 19 "
          ]
        }
      ],
      "source": [
        "for i in range(10, 20):\n",
        "    print(i, end=\" \")"
      ]
    },
    {
      "cell_type": "code",
      "execution_count": 122,
      "metadata": {},
      "outputs": [
        {
          "name": "stdout",
          "output_type": "stream",
          "text": [
            "10 13 16 19 "
          ]
        }
      ],
      "source": [
        "for i in range(10, 20, 3):\n",
        "    print(i, end=\" \")"
      ]
    },
    {
      "cell_type": "code",
      "execution_count": 123,
      "metadata": {},
      "outputs": [
        {
          "name": "stdout",
          "output_type": "stream",
          "text": [
            "20 17 14 11 "
          ]
        }
      ],
      "source": [
        "for i in range(20, 10, -3):\n",
        "    print(i, end=\" \")"
      ]
    },
    {
      "cell_type": "markdown",
      "metadata": {
        "id": "nvQ6pt2aMJ0o"
      },
      "source": [
        "По същия начин както при `while`-циклите, `else` може да бъде използван и с `for`:"
      ]
    },
    {
      "cell_type": "code",
      "execution_count": 124,
      "metadata": {
        "id": "NSKrYtWhMJ0o",
        "outputId": "0f2f8527-c58b-4c07-c55d-e7169e91e381"
      },
      "outputs": [
        {
          "name": "stdout",
          "output_type": "stream",
          "text": [
            "2 is a prime number\n",
            "3 is a prime number\n",
            "4 = 2 * 2\n",
            "5 is a prime number\n",
            "6 = 2 * 3\n",
            "7 is a prime number\n",
            "8 = 2 * 4\n",
            "9 = 3 * 3\n",
            "10 = 2 * 5\n",
            "11 is a prime number\n",
            "12 = 2 * 6\n",
            "13 is a prime number\n",
            "14 = 2 * 7\n",
            "15 = 3 * 5\n",
            "16 = 2 * 8\n",
            "17 is a prime number\n",
            "18 = 2 * 9\n",
            "19 is a prime number\n"
          ]
        }
      ],
      "source": [
        "for n in range(2, 20):\n",
        "    for x in range(2, n):\n",
        "        if n % x == 0:\n",
        "            print(f\"{n} = {x} * {n // x}\")\n",
        "            break\n",
        "    else:\n",
        "        print(f\"{n} is a prime number\")\n"
      ]
    },
    {
      "cell_type": "markdown",
      "metadata": {
        "id": "xJJ_rbZxMJ0o"
      },
      "source": [
        "### `match` (version 3.10+ !!!)\n",
        "\n",
        "В Python `switch-case` нарочно няма. От версия 3.10 насам обаче съществува `match`, което е по-скоро подобно на `switch` или `match` във функционалните езици за програмиране. С него можем да съпоставяме структурата на изрази в различни случаи, които ни интересуват, елиминирайки нуждата от вложени `if`-ове, проверки за типа на променливи, сложни проверки за размерности и структура на колекции и др. Това е мощно ново свойство на езика, за което повече информация може да намерим [тук](https://realpython.com/python310-new-features/#structural-pattern-matching)."
      ]
    },
    {
      "cell_type": "markdown",
      "metadata": {
        "id": "yKiuF7tHMJ0o"
      },
      "source": [
        "## Функции"
      ]
    },
    {
      "cell_type": "code",
      "execution_count": 125,
      "metadata": {
        "id": "yHjchWRvMJ0o",
        "outputId": "5a3d266b-0401-473b-cfb1-f569a6c225e8"
      },
      "outputs": [
        {
          "data": {
            "text/plain": [
              "16777216"
            ]
          },
          "execution_count": 125,
          "metadata": {},
          "output_type": "execute_result"
        }
      ],
      "source": [
        "def f(x):\n",
        "    return x ** x\n",
        "\n",
        "f(8)"
      ]
    },
    {
      "cell_type": "markdown",
      "metadata": {
        "id": "b-jnjPLBMJ0o"
      },
      "source": [
        "`def` е ключовата дума, която започва дефинията на функция. След името и списък от аргументите в скоби, следва блок с код, който се изпълнява при извикването ѝ.\n",
        "\n",
        "При достигане на `return` или крaя на блокът от код, изпълнението на функцията прекъсва. Във втория случай или когато след `return` няма нищо посочено, функцията връща `None`.\n"
      ]
    },
    {
      "cell_type": "code",
      "execution_count": 126,
      "metadata": {
        "id": "97vHFj-8MJ0o",
        "outputId": "62f633c3-003f-4e43-89c4-a4461fe34cef"
      },
      "outputs": [
        {
          "name": "stdout",
          "output_type": "stream",
          "text": [
            "I am Procedure.\n",
            "I shall be the reigning lord of the kingdom of side effects.\n",
            "I don't return anything.\n",
            "...Or do I?\n",
            "None\n"
          ]
        }
      ],
      "source": [
        "def procedure():\n",
        "    print(\"I am Procedure.\")\n",
        "    print(\"I shall be the reigning lord of the kingdom of side effects.\")\n",
        "    print(\"I don't return anything.\")\n",
        "    print(\"...Or do I?\")\n",
        "\n",
        "result = procedure()\n",
        "print(result)\n"
      ]
    },
    {
      "cell_type": "code",
      "execution_count": 127,
      "metadata": {
        "id": "2rcvEwB2MJ0o",
        "outputId": "ea1acea0-48db-41a7-bdd2-893bdb3d14f2"
      },
      "outputs": [
        {
          "name": "stdout",
          "output_type": "stream",
          "text": [
            "Hello, John Smith!\n"
          ]
        }
      ],
      "source": [
        "def greeting(name):\n",
        "    if not name:\n",
        "        return\n",
        "    \n",
        "    print(f\"Hello, {name}!\")\n",
        "\n",
        "greeting(\"\")\n",
        "greeting(\"John Smith\")"
      ]
    },
    {
      "cell_type": "markdown",
      "metadata": {},
      "source": [
        "> \"Можем и рекурсия, ако можем рекурсия\" - *Валери Божинов*\n",
        "\n",
        "(btw GitHub Copilot каза, че е от [тука](https://xkcd.com/244/), което е close enough (are we obsolete already dammit))"
      ]
    },
    {
      "cell_type": "code",
      "execution_count": 128,
      "metadata": {
        "id": "1As8vA6dMJ0o",
        "outputId": "3cd8294a-dc06-4666-a21e-26fa9015e514"
      },
      "outputs": [
        {
          "data": {
            "text/plain": [
              "171122452428141311372468338881272839092270544893520369393648040923257279754140647424000000000000000"
            ]
          },
          "execution_count": 128,
          "metadata": {},
          "output_type": "execute_result"
        }
      ],
      "source": [
        "def factorial(n):\n",
        "    if n <= 0:\n",
        "        return 1\n",
        "    \n",
        "    return n * factorial(n - 1)\n",
        "\n",
        "\n",
        "factorial(69)  # https://www.youtube.com/watch?v=kw6l_uTakRA"
      ]
    },
    {
      "cell_type": "markdown",
      "metadata": {
        "id": "OF5fTJ-VMJ0o"
      },
      "source": [
        "Аргументите на функциите могат да имат стойности по подразбиране:"
      ]
    },
    {
      "cell_type": "code",
      "execution_count": 129,
      "metadata": {
        "id": "ZO-qSVxIMJ0o",
        "outputId": "3a5ce56e-447c-4d48-f5e2-1d84aca0b1ae"
      },
      "outputs": [],
      "source": [
        "def add(a, b=0):\n",
        "    return a + b"
      ]
    },
    {
      "cell_type": "code",
      "execution_count": 130,
      "metadata": {},
      "outputs": [
        {
          "data": {
            "text/plain": [
              "1"
            ]
          },
          "execution_count": 130,
          "metadata": {},
          "output_type": "execute_result"
        }
      ],
      "source": [
        "add(1)"
      ]
    },
    {
      "cell_type": "code",
      "execution_count": 131,
      "metadata": {},
      "outputs": [
        {
          "data": {
            "text/plain": [
              "3"
            ]
          },
          "execution_count": 131,
          "metadata": {},
          "output_type": "execute_result"
        }
      ],
      "source": [
        "add(1, 2)"
      ]
    },
    {
      "cell_type": "markdown",
      "metadata": {},
      "source": [
        "Аргументите на фунцкиите в Python могат да се подават по два начина: \n",
        "1. **позиционeн** (positional) (определени от реда, в който са подадени)\n",
        "2. **именован** (keyword) (определени от името на аргумента, следвано от `=`) \n",
        "\n",
        "След именован аргумент не можем да подадем позиционен."
      ]
    },
    {
      "cell_type": "code",
      "execution_count": 132,
      "metadata": {
        "id": "ogq_d7fvMJ0o",
        "outputId": "d2a625cd-5a62-419c-87fd-e53ea159b0cc"
      },
      "outputs": [
        {
          "name": "stdout",
          "output_type": "stream",
          "text": [
            "\n",
            "hello\n",
            "Hello\n",
            "Hello!\n",
            "Hello!\n",
            "Hello!\n",
            "Hello!\n"
          ]
        }
      ],
      "source": [
        "def my_custom_print(text=\"\", terminator=\"\\n\", capitalize=False):\n",
        "    new_text = text.capitalize() if capitalize else text\n",
        "    print(new_text, end=terminator)\n",
        "\n",
        "my_custom_print()\n",
        "my_custom_print(\"hello\")\n",
        "my_custom_print(\"hello\", capitalize=True)\n",
        "my_custom_print(\"hello\", \"!\\n\", capitalize=True)\n",
        "my_custom_print(\"hello\", terminator=\"!\\n\", capitalize=True)\n",
        "my_custom_print(\"hello\", capitalize=True, terminator=\"!\\n\")\n",
        "my_custom_print(capitalize=True, terminator=\"!\\n\", text=\"hello\")\n",
        "# my_custom_print(capitalize=True, \"\\t\")  # 💥 positional argument can't follow keyword argument\n"
      ]
    },
    {
      "cell_type": "markdown",
      "metadata": {
        "id": "yKqbJGrRMJ0q"
      },
      "source": [
        "Можем да укажем функцията да приема произволен брой позиционни и именовани аргументи, като използваме `*` и `**` съответно (споко, това отново няма нищо общо с пойнтъри!). \n",
        "\n",
        "`*args` и `**kwargs` са само конвенция, можем да използваме каквито и да е имена, но е важно да се отбележи, че `*` и `**` са задължителни.\n",
        "\n",
        "`*args` е `tuple` с всички позиционни аргументи, които не са били консумирани от другите аргументи.\n",
        "\n",
        "`**kwargs` е `dict` с всички именовани аргументи, които не са били консумирани от другите аргументи.\n"
      ]
    },
    {
      "cell_type": "code",
      "execution_count": 133,
      "metadata": {
        "id": "mtGMbBR1MJ0q",
        "outputId": "b2943b11-572d-4a82-86f7-52281d000e3d"
      },
      "outputs": [
        {
          "name": "stdout",
          "output_type": "stream",
          "text": [
            "fixed_arg1=1\n",
            "fixed_arg2=2\n",
            "args=(3, 4, 5, 6, 7, 8, 9, 10)\n",
            "kwargs={'name': 'Pesho', 'age': 20}\n"
          ]
        }
      ],
      "source": [
        "def variadic_args(fixed_arg1, fixed_arg2, *args, **kwargs):\n",
        "    print(f\"{fixed_arg1=}\")\n",
        "    print(f\"{fixed_arg2=}\")\n",
        "    print(f\"{args=}\")\n",
        "    print(f\"{kwargs=}\")\n",
        "\n",
        "variadic_args(1, 2, 3, 4, 5, 6, 7, 8, 9, 10, name=\"Pesho\", age=20)\n"
      ]
    },
    {
      "cell_type": "markdown",
      "metadata": {},
      "source": [
        "**Pro tip**: Можем да забраним позиционните или именованите аргументи преди/след дадено място чрез вмъкване на `/` или `*` в сигнатурата на функцията. Как точно:"
      ]
    },
    {
      "cell_type": "markdown",
      "metadata": {},
      "source": [
        "Ако имаме \n",
        "```python\n",
        "def func(a, b, c, /, d, e, f, *, g, h, i):\n",
        "    ...\n",
        "```\n",
        "това означава, че:\n",
        "* `a`, `b` и `c` могат да бъдат подадени само позиционно\n",
        "* `d`, `e` и `f` могат да бъдат подадени както позиционно, така и именовано\n",
        "* `g`, `h` и `i` могат да бъдат подадени само именовано"
      ]
    },
    {
      "cell_type": "code",
      "execution_count": 134,
      "metadata": {},
      "outputs": [
        {
          "name": "stdout",
          "output_type": "stream",
          "text": [
            "Experiment GPT-6 submitted by OpenAI in Azure ML environment.\n",
            "Experiment BgGPT submitted by INSAIT in unknown environment.\n"
          ]
        },
        {
          "ename": "TypeError",
          "evalue": "submit_experiment() takes 1 positional argument but 3 were given",
          "output_type": "error",
          "traceback": [
            "\u001b[1;31m---------------------------------------------------------------------------\u001b[0m",
            "\u001b[1;31mTypeError\u001b[0m                                 Traceback (most recent call last)",
            "Cell \u001b[1;32mIn[134], line 7\u001b[0m\n\u001b[0;32m      5\u001b[0m submit_experiment(\u001b[38;5;124m\"\u001b[39m\u001b[38;5;124mGPT-6\u001b[39m\u001b[38;5;124m\"\u001b[39m, environment_name\u001b[38;5;241m=\u001b[39m\u001b[38;5;124m\"\u001b[39m\u001b[38;5;124mAzure ML\u001b[39m\u001b[38;5;124m\"\u001b[39m, user_name\u001b[38;5;241m=\u001b[39m\u001b[38;5;124m\"\u001b[39m\u001b[38;5;124mOpenAI\u001b[39m\u001b[38;5;124m\"\u001b[39m)\n\u001b[0;32m      6\u001b[0m submit_experiment(\u001b[38;5;124m\"\u001b[39m\u001b[38;5;124mBgGPT\u001b[39m\u001b[38;5;124m\"\u001b[39m, user_name\u001b[38;5;241m=\u001b[39m\u001b[38;5;124m\"\u001b[39m\u001b[38;5;124mINSAIT\u001b[39m\u001b[38;5;124m\"\u001b[39m, environment_name\u001b[38;5;241m=\u001b[39m\u001b[38;5;124m\"\u001b[39m\u001b[38;5;124munknown\u001b[39m\u001b[38;5;124m\"\u001b[39m)  \u001b[38;5;66;03m# notice the order\u001b[39;00m\n\u001b[1;32m----> 7\u001b[0m \u001b[43msubmit_experiment\u001b[49m\u001b[43m(\u001b[49m\u001b[38;5;124;43m\"\u001b[39;49m\u001b[38;5;124;43mLandcoreGPT\u001b[39;49m\u001b[38;5;124;43m\"\u001b[39;49m\u001b[43m,\u001b[49m\u001b[43m \u001b[49m\u001b[38;5;124;43m\"\u001b[39;49m\u001b[38;5;124;43mFMI\u001b[39;49m\u001b[38;5;124;43m\"\u001b[39;49m\u001b[43m,\u001b[49m\u001b[43m \u001b[49m\u001b[38;5;124;43m\"\u001b[39;49m\u001b[38;5;124;43mAJ\u001b[39;49m\u001b[38;5;124;43m\"\u001b[39;49m\u001b[43m)\u001b[49m  \u001b[38;5;66;03m# 💥\u001b[39;00m\n",
            "\u001b[1;31mTypeError\u001b[0m: submit_experiment() takes 1 positional argument but 3 were given"
          ]
        }
      ],
      "source": [
        "def submit_experiment(experiment_name, *, environment_name, user_name):\n",
        "    # everything after the * MUST BE provided as a keyword argument\n",
        "    print(f\"Experiment {experiment_name} submitted by {user_name} in {environment_name} environment.\")\n",
        "\n",
        "submit_experiment(\"GPT-6\", environment_name=\"Azure ML\", user_name=\"OpenAI\")\n",
        "submit_experiment(\"BgGPT\", user_name=\"INSAIT\", environment_name=\"unknown\")  # notice the order\n",
        "submit_experiment(\"LandcoreGPT\", \"FMI\", \"AJ\")  # 💥"
      ]
    },
    {
      "cell_type": "code",
      "execution_count": 135,
      "metadata": {},
      "outputs": [
        {
          "name": "stdout",
          "output_type": "stream",
          "text": [
            "6\n"
          ]
        },
        {
          "ename": "TypeError",
          "evalue": "c_function() got some positional-only arguments passed as keyword arguments: '_c'",
          "output_type": "error",
          "traceback": [
            "\u001b[1;31m---------------------------------------------------------------------------\u001b[0m",
            "\u001b[1;31mTypeError\u001b[0m                                 Traceback (most recent call last)",
            "Cell \u001b[1;32mIn[135], line 5\u001b[0m\n\u001b[0;32m      2\u001b[0m     \u001b[38;5;28;01mreturn\u001b[39;00m _a \u001b[38;5;241m+\u001b[39m _b \u001b[38;5;241m+\u001b[39m _c\n\u001b[0;32m      4\u001b[0m \u001b[38;5;28mprint\u001b[39m(c_function(\u001b[38;5;241m1\u001b[39m, \u001b[38;5;241m2\u001b[39m, \u001b[38;5;241m3\u001b[39m))\n\u001b[1;32m----> 5\u001b[0m \u001b[38;5;28mprint\u001b[39m(\u001b[43mc_function\u001b[49m\u001b[43m(\u001b[49m\u001b[38;5;241;43m1\u001b[39;49m\u001b[43m,\u001b[49m\u001b[43m \u001b[49m\u001b[38;5;241;43m2\u001b[39;49m\u001b[43m,\u001b[49m\u001b[43m \u001b[49m\u001b[43m_c\u001b[49m\u001b[38;5;241;43m=\u001b[39;49m\u001b[38;5;241;43m3\u001b[39;49m\u001b[43m)\u001b[49m)  \u001b[38;5;66;03m# 💥\u001b[39;00m\n",
            "\u001b[1;31mTypeError\u001b[0m: c_function() got some positional-only arguments passed as keyword arguments: '_c'"
          ]
        }
      ],
      "source": [
        "def c_function(_a, _b, _c, /):\n",
        "    return _a + _b + _c\n",
        "\n",
        "print(c_function(1, 2, 3))\n",
        "print(c_function(1, 2, _c=3))  # 💥"
      ]
    },
    {
      "cell_type": "markdown",
      "metadata": {
        "id": "2cMPsIpiMJ0q"
      },
      "source": [
        "## Обхвати на видимост"
      ]
    },
    {
      "cell_type": "markdown",
      "metadata": {
        "id": "SO3b0x3pMJ0q"
      },
      "source": [
        "Всякo име може да бъде свързанo със стойност (binding). Съществуват операции, които променят свързването, като `=`. \n",
        "\n",
        "Свързването на име със стойност може да се проверява с две функции, връщащи речници: `locals` и `globals`, които пазят стойностите на всички имена в локалния и в глобалния обхват на видимост съответно.\n",
        "\n",
        "Едно име дефинирано в локален обхват (scope) не се вижда от глобалния такъв:"
      ]
    },
    {
      "cell_type": "code",
      "execution_count": 136,
      "metadata": {
        "id": "WlT-9wYEMJ0q",
        "outputId": "7d25df00-88fe-45e4-809d-92f12992912f"
      },
      "outputs": [
        {
          "name": "stdout",
          "output_type": "stream",
          "text": [
            "{'local_one': 2}\n",
            "1\n"
          ]
        },
        {
          "ename": "KeyError",
          "evalue": "'local_one'",
          "output_type": "error",
          "traceback": [
            "\u001b[1;31m---------------------------------------------------------------------------\u001b[0m",
            "\u001b[1;31mKeyError\u001b[0m                                  Traceback (most recent call last)",
            "Cell \u001b[1;32mIn[136], line 10\u001b[0m\n\u001b[0;32m      8\u001b[0m foo()\n\u001b[0;32m      9\u001b[0m \u001b[38;5;28mprint\u001b[39m(\u001b[38;5;28mglobals\u001b[39m()[\u001b[38;5;124m\"\u001b[39m\u001b[38;5;124mglobal_one\u001b[39m\u001b[38;5;124m\"\u001b[39m])  \u001b[38;5;66;03m# `print(globals())` will not have a very pretty output in the Jupyter notebook but you can try it\u001b[39;00m\n\u001b[1;32m---> 10\u001b[0m \u001b[38;5;28mprint\u001b[39m(\u001b[38;5;28;43mglobals\u001b[39;49m\u001b[43m(\u001b[49m\u001b[43m)\u001b[49m\u001b[43m[\u001b[49m\u001b[38;5;124;43m\"\u001b[39;49m\u001b[38;5;124;43mlocal_one\u001b[39;49m\u001b[38;5;124;43m\"\u001b[39;49m\u001b[43m]\u001b[49m)\n",
            "\u001b[1;31mKeyError\u001b[0m: 'local_one'"
          ]
        }
      ],
      "source": [
        "global_one = 1\n",
        "\n",
        "def foo():\n",
        "    local_one = 2\n",
        "    print(locals())\n",
        "\n",
        "\n",
        "foo()\n",
        "print(globals()[\"global_one\"])  # `print(globals())` will not have a very pretty output in the Jupyter notebook but you can try it\n",
        "print(globals()[\"local_one\"])"
      ]
    },
    {
      "cell_type": "markdown",
      "metadata": {
        "id": "k2trLd9OMJ0r"
      },
      "source": [
        "Всеки блок от код си има своя област на видимост, в която стоят локално дефинираните имена.\n",
        "Ако една функция не може да намери дадена променлива в локалния си scope, търси в обграждащия (глобалния) за променлива със същото име:"
      ]
    },
    {
      "cell_type": "code",
      "execution_count": 137,
      "metadata": {
        "id": "kQrbHgPGMJ0r",
        "outputId": "20bf5533-a246-4d7a-a22a-33c730c212b4"
      },
      "outputs": [
        {
          "name": "stdout",
          "output_type": "stream",
          "text": [
            "1\n"
          ]
        }
      ],
      "source": [
        "global_one = 1\n",
        "\n",
        "def foo():\n",
        "    print(global_one)\n",
        "\n",
        "foo()"
      ]
    },
    {
      "cell_type": "markdown",
      "metadata": {
        "id": "whgY1UCPMJ0r"
      },
      "source": [
        "По подразбиране пренасочването на имена става в локалния scope.\n",
        "Използването на ключовата дума `global` позволява пренасочването на глобални имена. Това обаче въобще не е добра практика."
      ]
    },
    {
      "cell_type": "code",
      "execution_count": 138,
      "metadata": {
        "id": "50SpWhXbMJ0r",
        "outputId": "e1d030c5-bcbc-4e03-fe19-2d77b44fe906"
      },
      "outputs": [
        {
          "name": "stdout",
          "output_type": "stream",
          "text": [
            "2\n",
            "{'global_one': 2}\n",
            "1\n"
          ]
        }
      ],
      "source": [
        "global_one = 1\n",
        "\n",
        "def foo():\n",
        "    global_one = 2\n",
        "    print(global_one)\n",
        "    print(locals())\n",
        "\n",
        "foo()\n",
        "\n",
        "print(globals()[\"global_one\"])"
      ]
    },
    {
      "cell_type": "markdown",
      "metadata": {
        "id": "uwYKmKwYMJ0r"
      },
      "source": [
        "Аргументите на функциите отиват в `locals` речника, достъпен от тялото им (съответно не и извън него):"
      ]
    },
    {
      "cell_type": "code",
      "execution_count": 139,
      "metadata": {
        "id": "Rfaf_LEoMJ0r",
        "outputId": "675fdff5-4a01-4872-af1a-db19abc6303d"
      },
      "outputs": [
        {
          "name": "stdout",
          "output_type": "stream",
          "text": [
            "{'x': 1, 'y': 2, 'args': (3, 4, 5, 6, 7, 8, 9, 10), 'kwargs': {'name': 'Pesho', 'age': 20}}\n"
          ]
        }
      ],
      "source": [
        "def fn(x, y, *args, **kwargs):\n",
        "    print(locals())\n",
        "\n",
        "fn(1, 2, 3, 4, 5, 6, 7, 8, 9, 10, name=\"Pesho\", age=20)"
      ]
    },
    {
      "cell_type": "markdown",
      "metadata": {
        "id": "ulBGgnDTMJ0r"
      },
      "source": [
        "В случай, че имаме вложени блокове, ключовата дума `nonlocal` позволява пренасочване на име, дефинирано в обграждащ блок (за разлика от `global`, където името е дефинирано в глобалния обхват). Също както `global`, изполването му е лоша практика."
      ]
    },
    {
      "cell_type": "markdown",
      "metadata": {},
      "source": [
        "**Pro tip**: няма нужда да \"декларираме\" празна променлива преди даването ѝ на стойност в `if` (стига всички пътища да дават стойност), например:"
      ]
    },
    {
      "cell_type": "code",
      "execution_count": 140,
      "metadata": {},
      "outputs": [
        {
          "name": "stdout",
          "output_type": "stream",
          "text": [
            "[] is falsy\n",
            "[0] is truethy\n"
          ]
        }
      ],
      "source": [
        "def some_function(x):\n",
        "    # няма нужда тука преди if-a да пишем например\n",
        "    # result = \"\"\n",
        "\n",
        "    if x:\n",
        "        result = f\"{x} is truethy\"\n",
        "    else:\n",
        "        result = f\"{x} is falsy\"\n",
        "\n",
        "    return result\n",
        "\n",
        "print(some_function([]))\n",
        "print(some_function([0]))"
      ]
    },
    {
      "cell_type": "markdown",
      "metadata": {
        "id": "6f01uZzYMJ0r"
      },
      "source": [
        "# Задачи\n",
        "\n",
        "*Не носят точки, но са полезно упражнение.*"
      ]
    },
    {
      "cell_type": "markdown",
      "metadata": {
        "id": "M1mVyEo1MJ0r"
      },
      "source": [
        "## Задача 1\n",
        "\n",
        "Създайте функция, която приема число, указващо брой секунди и го връща трансформирано в наредена тройка от часове, минути и секунди.\n",
        "\n",
        "Например\n",
        "* 3661 -> (1, 1, 1), понеже 3661 секунди са 1hr 1min 1sec.\n",
        "* 86399 -> (23, 59, 59), понеже 86399 секунди са 23hr 59min 59sec.\n",
        "и т.н."
      ]
    },
    {
      "cell_type": "code",
      "execution_count": null,
      "metadata": {
        "id": "Fcr6Xe4aMJ0r"
      },
      "outputs": [],
      "source": [
        "def seconds_to_time(seconds):\n",
        "    pass  # write your code here\n",
        "\n",
        "\n",
        "print(seconds_to_time(0) == (0, 0, 0))\n",
        "print(seconds_to_time(1) == (0, 0, 1))\n",
        "print(seconds_to_time(69) == (0, 1, 9))\n",
        "print(seconds_to_time(420) == (0, 7, 0))\n",
        "print(seconds_to_time(3661) == (1, 1, 1))\n",
        "print(seconds_to_time(86399) == (23, 59, 59))"
      ]
    },
    {
      "cell_type": "markdown",
      "metadata": {
        "id": "1QmdAytPMJ0r"
      },
      "source": [
        "## Задача 2\n",
        "\n",
        "Създайте функция, която да връща броя на гласните в даден текст (нека за улеснение считаме за гласни само `a`, `e`, `i`, `o`, `u`)."
      ]
    },
    {
      "cell_type": "code",
      "execution_count": null,
      "metadata": {
        "id": "zrVoiB3lMJ0r"
      },
      "outputs": [],
      "source": [
        "def number_of_vowels(text):\n",
        "    pass  # write your code here\n",
        "\n",
        "\n",
        "print(number_of_vowels(\"grrrrgh!\") == 0)\n",
        "print(number_of_vowels(\"The quick brown fox jumps over the lazy dog.\") == 11)\n",
        "print(number_of_vowels(\"MONTHY PYTHON\") == 2)"
      ]
    },
    {
      "cell_type": "markdown",
      "metadata": {
        "id": "6JpSoXepMJ0r"
      },
      "source": [
        "## Задача 3\n",
        "\n",
        "Създайте функция, която проверява дали дадено българско ЕГН е [валидно](https://bg.wikipedia.org/wiki/Единен_граждански_номер#Структура).\n",
        "\n",
        "По-конкретно, функцията трябва:\n",
        "* да има за първи задължителен параметър ЕГН-то (очаква се да е `str`, но може да се опитате и да го направите да работи едновременно и за `str`, и за `int`).\n",
        "* да има именован параметър `bypass_checksum`, който по подразбиране е `False`. Ако е `True`, функцията трябва да НЕ проверява валидността на последната цифра, а да я счита за валидна по подразбиране.\n",
        "* да връща `True` ако ЕГН-то е валидно, `False` в противен случай. За валидно ЕГН се смята такова, при което:\n",
        "    * цифрите за месец и ден съответстват на валидна дата. Това означава цифрите на месеца да са в интервала [1, 12] за хора, родени 1900-2000г. и в интервала [41, 52] за хора, родени след 2000г., като пожелание може да проверявате и за интервала [21, 32] за хора, родени преди 1900г.\n",
        "    * Ако `bypass_checksum` e `False`, то последната 1 цифра трябва да е валиден checksum на останалите. Алгоритъмът за изчисляване на последната цифра може да намерите [тук](https://bg.wikipedia.org/wiki/Единен_граждански_номер#Структура)."
      ]
    },
    {
      "cell_type": "code",
      "execution_count": null,
      "metadata": {
        "id": "6FULj0E0MJ0r"
      },
      "outputs": [],
      "source": [
        "def is_valid_UCN(ucn, *, bypass_checksum=False):\n",
        "    pass  # write your code here\n",
        "\n",
        "print(is_valid_UCN(\"6101057509\") == True)\n",
        "print(is_valid_UCN(\"6101057500\", bypass_checksum=True) == True)\n",
        "print(is_valid_UCN(\"6101057500\") == False)\n",
        "print(is_valid_UCN(\"6913136669\") == False)"
      ]
    }
  ],
  "metadata": {
    "colab": {
      "include_colab_link": true,
      "provenance": []
    },
    "kernelspec": {
      "display_name": "Python 3 (ipykernel)",
      "language": "python",
      "name": "python3"
    },
    "language_info": {
      "codemirror_mode": {
        "name": "ipython",
        "version": 3
      },
      "file_extension": ".py",
      "mimetype": "text/x-python",
      "name": "python",
      "nbconvert_exporter": "python",
      "pygments_lexer": "ipython3",
      "version": "3.11.9"
    },
    "vscode": {
      "interpreter": {
        "hash": "b0fa6594d8f4cbf19f97940f81e996739fb7646882a419484c72d19e05852a7e"
      }
    }
  },
  "nbformat": 4,
  "nbformat_minor": 0
}
