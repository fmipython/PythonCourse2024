{
 "cells": [
  {
   "cell_type": "markdown",
   "metadata": {},
   "source": [
    "# Задачи по тема 4"
   ]
  },
  {
   "cell_type": "markdown",
   "metadata": {},
   "source": [
    "Важно ! Решенията на задачите трябва да бъдат написани изцяло във функционален стил - избягвайте цикли, мутация на данни и т.н. Позволено е да използвате list comprehension, map, filter, reduce и т.н."
   ]
  },
  {
   "cell_type": "markdown",
   "metadata": {},
   "source": [
    "## Задача 1 (0.75т.)"
   ]
  },
  {
   "cell_type": "markdown",
   "metadata": {},
   "source": [
    "Даден е `namedtuple`, моделиращ точка в двумерното пространство, както и функция `calculate_area`, която връща лицето на правоъгълника дефиниран от две точки.\n",
    "\n",
    "Даден е и `namedtuple` `Rectangle`, който моделира правоъгълник, дефиниран от две точки (`start` и `end`), заедно с неговото лице (`area`).\n",
    "\n",
    "Напишете функция `get_areas`, която приема списък с начални точки, списък с крайни точки и цяло число `n`. \n",
    "\n",
    "Като резултат от функцията се очаква да се върнат:\n",
    "- Всички правоъгълници, които имат лице по-голямо от `n` (под правоъгълник разбираме обекти от тип `Rectangle`)\n",
    "- Правоъгълнците, които отговарят на условието трябва да са сортирани в намаляващ ред спрямо лицата им\n",
    "    \n",
    "Пример:\n",
    "```python\n",
    "starting_points = [Point(2, 3), Point(0, 0), Point(3, 4), Point(5, 6)]\n",
    "ending_points = [Point(3, 4), Point(-5, -9), Point(7, 7), Point(5, 6)]\n",
    "\n",
    "get_areas(starting_points, ending_points, 9)\n",
    "```\n",
    "\n",
    "```\n",
    "[\n",
    "    Rectangle(Point(x=3, y=4), Point(x=7, y=7), 12),\n",
    "    Rectangle(Point(x=0, y=0), Point(x=-5, y=-9), 45), \n",
    "]\n",
    "```\n",
    "\n",
    "Лицата на правоъгълниците са 1, 45, 12 и 0. Филтрираме тези които имат лице > 9."
   ]
  },
  {
   "cell_type": "code",
   "execution_count": 1,
   "metadata": {},
   "outputs": [],
   "source": [
    "from collections import namedtuple\n",
    "\n",
    "Point = namedtuple('Point', ['x', 'y'])\n",
    "Rectangle = namedtuple('Rectangle', ['start', 'end', 'area'])\n",
    "\n",
    "def calculate_area(a, b):\n",
    "    width = abs(a.x - b.x)\n",
    "    height = abs(a.y - b.y)\n",
    "\n",
    "    return width * height"
   ]
  },
  {
   "cell_type": "code",
   "execution_count": 2,
   "metadata": {},
   "outputs": [],
   "source": [
    "def get_areas(starting_points, ending_points, n):\n",
    "    pass"
   ]
  },
  {
   "cell_type": "code",
   "execution_count": 3,
   "metadata": {},
   "outputs": [
    {
     "name": "stdout",
     "output_type": "stream",
     "text": [
      "✅ All OK! +0.75 point\n"
     ]
    }
   ],
   "source": [
    "starting_points = [\n",
    "    Point(2, 3), \n",
    "    Point(0, 0), \n",
    "    Point(3, 4), \n",
    "    Point(5, 6),\n",
    "    Point(3, 3),\n",
    "]\n",
    "ending_points = [\n",
    "    Point(3, 4), \n",
    "    Point(-5, -9), \n",
    "    Point(7, 7), \n",
    "    Point(5, 6),\n",
    "    Point(0, 0),\n",
    "]\n",
    "\n",
    "expected_result = [\n",
    "    Rectangle(Point(x=0, y=0), Point(x=-5, y=-9), 45), \n",
    "    Rectangle(Point(x=3, y=4), Point(x=7, y=7), 12),\n",
    "]\n",
    "\n",
    "assert get_areas(starting_points, ending_points, 9) == expected_result\n",
    "\n",
    "starting_points_2 = [\n",
    "    Point(3, 4),\n",
    "    Point(2, 3),\n",
    "    Point(5, 6),\n",
    "    Point(3, 3),\n",
    "    Point(0, 0),\n",
    "]\n",
    "ending_points_2 = [\n",
    "    Point(7, 7),\n",
    "    Point(3, 4),\n",
    "    Point(5, 6),\n",
    "    Point(0, 0),\n",
    "    Point(-5, -9),\n",
    "]\n",
    "\n",
    "expected_result_2 = [\n",
    "    Rectangle(Point(x=0, y=0), Point(x=-5, y=-9), 45),\n",
    "    Rectangle(Point(x=3, y=4), Point(x=7, y=7), 12),\n",
    "]\n",
    "\n",
    "print(\"✅ All OK! +0.75 point\")"
   ]
  },
  {
   "cell_type": "markdown",
   "metadata": {},
   "source": [
    "## Задача 2 (1.25т.)"
   ]
  },
  {
   "cell_type": "markdown",
   "metadata": {},
   "source": [
    "В шахa, конят се движи по един от следните начини:\n",
    "- две полета хоризонтално и едно вертикално\n",
    "- две полета вертикално и едно хоризонтално\n",
    "\n",
    "<img src=\"https://i.imgur.com/jRvOJaK.png\" style=\"width: 25%\"/>\n",
    "\n",
    "\n",
    "Напомняме, че редовете се номерират от 1 до 8, а колоните - от A до H. \n",
    "В случая, нашият кон е на позиция `d4`.\n",
    "Той може да се премести на следните позиции: `e7`, `f6`, `f4`, `e3`, `c3`, `b4`, `b6`, `c7`\n",
    "\n",
    "Напишете генератор, който приема начална позиция на кон, и връща всички възможни ходове."
   ]
  },
  {
   "cell_type": "code",
   "execution_count": 4,
   "metadata": {},
   "outputs": [
    {
     "name": "stdout",
     "output_type": "stream",
     "text": [
      "✅ All OK! +1.25 points\n"
     ]
    }
   ],
   "source": [
    "# Write your code here:\n",
    "def possible_moves(collumn, row):\n",
    "    pass\n",
    "    \n",
    "\n",
    "# 2 possible moves\n",
    "assert set(possible_moves('a', 1)) == {('c', 2), ('b', 3)}\n",
    "assert set(possible_moves('h', 1)) == {('f', 2), ('g', 3)}\n",
    "assert set(possible_moves('h', 8)) == {('f', 7), ('g', 6)}\n",
    "assert set(possible_moves('a', 8)) == {('c', 7), ('b', 6)}\n",
    "\n",
    "# 3 possible moves\n",
    "assert set(possible_moves('a', 2)) == {('c', 3), ('b', 4), ('c', 1)}\n",
    "assert set(possible_moves('a', 7)) == {('c', 6), ('b', 5), ('c', 8)}\n",
    "assert set(possible_moves('h', 2)) == {('g', 4), ('f', 1), ('f', 3)}\n",
    "assert set(possible_moves('h', 7)) == {('f', 6), ('g', 5), ('f', 8)}\n",
    "\n",
    "# 4 possible moves\n",
    "assert set(possible_moves('a', 3)) == {('c', 4), ('b', 5), ('b', 1), ('c', 2)}\n",
    "assert set(possible_moves('h', 6)) == {('g', 8), ('f', 5), ('g', 4), ('f', 7)}\n",
    "assert set(possible_moves('g', 2)) == {('e', 1), ('f', 4), ('h', 4), ('e', 3)}\n",
    "\n",
    "# 6 possible moves\n",
    "assert set(possible_moves('b', 3)) == {('c', 5), ('d', 2), ('c', 1), ('d', 4), ('a', 5), ('a', 1)}\n",
    "assert set(possible_moves('g', 6)) == {('f', 4), ('h', 4), ('e', 5), ('e', 7), ('h', 8), ('f', 8)}\n",
    "\n",
    "# 8 possible moves\n",
    "assert set(possible_moves('d', 4)) == {('b', 3), ('b', 5), ('c', 2), ('c', 6), ('e', 2), ('e', 6), ('f', 3), ('f', 5)}\n",
    "assert set(possible_moves('f', 6)) == {('h', 7), ('g', 8), ('e', 8), ('g', 4), ('d', 5), ('e', 4), ('h', 5), ('d', 7)}\n",
    "\n",
    "# Generator tests\n",
    "for move in possible_moves('a', 1):\n",
    "    assert move in {('c', 2), ('b', 3)}\n",
    "\n",
    "generator = possible_moves('a', 1)\n",
    "assert next(generator) in {('c', 2), ('b', 3)}\n",
    "assert next(generator) in {('c', 2), ('b', 3)}\n",
    "\n",
    "try:\n",
    "    next(generator)\n",
    "    assert False\n",
    "except StopIteration:\n",
    "    pass\n",
    "\n",
    "print(\"✅ All OK! +1.25 points\")"
   ]
  },
  {
   "cell_type": "markdown",
   "metadata": {},
   "source": [
    "## Задача 3 (0.75 т.)"
   ]
  },
  {
   "cell_type": "markdown",
   "metadata": {},
   "source": [
    "В езикът Rust съществува функция на име [take](https://doc.rust-lang.org/std/iter/trait.Iterator.html#method.take).\n",
    "\n",
    "Тя работи върху итератор, и връща нов итератор, с първите `n` елемента от него (или всички елементи, ако итератора е по-къс от `n`).\n",
    "\n",
    "В Python нямаме такава функция, затова нека си напишем една.\n",
    "\n",
    "Нашата Python имплементация ще приема два аргумента - `iterable` (итеруемото, от което ще взимаме елементи) и `n` (броят елементи, които ще вземем).\n",
    "Тя ще връща нов **генератор**, който ще съдържа само първите `n` елемента от `iterable` (или всички, ако дължината на `iterable` е под `n`).\n",
    "\n",
    "Ако `n` е отрицалтелно, нека се върне генератор с последните `n` елемента."
   ]
  },
  {
   "cell_type": "code",
   "execution_count": 5,
   "metadata": {},
   "outputs": [],
   "source": [
    "# Write your code here\n",
    "def take(iterable, n):\n",
    "    pass"
   ]
  },
  {
   "cell_type": "code",
   "execution_count": 6,
   "metadata": {},
   "outputs": [
    {
     "name": "stdout",
     "output_type": "stream",
     "text": [
      "✅ All OK! +0.75 points\n"
     ]
    }
   ],
   "source": [
    "sample = [1, 2, 3, 4, 5, 6]\n",
    "\n",
    "expected_1 = [1, 2, 3]\n",
    "actual_1 = list(take(sample, 3))\n",
    "\n",
    "expected_2 = []\n",
    "actual_2 = list(take(sample, 0))\n",
    "\n",
    "expected_3 = [1, 2, 3, 4, 5, 6]\n",
    "actual_3 = list(take(sample, 10))\n",
    "\n",
    "expected_4 = [1, 2, 3, 4]\n",
    "actual_4 = list(take(sample, 4))\n",
    "\n",
    "expected_5 = [5, 6]\n",
    "actual_5 = list(take(sample, -2))\n",
    "\n",
    "expected_5 = [3, 4, 5, 6]\n",
    "actual_5 = list(take(sample, -4))\n",
    "\n",
    "assert expected_1 == actual_1\n",
    "assert expected_2 == actual_2\n",
    "assert expected_3 == actual_3\n",
    "assert expected_4 == actual_4\n",
    "assert expected_5 == actual_5\n",
    "\n",
    "print(\"✅ All OK! +0.75 points\")"
   ]
  },
  {
   "cell_type": "markdown",
   "metadata": {},
   "source": [
    "## Задача 4 (1.25т.)"
   ]
  },
  {
   "cell_type": "markdown",
   "metadata": {},
   "source": [
    "За ефективна работа с изображения, тяхното представяне много често е във вид на матрица.\n",
    "Целта на тази задача е да се имплементират няколко прости операции върху изображения (матрици). \n",
    "\n",
    "За улеснение, матрица дефинираме като двумерен списък с размер `MxN` (`M` реда, и `N` колони) и елементи цели числа.\n",
    "\n",
    "Напишете следните функции, които модифицират даден матрица:\n",
    "\n",
    "- `rotate_clockwise` - завърта матрицата в посока на часовниковата стрелка\n",
    "- `rotate_counterclockwise` - завърта матрицата в посока обратна на часовниковата стрелка\n",
    "- `flip_horizontal` - връща огледална матрица, в хоризонтална посока\n",
    "- `flip_vertical` - връща огледална матрица, във вертикална посока\n",
    "\n",
    "\n",
    "Или казано по друг начин:\n",
    "\n",
    "$$ A = \\begin{pmatrix}1 & 2 & 3\\\\ 4 & 5 & 6\\\\ 7 & 8 & 9\\end{pmatrix} $$\n",
    "\n",
    "$$ rotate\\_clockwise(A) = \\begin{pmatrix}7 & 4 & 1\\\\ 8 & 5 & 2\\\\ 9 & 6 & 3\\end{pmatrix} $$\n",
    "$$ rotate\\_counterclockwise(A) = \\begin{pmatrix}3 & 6 & 9\\\\ 2 & 5 & 8\\\\ 1 & 4 & 7\\end{pmatrix} $$\n",
    "$$ flip\\_horizontal(A) = \\begin{pmatrix}3 & 2 & 1\\\\ 6 & 5 & 4\\\\ 9 & 8 & 7\\end{pmatrix} $$\n",
    "$$ flip\\_vertical(A) = \\begin{pmatrix}7 & 8 & 9\\\\ 4 & 5 & 6\\\\ 1 & 2 & 3\\end{pmatrix} $$\n",
    "\n",
    "Hint 1: Всяка една от четирите функции може да се напише на един ред."
   ]
  },
  {
   "cell_type": "code",
   "execution_count": 7,
   "metadata": {},
   "outputs": [],
   "source": [
    "# Use this for debugging, if needed\n",
    "def pretty_print(matrix):\n",
    "    print('-' * (len(matrix[0]) * 2 - 1))\n",
    "    for row in matrix:\n",
    "        print(' '.join(str(item) for item in row))\n",
    "    print('-' * (len(matrix[0]) * 2 - 1))\n",
    "\n",
    "\n",
    "def get_column(matrix, column):\n",
    "    pass\n",
    "\n",
    "def rotate_clockwise(matrix):\n",
    "    pass\n",
    "\n",
    "def rotate_counterclockwise(matrix):\n",
    "    pass\n",
    "\n",
    "def flip_horizontal(matrix):\n",
    "    pass\n",
    "\n",
    "def flip_vertical(matrix):\n",
    "    pass"
   ]
  },
  {
   "cell_type": "code",
   "execution_count": 8,
   "metadata": {},
   "outputs": [
    {
     "name": "stdout",
     "output_type": "stream",
     "text": [
      "✅ All OK! +1.25 points\n"
     ]
    }
   ],
   "source": [
    "matrix_1 = [[1, 2, 3], [4, 5, 6], [7, 8, 9]]\n",
    "\n",
    "expected_clockwise_1 = [[7, 4, 1], [8, 5, 2], [9, 6, 3]]\n",
    "expected_counterclockwise_1 = [[3, 6, 9], [2, 5, 8], [1, 4, 7]]\n",
    "expected_flip_horizontal_1 = [[3, 2, 1], [6, 5, 4], [9, 8, 7]]\n",
    "expected_flip_vertical_1 = [[7, 8, 9], [4, 5, 6], [1, 2, 3]]\n",
    "\n",
    "assert rotate_clockwise(matrix_1) == expected_clockwise_1\n",
    "assert rotate_counterclockwise(matrix_1) == expected_counterclockwise_1\n",
    "assert flip_horizontal(matrix_1) == expected_flip_horizontal_1\n",
    "assert flip_vertical(matrix_1) == expected_flip_vertical_1\n",
    "\n",
    "\n",
    "matrix_2 = [[1, 2], [3, 4], [5, 6], [7, 8]]\n",
    "\n",
    "expected_clockwise_2 = [[7, 5, 3, 1], [8, 6, 4, 2]]\n",
    "expected_counterclockwise_2 = [[2, 4, 6, 8], [1, 3, 5, 7]]\n",
    "expected_flip_horizontal_2 = [[2, 1], [4, 3], [6, 5], [8, 7]]\n",
    "expected_flip_vertical_2 = [[7, 8], [5, 6], [3, 4], [1, 2]]\n",
    "\n",
    "assert rotate_clockwise(matrix_2) == expected_clockwise_2\n",
    "assert rotate_counterclockwise(matrix_2) == expected_counterclockwise_2\n",
    "assert flip_horizontal(matrix_2) == expected_flip_horizontal_2\n",
    "assert flip_vertical(matrix_2) == expected_flip_vertical_2\n",
    "\n",
    "\n",
    "matrix_3 = [[1, 2, 3], [4, 5, 6]]\n",
    "\n",
    "expected_clockwise_3 = [[4, 1], [5, 2], [6, 3]]\n",
    "expected_counterclockwise_3 = [[3, 6], [2, 5], [1, 4]]\n",
    "expected_flip_horizontal_3 = [[3, 2, 1], [6, 5, 4]]\n",
    "expected_flip_vertical_3 = [[4, 5, 6], [1, 2, 3]]\n",
    "\n",
    "assert rotate_clockwise(matrix_3) == expected_clockwise_3\n",
    "assert rotate_counterclockwise(matrix_3) == expected_counterclockwise_3\n",
    "assert flip_horizontal(matrix_3) == expected_flip_horizontal_3\n",
    "assert flip_vertical(matrix_3) == expected_flip_vertical_3\n",
    "\n",
    "print(\"✅ All OK! +1.25 points\")"
   ]
  },
  {
   "cell_type": "markdown",
   "metadata": {},
   "source": [
    "## Задача 5 (1т.)"
   ]
  },
  {
   "cell_type": "markdown",
   "metadata": {},
   "source": [
    "Напишете декоратор на име `sdrawkcab` със следното поведение:\n",
    "- Ако резултатът от функцията е от тип `str`, връща низът обърнат отзад-напред\n",
    "- Ако резултатът е от тип `list`:\n",
    "    - За всеки елемент тип `str` в списъка, прилага горната трансформация.\n",
    "    - Всички други елементи не се променят.\n",
    "- Ако резултатът от функцията не е `str`, връща резултата без промяна.\n",
    "\n",
    "*Hint: Можем да проверим дали променлива е от даден тип с помощта на `isinstance`*"
   ]
  },
  {
   "cell_type": "code",
   "execution_count": 9,
   "metadata": {},
   "outputs": [],
   "source": [
    "def sdrawkcab(function):\n",
    "    pass\n"
   ]
  },
  {
   "cell_type": "code",
   "execution_count": 10,
   "metadata": {},
   "outputs": [
    {
     "name": "stdout",
     "output_type": "stream",
     "text": [
      "✅ All OK! +1 points\n"
     ]
    }
   ],
   "source": [
    "@sdrawkcab\n",
    "def my_string_function(name):\n",
    "    return f\"Hello, {name}\"\n",
    "\n",
    "@sdrawkcab\n",
    "def my_non_string_function():\n",
    "    return 42\n",
    "\n",
    "@sdrawkcab\n",
    "def list_of_strings():\n",
    "    return [\"ab\", \"yaj\", \"yaj\"]\n",
    "\n",
    "@sdrawkcab\n",
    "def list_of_ints():\n",
    "    return [15, 16]\n",
    "\n",
    "@sdrawkcab\n",
    "def mixed_list():\n",
    "    return [15, 16, \"si\", \"a\", \"doog\", \"ecalp\", \"ot\", \"evah\", \"a\", \"reeb\", \".\"]\n",
    "\n",
    "expected_my_string_function_1 = \"obuyL ,olleH\"\n",
    "expected_my_non_string_function = 42\n",
    "expected_my_string_function_2 = \"backwards ,olleH\"\n",
    "expected_list_of_strings = [\"ba\", \"jay\", \"jay\"]\n",
    "expected_list_of_ints = [15, 16]\n",
    "expected_mixed_list = [15, 16, \"is\", \"a\", \"good\", \"place\", \"to\", \"have\", \"a\", \"beer\", \".\"]\n",
    "\n",
    "assert my_string_function(\"Lyubo\") == expected_my_string_function_1\n",
    "assert my_non_string_function() == expected_my_non_string_function\n",
    "assert my_string_function(\"sdrawkcab\") == expected_my_string_function_2\n",
    "assert list_of_strings() == expected_list_of_strings\n",
    "assert list_of_ints() == expected_list_of_ints\n",
    "assert mixed_list() == expected_mixed_list\n",
    "\n",
    "print(\"✅ All OK! +1 points\")"
   ]
  }
 ],
 "metadata": {
  "kernelspec": {
   "display_name": "Python 3",
   "language": "python",
   "name": "python3"
  },
  "language_info": {
   "codemirror_mode": {
    "name": "ipython",
    "version": 3
   },
   "file_extension": ".py",
   "mimetype": "text/x-python",
   "name": "python",
   "nbconvert_exporter": "python",
   "pygments_lexer": "ipython3",
   "version": "3.11.0rc1"
  },
  "orig_nbformat": 4
 },
 "nbformat": 4,
 "nbformat_minor": 2
}
