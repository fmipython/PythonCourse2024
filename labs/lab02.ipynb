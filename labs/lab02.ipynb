{
 "cells": [
  {
   "cell_type": "markdown",
   "metadata": {},
   "source": [
    "# Задачи по тема 4"
   ]
  },
  {
   "cell_type": "markdown",
   "metadata": {},
   "source": [
    "**Важно !**\n",
    "Решенията на задачите трябва да бъдат написани изцяло във функционален стил - избягвайте цикли, мутация на данни и т.н. Позволено е да използвате list comprehension, map, filter, reduce и т.н."
   ]
  },
  {
   "cell_type": "markdown",
   "metadata": {},
   "source": [
    "## Задача 1 (0.25т)"
   ]
  },
  {
   "cell_type": "markdown",
   "metadata": {},
   "source": [
    "Напишете функция `compose`, която приема две функции `f` и `g` и връща нова функция `h`, която е композицията на `f` и `g`.\n",
    "\n",
    "Може да приемем, че `g` може да приема множество аргументи, а `f` - само един.\n",
    "(Композиция на две функции `f` и `g` е нова функция `h`, такава че `h(x) = f(g(x))`.)"
   ]
  },
  {
   "cell_type": "code",
   "execution_count": null,
   "metadata": {},
   "outputs": [],
   "source": [
    "def square(x):\n",
    "    return x * x\n",
    "\n",
    "def double(x):\n",
    "    return 2 * x\n",
    "\n",
    "def sum_(x, y):\n",
    "    return x + y\n",
    "\n",
    "# Write your code here:\n",
    "\n",
    "\n",
    "assert compose(square, double)(5) == 100\n",
    "assert compose(double, square)(5) == 50\n",
    "\n",
    "h = compose(square, double)\n",
    "assert h(5) == 100\n",
    "\n",
    "assert compose(double, sum_)(2, 3) == 10\n",
    "assert compose(square, sum_)(x=2, y=4) == 36\n",
    "\n",
    "\n",
    "\"✅ All OK! +0.25 points\""
   ]
  },
  {
   "cell_type": "markdown",
   "metadata": {},
   "source": [
    "## Задача 2 (0.5т)"
   ]
  },
  {
   "cell_type": "markdown",
   "metadata": {},
   "source": [
    "Нека имаме функции, които връщат `True` или `False`.\n",
    "\n",
    "Напишете декоратор на име `retry`, който извиква дадена функция, докато тя не върне `True` или не се преминат 3 опита."
   ]
  },
  {
   "cell_type": "code",
   "execution_count": null,
   "metadata": {},
   "outputs": [],
   "source": [
    "# ---Internal state, do not touch---\n",
    "counters = {\n",
    "    'pass_instantly': 0,\n",
    "    'pass_after_third_try': 0,\n",
    "    'pass_after_fifth_try': 0,\n",
    "    'never_pass': 0,\n",
    "}\n",
    "\n",
    "# Write your code here:\n",
    "\n",
    "\n",
    "# Tests\n",
    "@retry\n",
    "def pass_instantly():\n",
    "    counters['pass_instantly'] += 1\n",
    "    return True\n",
    "\n",
    "@retry\n",
    "def pass_after_third_try():\n",
    "    counters['pass_after_third_try'] += 1\n",
    "    return counters['pass_after_third_try'] == 3\n",
    "\n",
    "@retry\n",
    "def pass_after_fifth_try():\n",
    "    counters['pass_after_fifth_try'] += 1\n",
    "    return counters['pass_after_fifth_try'] == 5\n",
    "\n",
    "@retry\n",
    "def never_pass():\n",
    "    counters['never_pass'] += 1\n",
    "    return False\n",
    "\n",
    "\n",
    "assert pass_instantly() == True\n",
    "assert counters['pass_instantly'] == 1\n",
    "assert pass_after_third_try() == True\n",
    "assert counters['pass_after_third_try'] == 3\n",
    "assert pass_after_fifth_try() == False\n",
    "assert counters['pass_after_fifth_try'] == 3\n",
    "assert never_pass() == False\n",
    "assert counters['never_pass'] == 3\n",
    "\n",
    "\"✅ All OK! +0.5 points\""
   ]
  },
  {
   "cell_type": "markdown",
   "metadata": {},
   "source": [
    "## Задача 3 (0.5т)"
   ]
  },
  {
   "cell_type": "markdown",
   "metadata": {},
   "source": [
    "Напишете функция на име `pair_up`, която приема списък от елементи, и връща нов списък, съставен от елементите на първия, групирани по двойки.\n",
    "\n",
    "Или по-формално: ако $ l = [a_1, a_2, a_3, ...a_i, a_{i+1}, a_n] $, то $ pair\\_up(l) = [(a_1, a_2), ..., (a_i, a_{i+1}), (a_{n-1}, a_n)] $"
   ]
  },
  {
   "cell_type": "code",
   "execution_count": null,
   "metadata": {},
   "outputs": [],
   "source": [
    "list_1 = [1, 2, 3, 4, 5, 6]\n",
    "list_2 = [1, 2, 3, 4, 5]\n",
    "list_3 = []\n",
    "list_4 = [1]\n",
    "list_5 = [1, 2]\n",
    "\n",
    "\n",
    "# Write your code here:\n",
    "\n",
    "\n",
    "assert pair_up(list_1) == [(1, 2), (3, 4), (5, 6)]\n",
    "assert pair_up(list_2) == [(1, 2), (3, 4)]  # We ignore the last element, if we cannot pair it up\n",
    "assert pair_up(list_3) == []\n",
    "assert pair_up(list_4) == []\n",
    "assert pair_up(list_5) == [(1, 2)]\n",
    "\n",
    "\"✅ All OK! +0.5 points\""
   ]
  },
  {
   "cell_type": "markdown",
   "metadata": {},
   "source": [
    "## Задача 4 (0.5т + 0.5т)"
   ]
  },
  {
   "cell_type": "markdown",
   "metadata": {},
   "source": [
    "Дадена е матрица с размери `MxM` от цели числа. \n",
    "\n",
    "\"Сила\" на матрицата дефинираме като сумата на елементите по главния диагонал минус сумата на елементите по вторичния диагонал.\n",
    "\n",
    "Напишете функция `power_of_matrix`, която изчислява силата на дадена матрица.\n",
    "\n",
    "**Забележка**: Напишете функция по два начина:\n",
    "1. Чрез използване на list comprehension и `sum`\n",
    "2. Чрез използване на `map` и `reduce`"
   ]
  },
  {
   "cell_type": "code",
   "execution_count": null,
   "metadata": {},
   "outputs": [],
   "source": [
    "from functools import reduce\n",
    "\n",
    "matrix_1 = [\n",
    "    [1, 2, 3],\n",
    "    [4, 5, 6],\n",
    "    [7, 8, 9]\n",
    "]\n",
    "\n",
    "matrix_2 = [\n",
    "    [2, 3, 4, 5],\n",
    "    [5, 6, 7, 8],\n",
    "    [9, 1, 6, 3],\n",
    "    [-2, 3, 7, 7]\n",
    "]\n",
    "\n",
    "matrix_3 = []\n",
    "\n",
    "# Write your code here\n",
    "\n",
    "\n",
    "assert power_of_matrix(matrix_1) == 0\n",
    "assert power_of_matrix(matrix_2) == 10\n",
    "assert power_of_matrix(matrix_3) == 0\n",
    "\"✅ All OK! +0.5 points\""
   ]
  },
  {
   "cell_type": "markdown",
   "metadata": {},
   "source": [
    "## Задача 5 (1.5т)"
   ]
  },
  {
   "cell_type": "markdown",
   "metadata": {},
   "source": [
    "В шахa, конят се движи по един от следните начини:\n",
    "- две полета хоризонтално и едно вертикално\n",
    "- две полета вертикално и едно хоризонтално\n",
    "\n",
    "<img src=\"https://i.imgur.com/jRvOJaK.png\" style=\"width: 25%\"/>\n",
    "\n",
    "\n",
    "Напомняме, че редовете се номерират от 1 до 8, а колоните - от A до H. \n",
    "В случая, нашият кон е на позиция `d4`.\n",
    "Той може да се премести на следните позиции: `e7`, `f6`, `f4`, `e3`, `c3`, `b4`, `b6`, `c7`\n",
    "\n",
    "Напишете генератор, който приема начална позиция на кон, и връща всички възможни ходове."
   ]
  },
  {
   "cell_type": "code",
   "execution_count": null,
   "metadata": {},
   "outputs": [],
   "source": [
    "# Write your code here:\n",
    "\n",
    "\n",
    "# 2 possible moves\n",
    "assert set(possible_moves('a', 1)) == {('c', 2), ('b', 3)}\n",
    "assert set(possible_moves('h', 1)) == {('f', 2), ('g', 3)}\n",
    "assert set(possible_moves('h', 8)) == {('f', 7), ('g', 6)}\n",
    "assert set(possible_moves('a', 8)) == {('c', 7), ('b', 6)}\n",
    "\n",
    "# 3 possible moves\n",
    "assert set(possible_moves('a', 2)) == {('c', 3), ('b', 4), ('c', 1)}\n",
    "assert set(possible_moves('a', 7)) == {('c', 6), ('b', 5), ('c', 8)}\n",
    "assert set(possible_moves('h', 2)) == {('g', 4), ('f', 1), ('f', 3)}\n",
    "assert set(possible_moves('h', 7)) == {('f', 6), ('g', 5), ('f', 8)}\n",
    "\n",
    "# 4 possible moves\n",
    "assert set(possible_moves('a', 3)) == {('c', 4), ('b', 5), ('b', 1), ('c', 2)}\n",
    "assert set(possible_moves('h', 6)) == {('g', 8), ('f', 5), ('g', 4), ('f', 7)}\n",
    "assert set(possible_moves('g', 2)) == {('e', 1), ('f', 4), ('h', 4), ('e', 3)}\n",
    "\n",
    "# 6 possible moves\n",
    "assert set(possible_moves('b', 3)) == {('c', 5), ('d', 2), ('c', 1), ('d', 4), ('a', 5), ('a', 1)}\n",
    "assert set(possible_moves('g', 6)) == {('f', 4), ('h', 4), ('e', 5), ('e', 7), ('h', 8), ('f', 8)}\n",
    "\n",
    "# 8 possible moves\n",
    "assert set(possible_moves('d', 4)) == {('b', 3), ('b', 5), ('c', 2), ('c', 6), ('e', 2), ('e', 6), ('f', 3), ('f', 5)}\n",
    "assert set(possible_moves('f', 6)) == {('h', 7), ('g', 8), ('e', 8), ('g', 4), ('d', 5), ('e', 4), ('h', 5), ('d', 7)}\n",
    "\n",
    "# Generator tests\n",
    "for move in possible_moves('a', 1):\n",
    "    assert move in {('c', 2), ('b', 3)}\n",
    "\n",
    "generator = possible_moves('a', 1)\n",
    "assert next(generator) in {('c', 2), ('b', 3)}\n",
    "assert next(generator) in {('c', 2), ('b', 3)}\n",
    "\n",
    "try:\n",
    "    next(generator)\n",
    "    assert False\n",
    "except StopIteration:\n",
    "    pass\n",
    "\n",
    "\"✅ All OK! +1.5 points\""
   ]
  },
  {
   "cell_type": "markdown",
   "metadata": {},
   "source": [
    "## Задача 6 (1.5т)"
   ]
  },
  {
   "cell_type": "markdown",
   "metadata": {},
   "source": [
    "Дефинираме операцията конволюция на два списъка по следния начин:\n",
    "\n",
    "$ X = {x_0, x_1, ..., x_n} $, $ Y = {y_0, y_1, ..., y_n} $\n",
    "\n",
    "$ f(X, Y) = { \\{ \\sum_{\\substack{i, j \\\\ i+j=m}} X_i * Y_j | m=0..{2n-1}\\}}$  \n",
    "\n",
    "\n",
    "\n",
    "Напишете функция `conv`, която приема два списъка и връща резултата от тяхната конволюция."
   ]
  },
  {
   "cell_type": "code",
   "execution_count": null,
   "metadata": {},
   "outputs": [],
   "source": [
    "# Write your code here:\n",
    "\n",
    "\n",
    "\n",
    "assert conv([1, 2, 3], [4, 5, 6]) == [4, 13, 28, 27, 18]\n",
    "assert conv([1, 2, 3], [3, 2, 1]) == [3, 8, 14, 8, 3]\n",
    "\n",
    "assert conv([2, 4, 6, 7], [-1, -2, -3, -4]) == [-2, -8, -20, -39, -48, -45, -28]\n",
    "\n",
    "assert conv([1], [2]) == [2]\n",
    "assert conv([], []) == []\n",
    "\n",
    "\"✅ All OK! +1.5 points\""
   ]
  },
  {
   "cell_type": "markdown",
   "metadata": {},
   "source": [
    "## Задача 7 (0.75т)"
   ]
  },
  {
   "cell_type": "markdown",
   "metadata": {},
   "source": [
    "Разполагаме със стандартната игра \"Tic-Tac-Toe\" (или \"X and O\").\n",
    "\n",
    "Напишете функция `determine_winner`, която намира победителя в дадена игра.\n",
    "\n",
    "Функцията ще приема дъска, която е представена като двумерен списък.\n",
    "Стойностите могат да бъдат 'X', 'O' или None (празно поле).\n",
    "\n",
    "Функцията връща \"X\", \"O\" или \"Draw\".\n",
    "\n"
   ]
  },
  {
   "cell_type": "code",
   "execution_count": null,
   "metadata": {},
   "outputs": [],
   "source": [
    "# Write your code here:\n",
    "\n",
    "\n",
    "board_1 = [\n",
    "    ['X', 'O', 'X'],\n",
    "    ['O', 'X', 'O'],\n",
    "    ['O', 'X', 'X']\n",
    "]\n",
    "board_2 = [\n",
    "    ['X', 'O', 'X'],\n",
    "    ['O', 'O', 'O'],\n",
    "    ['O', 'X', 'X']\n",
    "]\n",
    "board_3 = [\n",
    "    ['X', 'O', 'X'],\n",
    "    ['O', 'X', 'O'],\n",
    "    ['O', 'X', 'O']\n",
    "]\n",
    "\n",
    "board_4 = [\n",
    "    ['X', 'X', 'X'],\n",
    "    ['O', 'O', None],\n",
    "    [None, None, None]\n",
    "]\n",
    "\n",
    "board_5 = [\n",
    "    ['X', 'O', 'X'],\n",
    "    ['O', 'X', 'X'],\n",
    "    ['O', 'O', 'O']\n",
    "]\n",
    "\n",
    "board_6 = [\n",
    "    ['O', 'O', 'X'],\n",
    "    ['O', 'X', None],\n",
    "    ['X', 'X', None]\n",
    "]\n",
    "\n",
    "board_7 = [\n",
    "    ['X', 'O', 'X'],\n",
    "    ['X', 'O', 'O'],\n",
    "    ['X', 'X', 'O']\n",
    "]\n",
    "\n",
    "board_8 = [\n",
    "    ['O', 'X', 'O'],\n",
    "    ['O', 'X', None],\n",
    "    ['X', 'X', None]\n",
    "]\n",
    "\n",
    "board_9 = [\n",
    "    ['X', 'X', 'O'],\n",
    "    [None, 'X', 'O'],\n",
    "    [None, None, 'O']\n",
    "]\n",
    "\n",
    "\n",
    "assert determine_winner(board_1) == 'X'\n",
    "assert determine_winner(board_2) == 'O'\n",
    "assert determine_winner(board_3) == 'Draw'\n",
    "assert determine_winner(board_4) == 'X'\n",
    "assert determine_winner(board_5) == 'O'\n",
    "assert determine_winner(board_6) == 'X'\n",
    "assert determine_winner(board_7) == 'X'\n",
    "assert determine_winner(board_8) == 'X'\n",
    "assert determine_winner(board_9) == 'O'\n",
    "\n",
    "\"✅ All OK! +0.75 points\""
   ]
  }
 ],
 "metadata": {
  "kernelspec": {
   "display_name": ".venv",
   "language": "python",
   "name": "python3"
  },
  "language_info": {
   "codemirror_mode": {
    "name": "ipython",
    "version": 3
   },
   "file_extension": ".py",
   "mimetype": "text/x-python",
   "name": "python",
   "nbconvert_exporter": "python",
   "pygments_lexer": "ipython3",
   "version": "3.10.12"
  },
  "orig_nbformat": 4
 },
 "nbformat": 4,
 "nbformat_minor": 2
}
